{
 "cells": [
  {
   "cell_type": "code",
   "execution_count": 28,
   "metadata": {},
   "outputs": [],
   "source": [
    "from datetime import datetime\n",
    "\n",
    "class Forum:\n",
    "    messages = []\n",
    "\n",
    "    def init(self):\n",
    "        self.messages = []\n",
    "\n",
    "    def recupDate(self):\n",
    "        dateBrute = str(datetime.now())\n",
    "        date = dateBrute[11:13] + \"h\" + dateBrute[14:16] + \"m\" + dateBrute[17:19] + \"s\"\n",
    "        return date\n",
    "\n",
    "    def calculDate(self, date2):\n",
    "            msg_date = date2.split()\n",
    "            date = \"\"\n",
    "            i=0\n",
    "            while msg_date[i].isdigit() :\n",
    "                date += msg_date[i]\n",
    "                i+=1\n",
    "            heure = int(date[0:2])\n",
    "            while msg_date[i].isdigit() :\n",
    "                date += msg_date[i]\n",
    "                i+=1\n",
    "            minute = int(date[2:4])\n",
    "            while len(msg_date) and msg_date[i].isdigit() :\n",
    "                date += msg_date[i]\n",
    "                i+=1\n",
    "            seconde = int(date[4:6])\n",
    "            total = 3600*heure+60*minute+seconde\n",
    "            return (total)\n",
    "    \n",
    "    def recupererMessagesAnonymes(self, date_debut, date_fin) :\n",
    "        for msg in self.messages :\n",
    "            date = self.calculDate(msg[1])\n",
    "            date_start = self.calculDate(date_debut)\n",
    "            date_end = self.calculDate(date_fin)\n",
    "            if date > date_start and date < date_end :\n",
    "                print(msg)\n",
    "\n",
    "    def posterMessageAnonyme(self, message) :\n",
    "        date = self.recupDate()\n",
    "        self.messages.append([message, date])\n",
    "\n"
   ]
  },
  {
   "cell_type": "code",
   "execution_count": 29,
   "metadata": {},
   "outputs": [
    {
     "name": "stdout",
     "output_type": "stream",
     "text": [
      "start\n",
      "entrez la date au format 11h02m03s\n",
      "\n"
     ]
    },
    {
     "ename": "ValueError",
     "evalue": "invalid literal for int() with base 10: ''",
     "output_type": "error",
     "traceback": [
      "\u001b[1;31m---------------------------------------------------------------------------\u001b[0m",
      "\u001b[1;31mValueError\u001b[0m                                Traceback (most recent call last)",
      "\u001b[1;32m<ipython-input-29-b65e85eed144>\u001b[0m in \u001b[0;36m<module>\u001b[1;34m\u001b[0m\n\u001b[0;32m      8\u001b[0m             \u001b[0mdate_debut\u001b[0m \u001b[1;33m=\u001b[0m \u001b[0minput\u001b[0m\u001b[1;33m(\u001b[0m\u001b[1;33m)\u001b[0m\u001b[1;33m\u001b[0m\u001b[1;33m\u001b[0m\u001b[0m\n\u001b[0;32m      9\u001b[0m             \u001b[0mdate_fin\u001b[0m \u001b[1;33m=\u001b[0m \u001b[0minput\u001b[0m\u001b[1;33m(\u001b[0m\u001b[1;33m)\u001b[0m\u001b[1;33m\u001b[0m\u001b[1;33m\u001b[0m\u001b[0m\n\u001b[1;32m---> 10\u001b[1;33m             \u001b[0mforum\u001b[0m\u001b[1;33m.\u001b[0m\u001b[0mrecupererMessagesAnonymes\u001b[0m\u001b[1;33m(\u001b[0m\u001b[0mdate_debut\u001b[0m\u001b[1;33m,\u001b[0m \u001b[0mdate_fin\u001b[0m\u001b[1;33m)\u001b[0m\u001b[1;33m\u001b[0m\u001b[1;33m\u001b[0m\u001b[0m\n\u001b[0m\u001b[0;32m     11\u001b[0m         \u001b[1;32melse\u001b[0m \u001b[1;33m:\u001b[0m\u001b[1;33m\u001b[0m\u001b[1;33m\u001b[0m\u001b[0m\n\u001b[0;32m     12\u001b[0m             \u001b[0mforum\u001b[0m\u001b[1;33m.\u001b[0m\u001b[0mposterMessageAnonyme\u001b[0m\u001b[1;33m(\u001b[0m\u001b[0mstring\u001b[0m\u001b[1;33m)\u001b[0m\u001b[1;33m\u001b[0m\u001b[1;33m\u001b[0m\u001b[0m\n",
      "\u001b[1;32m<ipython-input-28-ea850f7accb4>\u001b[0m in \u001b[0;36mrecupererMessagesAnonymes\u001b[1;34m(self, date_debut, date_fin)\u001b[0m\n\u001b[0;32m     34\u001b[0m     \u001b[1;32mdef\u001b[0m \u001b[0mrecupererMessagesAnonymes\u001b[0m\u001b[1;33m(\u001b[0m\u001b[0mself\u001b[0m\u001b[1;33m,\u001b[0m \u001b[0mdate_debut\u001b[0m\u001b[1;33m,\u001b[0m \u001b[0mdate_fin\u001b[0m\u001b[1;33m)\u001b[0m \u001b[1;33m:\u001b[0m\u001b[1;33m\u001b[0m\u001b[1;33m\u001b[0m\u001b[0m\n\u001b[0;32m     35\u001b[0m         \u001b[1;32mfor\u001b[0m \u001b[0mmsg\u001b[0m \u001b[1;32min\u001b[0m \u001b[0mself\u001b[0m\u001b[1;33m.\u001b[0m\u001b[0mmessages\u001b[0m \u001b[1;33m:\u001b[0m\u001b[1;33m\u001b[0m\u001b[1;33m\u001b[0m\u001b[0m\n\u001b[1;32m---> 36\u001b[1;33m             \u001b[0mdate\u001b[0m \u001b[1;33m=\u001b[0m \u001b[0mself\u001b[0m\u001b[1;33m.\u001b[0m\u001b[0mcalculDate\u001b[0m\u001b[1;33m(\u001b[0m\u001b[0mmsg\u001b[0m\u001b[1;33m[\u001b[0m\u001b[1;36m1\u001b[0m\u001b[1;33m]\u001b[0m\u001b[1;33m)\u001b[0m\u001b[1;33m\u001b[0m\u001b[1;33m\u001b[0m\u001b[0m\n\u001b[0m\u001b[0;32m     37\u001b[0m             \u001b[0mdate_start\u001b[0m \u001b[1;33m=\u001b[0m \u001b[0mself\u001b[0m\u001b[1;33m.\u001b[0m\u001b[0mcalculDate\u001b[0m\u001b[1;33m(\u001b[0m\u001b[0mdate_debut\u001b[0m\u001b[1;33m)\u001b[0m\u001b[1;33m\u001b[0m\u001b[1;33m\u001b[0m\u001b[0m\n\u001b[0;32m     38\u001b[0m             \u001b[0mdate_end\u001b[0m \u001b[1;33m=\u001b[0m \u001b[0mself\u001b[0m\u001b[1;33m.\u001b[0m\u001b[0mcalculDate\u001b[0m\u001b[1;33m(\u001b[0m\u001b[0mdate_fin\u001b[0m\u001b[1;33m)\u001b[0m\u001b[1;33m\u001b[0m\u001b[1;33m\u001b[0m\u001b[0m\n",
      "\u001b[1;32m<ipython-input-28-ea850f7accb4>\u001b[0m in \u001b[0;36mcalculDate\u001b[1;34m(self, date2)\u001b[0m\n\u001b[0;32m     20\u001b[0m                 \u001b[0mi\u001b[0m\u001b[1;33m+=\u001b[0m\u001b[1;36m1\u001b[0m\u001b[1;33m\u001b[0m\u001b[1;33m\u001b[0m\u001b[0m\n\u001b[0;32m     21\u001b[0m             \u001b[0mprint\u001b[0m\u001b[1;33m(\u001b[0m\u001b[0mdate\u001b[0m\u001b[1;33m)\u001b[0m\u001b[1;33m\u001b[0m\u001b[1;33m\u001b[0m\u001b[0m\n\u001b[1;32m---> 22\u001b[1;33m             \u001b[0mheure\u001b[0m \u001b[1;33m=\u001b[0m \u001b[0mint\u001b[0m\u001b[1;33m(\u001b[0m\u001b[0mdate\u001b[0m\u001b[1;33m[\u001b[0m\u001b[1;36m0\u001b[0m\u001b[1;33m:\u001b[0m\u001b[1;36m2\u001b[0m\u001b[1;33m]\u001b[0m\u001b[1;33m)\u001b[0m\u001b[1;33m\u001b[0m\u001b[1;33m\u001b[0m\u001b[0m\n\u001b[0m\u001b[0;32m     23\u001b[0m             \u001b[1;32mwhile\u001b[0m \u001b[0mmsg_date\u001b[0m\u001b[1;33m[\u001b[0m\u001b[0mi\u001b[0m\u001b[1;33m]\u001b[0m\u001b[1;33m.\u001b[0m\u001b[0misdigit\u001b[0m\u001b[1;33m(\u001b[0m\u001b[1;33m)\u001b[0m \u001b[1;33m:\u001b[0m\u001b[1;33m\u001b[0m\u001b[1;33m\u001b[0m\u001b[0m\n\u001b[0;32m     24\u001b[0m                 \u001b[0mdate\u001b[0m \u001b[1;33m+=\u001b[0m \u001b[0mmsg_date\u001b[0m\u001b[1;33m[\u001b[0m\u001b[0mi\u001b[0m\u001b[1;33m]\u001b[0m\u001b[1;33m\u001b[0m\u001b[1;33m\u001b[0m\u001b[0m\n",
      "\u001b[1;31mValueError\u001b[0m: invalid literal for int() with base 10: ''"
     ]
    }
   ],
   "source": [
    "if __name__ == \"__main__\" :\n",
    "    print(\"start\")\n",
    "    forum = Forum()\n",
    "    while(True) :\n",
    "        string = input()\n",
    "        if \"show_message\" == string :\n",
    "            print(\"entrez la date au format 11h02m03s\" )\n",
    "            date_debut = input()\n",
    "            date_fin = input()\n",
    "            forum.recupererMessagesAnonymes(date_debut, date_fin)\n",
    "        else :\n",
    "            forum.posterMessageAnonyme(string)"
   ]
  },
  {
   "cell_type": "markdown",
   "metadata": {},
   "source": [
    "# <b> Canal de diffusion anonyme et génération de secret </b>\n",
    "\n",
    "<i> Compte-rendu du TP2 par Valentin SÉRÉE et Jérémy SERENA [INFO3]</i>"
   ]
  }
 ],
 "metadata": {
  "interpreter": {
   "hash": "c31a8fa1ea96ce444b00e568c3a2f6372261fec3030fa28b4a4e535375dd3e17"
  },
  "kernelspec": {
   "display_name": "Python 3.8.8 64-bit ('base': conda)",
   "name": "python3"
  },
  "language_info": {
   "codemirror_mode": {
    "name": "ipython",
    "version": 3
   },
   "file_extension": ".py",
   "mimetype": "text/x-python",
   "name": "python",
   "nbconvert_exporter": "python",
   "pygments_lexer": "ipython3",
   "version": "3.8.8"
  },
  "orig_nbformat": 4
 },
 "nbformat": 4,
 "nbformat_minor": 2
}
