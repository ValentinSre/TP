{
 "cells": [
  {
   "cell_type": "markdown",
   "metadata": {},
   "source": [
    "# <b> Canal de diffusion anonyme et génération de secret </b>\n",
    "\n",
    "<i> Compte-rendu du TP2 par Valentin SÉRÉE et Jérémy SERENA [INFO3]</i>"
   ]
  },
  {
   "cell_type": "markdown",
   "metadata": {},
   "source": [
    "<h2> <u>Partie 1 :</u> Canal de diffusion anonyme </h2>"
   ]
  },
  {
   "cell_type": "code",
   "execution_count": null,
   "metadata": {},
   "outputs": [],
   "source": [
    "from datetime import datetime\n",
    "\n",
    "class Forum:\n",
    "    messages = []\n",
    "\n",
    "    def init(self):\n",
    "        self.messages = []\n",
    "\n",
    "    def recupDate(self): # Récupère la date courante\n",
    "        date = str(datetime.now().time())\n",
    "        return date\n",
    "\n",
    "    def calculDate(self, dateAConvertir): # Convertit une string en date (car les dates sont stockées au format string)\n",
    "        dateConvertie = datetime.strptime(dateAConvertir, \"%H:%M:%S.%f\").time()\n",
    "        return dateConvertie\n",
    "    \n",
    "    def recupererMessagesAnonymes(self, date_debut, date_fin) : # Récupère tous les messages situés entre deux dates\n",
    "        listeMessages = [] # Messages concernés à renvoyer\n",
    "        for msg in self.messages : # On regarde chaque message posté sur le forum\n",
    "            date = self.calculDate(msg[0]) # On convertit la date (stockée en string) en une date\n",
    "            if date > date_debut and date < date_fin : # On regarde si la date du message est comprise entre les deux dates\n",
    "                listeMessages.append(msg) # Si oui, on l'ajoute aux messages à renvoyer\n",
    "        return listeMessages\n",
    "\n",
    "    def posterMessageAnonyme(self, message) : # Ajoute un message au forum anonymement\n",
    "        date = self.recupDate() # On récupère la date du message\n",
    "        self.messages.append([date, message]) # On ajoute le message daté\n",
    "        return date\n",
    "\n"
   ]
  },
  {
   "cell_type": "code",
   "execution_count": null,
   "metadata": {},
   "outputs": [],
   "source": [
    "# Main à exécuter pour pouvoir interagir avec le forum\n",
    "# Une barre de saisie va être proposée à l'interlocuteur\n",
    "# Il pourra alors soit :\n",
    "    # - écrire un message anonymement\n",
    "    # - lire les messages postés sur le forum (utiliser \"lecture\")\n",
    "        # (il faut pour cela entrer 2 heures au format HH:MM:SS)\n",
    "    # - arrêter la communication (utiliser \"fin_convo\")\n",
    "\n",
    "if __name__ == \"__main__\" :\n",
    "    print(\"Ouverture du forum\")\n",
    "    print(\"Vous pouvez communiquer sur ce forum (anonymement)\")\n",
    "    print(\"Pour lire des messages du forum, tapez 'lecture'\")\n",
    "    print(\"Pour arrêter la discussion, tapez 'fin_convo'\")\n",
    "    forum = Forum()\n",
    "    discussion=True\n",
    "    while(discussion) :\n",
    "        string = input()\n",
    "        if \"lecture\" == string :\n",
    "            print(\"Entrez la date de début au format HH:MM:SS\" )\n",
    "            date_debut = input()\n",
    "            print(\"Entrez la date de fin au format HH:MM:SS\" )\n",
    "            date_fin = input()\n",
    "            begin = forum.calculDate(date_debut + \".000000\")\n",
    "            end = forum.calculDate(date_fin + \".000000\")\n",
    "            print(forum.recupererMessagesAnonymes(begin, end))\n",
    "        elif string == \"fin_convo\":\n",
    "            discussion=False\n",
    "        else:\n",
    "            forum.posterMessageAnonyme(string)"
   ]
  },
  {
   "cell_type": "markdown",
   "metadata": {},
   "source": [
    "<h2> <u>Partie 2 :</u> Génération de secret via canal de diffusion anonyme </h2>"
   ]
  },
  {
   "cell_type": "code",
   "execution_count": null,
   "metadata": {},
   "outputs": [],
   "source": [
    "import time\n",
    "import random\n",
    "import threading\n",
    "\n",
    "ver = threading.Lock()\n",
    "\n",
    "class User() :\n",
    "\n",
    "    def __init__(self) :\n",
    "        self.historique = {}\n",
    "        self.name = \"\"\n",
    "        self.partner = \"\"\n",
    "\n",
    "    # Fonction pour générer un secret :\n",
    "    # le participant tire un bit et envoie ensuite un des deux noms\n",
    "    # Se déroule pendant un temps donné\n",
    "    def genererSecret(self, prenom1, prenom2, temps):\n",
    "        self.name = prenom1 # le prénom 1 est le prénom de l'utilisateur\n",
    "        self.partner = prenom2 # le prénom 2 est le prénom de son interlocuteur\n",
    "        fin = time.time() + temps # on fixe l'heure de fin\n",
    "        while (time.time() < fin): # tant que l'heure de fin n'est pas atteinte\n",
    "            attente = 0.1 * random.randint(1, 10) # on définit une attente entre 1 et 10ms\n",
    "            bit = random.randint(0, 1) # on tire au sort un bit (0 ou 1)\n",
    "            if bit == 0 : # si le bit est 0, l'utilisateur renverra son prénom\n",
    "                message = self.name\n",
    "            else : # sinon, il renvoie le prénom de son adversaire\n",
    "                message = self.partner\n",
    "            global ver\n",
    "            ver.acquire()\n",
    "            date = self.forum.posterMessageAnonyme(message) # l'utilisateur envoie son message anonymement sur le forum\n",
    "            self.historique[date] = message # il ajoute ce message à son historique personnel\n",
    "            time.sleep(attente) # il attend X millisecondes\n",
    "            ver.release()\n",
    "\n",
    "    # Fonction pour extraire un secret :\n",
    "    # le participant accède à la liste des messages envoyés par les 2 interlocuteurs\n",
    "    # Il compare ses envois aux envois globaux et en déduit un secret commun\n",
    "    def extraireSecret(self, dateDebut, dateFin):\n",
    "        secret = \"\" \n",
    "        messages = forum.recupererMessagesAnonymes(dateDebut, dateFin) # L'utilisateur récupère les messages envoyés\n",
    "        for i in range (len(messages)): # On parcourt tous les messages envoyés\n",
    "            if messages[i][0] in self.historique: # si le message daté a été envoyé par lui\n",
    "                if (messages[i][1] == self.name): # si le message comporte son prénom (et qu'il est envoyé par lui)\n",
    "                    secret+=\"0\" # on ajoute 0 au secret\n",
    "                else: # si le message comporte le prénom de son partenaire\n",
    "                    secret+=\"1\" # on ajoute 1 au secret\n",
    "            else: # si le message est envoyé par le partenaire\n",
    "                if (messages[i][1] == self.partner): # si le message comporte le prénom de son partenaire\n",
    "                    secret+=\"0\" # on ajoute 0 au secret\n",
    "                else: # si le message comporte son prénom\n",
    "                    secret+=\"1\" # on ajoute 1 au secret\n",
    "        return secret "
   ]
  },
  {
   "cell_type": "code",
   "execution_count": null,
   "metadata": {},
   "outputs": [],
   "source": [
    "# =============================================================\n",
    "# VARIABLE À METTRE À JOUR POUR MODIFIER LA DURÉE DE L'ÉCHANGE\n",
    "\n",
    "TEMPS_EX = 10 \n",
    "\n",
    "# =============================================================\n",
    "\n",
    "# Fonctions pour exécuter les threads en parallèle (et avoir ainsi un vrai échange simultané)\n",
    "def exec1() :\n",
    "    global TEMPS_EX\n",
    "    threading.Thread(bob.genererSecret(\"Bob\", \"Alice\", TEMPS_EX)).start()\n",
    "\n",
    "def exec2() :\n",
    "    global TEMPS_EX\n",
    "    threading.Thread(alice.genererSecret(\"Alice\", \"Bob\", TEMPS_EX)).start()"
   ]
  },
  {
   "cell_type": "code",
   "execution_count": null,
   "metadata": {},
   "outputs": [],
   "source": [
    "# Main à exécuter pour lancer la discussion et la génération du secret\n",
    "# ATTENTION : il faut avant cela exécuter les zones de code suivantes :\n",
    "    # - class Forum() [1ère zone de code]\n",
    "    # - class User() [3ème zone de code]\n",
    "    # - def exec1() et def exec2() [4ème zone de code]\n",
    "\n",
    "if __name__ == \"__main__\" :\n",
    "    forum = Forum() # On instancie la classe Forum\n",
    "    bob = User() # On instancie deux nouveaux Users\n",
    "    alice = User()\n",
    "    bob.forum = forum # On fournit à ces Users le forum de communication\n",
    "    alice.forum = forum\n",
    "    dateDebut = datetime.now().time() # On récupère la date de début de l'échange\n",
    "    time.sleep(2)\n",
    "    delay1, delay2 = random.randint(0,2), random.randint(0,2) # On règle les paramètres des threads\n",
    "    t = threading.Timer(delay1, exec1)\n",
    "    u = threading.Timer(delay2, exec2)\n",
    "    t.start() # On lance ces 2 threads\n",
    "    u.start()\n",
    "    time.sleep(2)\n",
    "    t.join() # Les threads rejoignent le thread d'exécution principal une fois terminés\n",
    "    u.join()\n",
    "    dateFin = datetime.now().time() # On récupère la date de fin de l'échange \n",
    "    secretAlice = alice.extraireSecret(dateDebut, dateFin) # Les deux interlocuteurs peuvent alors obtenir les messages envoyés\n",
    "    secretBob=bob.extraireSecret(dateDebut, dateFin)\n",
    "    print(\"Le secret d'Alice est \" + secretAlice) # On imprime les secrets (UNIQUEMENT DANS LE CADRE DE L'EXERCICE)\n",
    "    print(\"Le secret de Bob est  \" + secretBob)"
   ]
  },
  {
   "cell_type": "markdown",
   "metadata": {},
   "source": [
    "<h2> <u>Partie 3 :</u> Analyse du protocole </h2>"
   ]
  },
  {
   "cell_type": "markdown",
   "metadata": {},
   "source": [
    "<b> <u> Question 1 </u> </b>\n",
    "\n",
    "Un tel canal de diffusion anonyme peut être utilisé comme une base pour un système de vote en ligne. On peut donner au forum un ensemble de jetons tous différents et les répartir aléatoirement aux différents participants. Chaque participant envoyant un message doit y joindre un jeton, qui est lu par le forum. \n",
    "Si le jeton est valide, le message est comptabilisé. Si le jeton a déjà été utilisé ou n'existe pas, le message est refusé. On garantit donc l'unicité et l'anonymat des votes.\n",
    "\n",
    "On peut également utiliser ce type de canal pour récolter des avis anonymes sur un produit. Le vendeur du produit ajoute les nouveaux acheteurs dans le groupe, puis affiche régulièrement les nouveaux messages sur sa vitrine. \n",
    "Il évite ainsi les avis de ceux n'ayant pas acheté le produit, et les acheteurs peuvent donner un avis de manière anonyme si sufisamment de produits ont été achetés, et une date de publication aléatoire empêche le vendeur de lier un achat récent à une critique.\n"
   ]
  },
  {
   "cell_type": "markdown",
   "metadata": {},
   "source": [
    "<b> <u> Question 2 </u> </b>\n",
    "\n",
    "Bob et Alice obtiennent le même secret. En effet, chacun peut reconnaître les messages qu'il a envoyé (il sait donc à quoi correspondent ces messages dans le secret entre un 0 et un 1). \n",
    "Ensuite, à partir des messages observés qu'il n'a pas envoyés, l'utilisateur choisit un 1 s'il voit son nom et un 0 sinon. Les utilisateurs ont donc un même secret puisque la démarche est symétrique de part et d'autre.\n",
    "\n",
    "L'adversaire n'a la vision que sur l'historique des messages, et a donc, pour chaque bit, une chance sur deux de déterminer avec justesse l'envoyeur du message et donc la valeur du bit. La probabilité de trouver le bon mot de passe en regardant uniquement l'historique est de (1/2^N) avec N le nombre de bit envoyé au total. Il n'a donc aucune information sur le secret grâce à l'anonymat garanti par le canal de diffusion."
   ]
  },
  {
   "cell_type": "markdown",
   "metadata": {},
   "source": [
    "<b> <u> Question 3 </u> </b>\n",
    "\n",
    "Ces primitives permettent l'échange d'une clé cryptographique à distance sans l'intervention d'un tiers si on a confiance en la neutralité des primitives. En raison de la facilité avec laquelle des espions peuvent surveiller les canaux de communication, ce processus permet d'échanger un message en clair permettant de créer une clé privée commune aux deux utilisateurs, qui permettra ensuite de communiquer des messages codés."
   ]
  }
 ],
 "metadata": {
  "interpreter": {
   "hash": "c31a8fa1ea96ce444b00e568c3a2f6372261fec3030fa28b4a4e535375dd3e17"
  },
  "kernelspec": {
   "display_name": "Python 3.8.8 64-bit ('base': conda)",
   "name": "python3"
  },
  "language_info": {
   "codemirror_mode": {
    "name": "ipython",
    "version": 3
   },
   "file_extension": ".py",
   "mimetype": "text/x-python",
   "name": "python",
   "nbconvert_exporter": "python",
   "pygments_lexer": "ipython3",
   "version": "3.8.8"
  },
  "orig_nbformat": 4
 },
 "nbformat": 4,
 "nbformat_minor": 2
}
