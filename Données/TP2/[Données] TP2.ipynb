{
 "cells": [
  {
   "cell_type": "code",
   "execution_count": 4,
   "metadata": {},
   "outputs": [],
   "source": [
    "from datetime import datetime\n",
    "\n",
    "class Forum:\n",
    "\n",
    "    def init(self):\n",
    "        self.messages = []\n",
    "\n",
    "    def recupDate(self):\n",
    "        dateBrute = str(datetime.now())\n",
    "        date = dateBrute[11:13] + \"h\" + dateBrute[14:16] + \"m\" + dateBrute[17:19] + \"s\"\n",
    "        return date\n",
    "\n",
    "    def calculDate(self, date) :\n",
    "            msg_date = date.split()\n",
    "            date = \"\"\n",
    "            i=0\n",
    "            while msg_date[i].isdigit() :\n",
    "                date += msg_date[i]\n",
    "                i+=1\n",
    "            heure = int(date)\n",
    "            while msg_date[i].isdigit() :\n",
    "                date += msg_date[i]\n",
    "                i+=1\n",
    "            minute = int(date)\n",
    "            while len(msg_date) and msg_date[i].isdigit() :\n",
    "                date += msg_date[i]\n",
    "                i+=1\n",
    "            seconde = int(date)\n",
    "            total = 3600*heure+60*minute+seconde\n",
    "            return (total)\n",
    "    \n",
    "    def recupererMessagesAnonymes(self, date_debut, date_fin) :\n",
    "        for msg in self.messages :\n",
    "            date = self.calculDate(msg[1])\n",
    "            date_start = self.calculDate(date_debut)\n",
    "            date_end = self.calculDate(date_fin)\n",
    "            if date > date_start and date < date_end :\n",
    "                print(msg)\n",
    "\n",
    "    def posterMessageAnonyme(self, message) :\n",
    "        date = self.recupDate()\n",
    "        self.messages.append([message, date])\n",
    "\n"
   ]
  },
  {
   "cell_type": "code",
   "execution_count": 5,
   "metadata": {},
   "outputs": [],
   "source": [
    "if __name__ == \"__main__\" :\n",
    "    print(\"start\")\n",
    "    forum = Forum()\n",
    "    while(True) :\n",
    "        string = input()\n",
    "        if \"show_message\" == string :\n",
    "            print(\"entrez la date au format 11h02m03s\" )\n",
    "            date_debut = input()\n",
    "            date_fin = input()\n",
    "            Forum.recupererMessagesAnonymes()\n",
    "        else :\n",
    "            Forum.posterMessageAnonyme(string)"
   ]
  },
  {
   "cell_type": "markdown",
   "metadata": {},
   "source": [
    "# <b> Canal de diffusion anonyme et génération de secret </b>\n",
    "\n",
    "<i> Compte-rendu du TP2 par Valentin SÉRÉE et Jérémy SERENA [INFO3]</i>"
   ]
  }
 ],
 "metadata": {
  "interpreter": {
   "hash": "c31a8fa1ea96ce444b00e568c3a2f6372261fec3030fa28b4a4e535375dd3e17"
  },
  "kernelspec": {
   "display_name": "Python 3.8.8 64-bit ('base': conda)",
   "name": "python3"
  },
  "language_info": {
   "codemirror_mode": {
    "name": "ipython",
    "version": 3
   },
   "file_extension": ".py",
   "mimetype": "text/x-python",
   "name": "python",
   "nbconvert_exporter": "python",
   "pygments_lexer": "ipython3",
   "version": "3.8.8"
  },
  "orig_nbformat": 4
 },
 "nbformat": 4,
 "nbformat_minor": 2
}
