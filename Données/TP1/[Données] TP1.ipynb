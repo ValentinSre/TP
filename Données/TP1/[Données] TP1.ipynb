{
 "cells": [
  {
   "cell_type": "markdown",
   "metadata": {},
   "source": [
    "# <b> Accréditation anonyme et coloriage de graphe </b>\n",
    "\n",
    "<i> Compte-rendu du TP1 par Valentin SÉRÉE et Jérémy SERENA [INFO3]</i>"
   ]
  },
  {
   "cell_type": "markdown",
   "metadata": {},
   "source": [
    "<h2> <u>Partie 1 :</u> Génération du graphe et du coloriage </h2>"
   ]
  },
  {
   "cell_type": "code",
   "execution_count": null,
   "metadata": {},
   "outputs": [],
   "source": [
    "import random\n",
    "\n",
    "# Cette fonction retourne une liste de n noeuds auxquels sont associées une couleur respective\n",
    "\n",
    "def choixCouleur(n): \n",
    "    couleurs = [\"rouge\", \"vert\", \"bleu\"] # On définit toutes les couleurs disponibles\n",
    "    couleursNoeuds=[] \n",
    "    for i in range (n):\n",
    "        num=random.randint(0, 2) # On tire aléatoirement un entier entre 0 et 2\n",
    "        couleursNoeuds.append(couleurs[num]) # On ajoute à la liste la couleur associée\n",
    "    return couleursNoeuds"
   ]
  },
  {
   "cell_type": "code",
   "execution_count": null,
   "metadata": {},
   "outputs": [],
   "source": [
    "import numpy as np\n",
    "\n",
    "# Cette fonction retourne une matriche d'adjacence \n",
    "# Seuls les noeuds de couleurs différentes peuvent être reliés \n",
    "# Si deux noeuds sont \"reliables\", il y a une probabilité 1/2 pour qu'ils soient reliés\n",
    "\n",
    "def genMatrice(tab) : # On fournit en entrée la liste des noeuds colorés\n",
    "    matrice = np.empty((len(tab),len(tab)), dtype=str) # On crée un tableau de taille n²\n",
    "    for i in range (0,len(tab)) :\n",
    "        for j in range(i+1) :\n",
    "            if tab[i] != tab[j] : # Si les couleurs sont différentes\n",
    "                r = random.randint(0,1) # On définit si on relie ou non les deux\n",
    "                if r==0 : # Si on décide de les relier\n",
    "                    matrice[i][j]=\"x\" # On utilise la symétrie\n",
    "                    matrice[j][i]=\"x\"\n",
    "                else : # Si on décide de ne pas les relier\n",
    "                    matrice[i][j]=\".\" # On utilise la symétrie\n",
    "                    matrice[j][i]=\".\"\n",
    "            else: # Si les couleurs sont identiques\n",
    "                matrice[i][j]=\".\" # On utilise la symétrie\n",
    "                matrice[j][i]=\".\"     \n",
    "    return matrice"
   ]
  },
  {
   "cell_type": "code",
   "execution_count": null,
   "metadata": {},
   "outputs": [],
   "source": [
    "# Cette fonction renvoie une matrice d'adjacence et le coloriage associé\n",
    "\n",
    "def genererGraphe3Coloriable(n): # On fournit en entrée le nombre de noeuds souhaités\n",
    "    coloriage = choixCouleur(n) # On crée un coloriage pour les n noeuds\n",
    "    matrice = genMatrice(coloriage) # On crée la matrice associée \n",
    "    return(matrice, coloriage) "
   ]
  },
  {
   "cell_type": "code",
   "execution_count": null,
   "metadata": {},
   "outputs": [],
   "source": [
    "# DÉMONSTRATION : Test pour 20 noeuds\n",
    "\n",
    "genererGraphe3Coloriable(20)"
   ]
  },
  {
   "cell_type": "markdown",
   "metadata": {},
   "source": [
    "<h2> <u>Partie 2 :</u> Mise en gage des couleurs </h2>"
   ]
  },
  {
   "cell_type": "code",
   "execution_count": null,
   "metadata": {},
   "outputs": [],
   "source": [
    "# Cette fonction crée une liste de n binaires de 128 bits\n",
    "\n",
    "def creerRandom(n) : \n",
    "    t=[] # On crée la liste à renvoyer\n",
    "    for i in range(n):\n",
    "        valeur = \"\"\n",
    "        for j in range (128):\n",
    "            temp = str(random.randint(0,1)) # On tire un bit aléatoirement\n",
    "            valeur += temp # On l'ajoute au nombre binaire (string)\n",
    "        t.append(valeur)\n",
    "    return t"
   ]
  },
  {
   "cell_type": "code",
   "execution_count": null,
   "metadata": {},
   "outputs": [],
   "source": [
    "# Cette fonction permute les couleurs aléatoirement\n",
    "\n",
    "def permutationCouleur(listeCouleurs): # On fournit en entrée la liste des noeuds colorés\n",
    "    couleursBase = [\"rouge\",\"vert\",\"bleu\"] # On rappelle la liste de couleurs existantes\n",
    "    couleursMelangees = [] # On crée la liste d'équivalence des couleurs précédentes\n",
    "    listeMelangee = [] # On crée la liste à renvoyer \n",
    "    r1 = random.randint(0,2) \n",
    "    couleursMelangees.append(couleursBase[r1]) # On ajoute la couleur qui permute avec le rouge\n",
    "    r2 = random.randint(0,2)\n",
    "    while r1 == r2:\n",
    "        r2 = random.randint(0,2)\n",
    "    couleursMelangees.append(couleursBase[r2]) # On ajoute la couleur qui permute avec le vert\n",
    "    r3 = 3-r2-r1\n",
    "    couleursMelangees.append(couleursBase[r3]) # On ajoute la couleur qui permute avec le bleu\n",
    "    for i in range (len(listeCouleurs)): # On remplit ensuite la liste permutée\n",
    "        if (listeCouleurs[i] == \"rouge\"):\n",
    "            listeMelangee.append(couleursMelangees[0])\n",
    "        elif (listeCouleurs[i] == \"vert\"):\n",
    "            listeMelangee.append(couleursMelangees[1])\n",
    "        else: \n",
    "            listeMelangee.append(couleursMelangees[2])\n",
    "    return (listeMelangee)"
   ]
  },
  {
   "cell_type": "code",
   "execution_count": null,
   "metadata": {},
   "outputs": [],
   "source": [
    "# Cette fonction encode une couleur\n",
    "# Une couleur fournie en entrée va se voir associer en sortie un codage en binaire\n",
    "\n",
    "def encodageCouleur(couleur):\n",
    "    if (couleur == \"rouge\"): \n",
    "        return \"00\" \n",
    "    elif (couleur == \"vert\"):\n",
    "        return \"01\"\n",
    "    else:\n",
    "        return \"10\""
   ]
  },
  {
   "cell_type": "code",
   "execution_count": null,
   "metadata": {},
   "outputs": [],
   "source": [
    "# Cette fonction concatène le codage binaire de chaque noeud coloré au nombre binaire généré aléatoirement\n",
    "\n",
    "def concatenation(listeCouleurs,listeRandom):\n",
    "    hici = []\n",
    "    for i in range (len(listeCouleurs)):\n",
    "        hici.append(listeRandom[i] + encodageCouleur(listeCouleurs[i]))\n",
    "    return hici"
   ]
  },
  {
   "cell_type": "code",
   "execution_count": null,
   "metadata": {},
   "outputs": [],
   "source": [
    "import hashlib\n",
    "\n",
    "# Cette fonction met en gage la liste de noeuds colorés \n",
    "\n",
    "def miseEnGage(listeCouleurs): # On fournit en entrée la liste des noeuds colorés \n",
    "    n = len(listeCouleurs) # On récupère le nombre de noeuds\n",
    "    listeMelangee = permutationCouleur(listeCouleurs) # On permute les couleurs\n",
    "    listeAleatoire = creerRandom(n) # On génère une liste de binaires aléatoires de 128 bits\n",
    "    listeATransmettre = concatenation(listeMelangee, listeAleatoire) # On concatène (ri | ci)\n",
    "    listeFinale = [] \n",
    "    for i in range (n):\n",
    "        result = hashlib.sha1(listeATransmettre[i].encode()) # On hache grâce à SHA1\n",
    "        listeFinale.append(result.hexdigest()) # On passe le résultat en hexadécimal\n",
    "    return (listeMelangee, listeAleatoire, listeFinale)\n",
    "# Sortie :\n",
    "# listeMelangee = liste des couleurs des noeuds permutées\n",
    "# listeAleatoire = liste des nombres binaires aléatoires de 128 bits associés à chaque noeud\n",
    "# listeFinale = mise en gage "
   ]
  },
  {
   "cell_type": "code",
   "execution_count": null,
   "metadata": {},
   "outputs": [],
   "source": [
    "# DÉMONSTRATION : Test pour 20 noeuds\n",
    "\n",
    "(mat, color) = genererGraphe3Coloriable(20) # On récupère la matrice d'adjacence (publique) et la liste des couleurs (secrète)\n",
    "miseEnGage(color) # On récupère la mise en gage"
   ]
  },
  {
   "cell_type": "markdown",
   "metadata": {},
   "source": [
    "<h2> <u>Partie 3 :</u> Preuve de connaissance à divulgation nulle d'un 3-coloriage </h2>"
   ]
  },
  {
   "cell_type": "code",
   "execution_count": null,
   "metadata": {},
   "outputs": [],
   "source": [
    "# Cette fonction tire au sort 2 noeuds reliés de la matrice d'adjacence\n",
    "\n",
    "def tirage(mat, n): # On fournit en entrée la matrice et le nombre de noeuds\n",
    "    i = random.randint(0,n-1) # On tire un noeud i\n",
    "    j = random.randint(0,n-1) # On tire un noeud j\n",
    "    while (mat[i][j]!=\"x\"): # Si les noeuds ne sont pas reliés, on recommence le tirage\n",
    "        i = random.randint(0,n-1)\n",
    "        j = random.randint(0,n-1)\n",
    "    return (i,j) "
   ]
  },
  {
   "cell_type": "code",
   "execution_count": null,
   "metadata": {},
   "outputs": [],
   "source": [
    "# Cette fonction vérifie le coloriage pour deux noeuds reliés\n",
    "    \n",
    "def preuveColoriage(matAdj, miseGage, tabInfo): # On fournit en entrée la matrice d'adjacence, la mise en gage et les informations nécessaires pour ouvrir la mise en gage\n",
    "    n = len(miseGage) # On récupère le nombre de noeuds\n",
    "    coul = tabInfo[0] # On récupère les couleurs PERMUTÉES des noeuds\n",
    "    rand = tabInfo[1] # On récupère les entiers de 128 bits\n",
    "    (i,j) = tirage(matAdj, n) # On sélectionne 2 noeuds reliés\n",
    "    if (coul[i] != coul[j]): # S'ils n'ont pas la même couleur\n",
    "        biti = encodageCouleur(coul[i]) # On encode les couleurs en binaire\n",
    "        bitj = encodageCouleur(coul[j])\n",
    "        result1 = hashlib.sha1((rand[i] + biti).encode()).hexdigest() # On hache avec SHA1\n",
    "        result2 = hashlib.sha1((rand[j] + bitj).encode()).hexdigest()\n",
    "        if (result1 == miseGage[i] and result2 == miseGage[j]): # On vérifie si la mise en gage est correcte pour les deux noeuds\n",
    "            return True\n",
    "        else: # Si la mise en gage n'est pas égale\n",
    "            return False\n",
    "    else: # Si les noeuds sont de la même couleur\n",
    "        return False"
   ]
  },
  {
   "cell_type": "code",
   "execution_count": null,
   "metadata": {},
   "outputs": [],
   "source": [
    "# Cette fonction effectue le test 400 fois pour une matrice et une mise en gage\n",
    "\n",
    "def preuve(matAdj, miseGage, tabInfo) :\n",
    "    bool = True\n",
    "    i = 400\n",
    "    while bool and i!=0:\n",
    "        bool = preuveColoriage(matAdj, miseGage, tabInfo)\n",
    "        i-=1\n",
    "    return bool"
   ]
  },
  {
   "cell_type": "markdown",
   "metadata": {},
   "source": [
    "<h3> Scénario : montrer le fonctionnement des fonctions </h3>"
   ]
  },
  {
   "cell_type": "code",
   "execution_count": null,
   "metadata": {},
   "outputs": [],
   "source": [
    "# On génère une matrice d'adjacence et un coloriage\n",
    "(mat, color) = genererGraphe3Coloriable(20)\n",
    "\n",
    "# La matrice (mat) est publique\n",
    "# Le coloriage (color) est secret. \n",
    "# L'utilisateur veut ensuite prouver qu'il connait le coloriage\n"
   ]
  },
  {
   "cell_type": "code",
   "execution_count": null,
   "metadata": {},
   "outputs": [],
   "source": [
    "##############\n",
    "# CAS 1 \n",
    "##############\n",
    "\n",
    "# L'utilisateur 1 connaît le réel coloriage et va le mettre en gage\n",
    "(colorMelang1, rand1, gage1) = miseEnGage(color) # il utilise \"color\", càd le vrai coloriage\n",
    "\n",
    "# Il fournit au vérificateur la matrice connue (mat), sa mise en gage (gage1) et les informations (colorMelang1 et rand1)\n",
    "preuve(mat,gage1,[colorMelang1, rand1]) # La vérification est vraie : l'utilisateur connait bien le coloriage"
   ]
  },
  {
   "cell_type": "code",
   "execution_count": null,
   "metadata": {},
   "outputs": [],
   "source": [
    "##############\n",
    "# CAS 2 \n",
    "##############\n",
    "\n",
    "# L'utilisateur 2 ne connaît pas le réel coloriage\n",
    "# Il 'invente' donc un coloriage (ici, on utilise la fonction qui génère un coloriage aléatoire)\n",
    "colorFake = choixCouleur(20)\n",
    "\n",
    "# Il va le mettre en gage\n",
    "(colorMelang2, rand2, gage2) = miseEnGage(colorFake)\n",
    "\n",
    "# Il fournit au vérificateur ses données\n",
    "preuve(mat,gage2,[colorMelang2, rand2]) # La vérification est fausse"
   ]
  },
  {
   "cell_type": "code",
   "execution_count": null,
   "metadata": {},
   "outputs": [],
   "source": [
    "(mat, color) = genererGraphe3Coloriable(20)\n",
    "(colorMelang, rand, gage) = miseEnGage(color)\n",
    "preuve(mat,gage,[colorMelang, rand])\n",
    "\n",
    "#écrire le scénario"
   ]
  },
  {
   "cell_type": "markdown",
   "metadata": {},
   "source": [
    "<h2> <u>Partie 4 :</u> Analyse du protocole </h2>"
   ]
  },
  {
   "cell_type": "markdown",
   "metadata": {},
   "source": [
    "<b> <u> Question 1 </u> </b>\n",
    "\n",
    "Si un utilisateur obtient une solution valide, il peut la coder avec SHA1 après y avoir ajouté un nombre aléatoire. Lorsque le correcteur essaiera sa proposition, il pourra comparer à partir des couleurs et des hachés des différentes arêtes qu'il obtient les mêmes valeurs en refaisant ces calculs, et que les couleurs données sont différentes. Il prouve donc que la solution proposée valide la non adjacence de deux sommets de couleurs identiques. Ainsi, si les deux personnes effectuent le protocole rigoureusement, ils réalisent les mêmes opérations et le vérificateur compare l'authenticité de ce codage à son propre calcul.\n"
   ]
  },
  {
   "cell_type": "markdown",
   "metadata": {},
   "source": [
    "<b> <u> Question 2 </u> </b>\n",
    "\n",
    "Si un utilisateur essaie de proposer une fausse combinaison, il devra créer une combinaison qui sera suffisamment proche d'une combinaison valide pour tromper les tests effectués par le correcteur. Cependant, le grand nombre de tests (400) couplé au nombre d'arêtes rend la probabilité d'avoir une arrête fausse (entre deux noeuds de la même couleur) non testée très faible.\n",
    "\n",
    "Cette probabilité vaut ((nb_arête-1)/nb_arête)^400. Par exemple, cette probabilité est égale à 3.1*10^-6 pour un nombre de 50 arêtes."
   ]
  },
  {
   "cell_type": "markdown",
   "metadata": {},
   "source": [
    "<b> <u> Question 3 </u> </b>\n",
    "\n",
    "La décision de ne donner au correcteur que les hachés de la somme entre les couleurs (permutées !) et les entiers aléatoirement choisis empêche le correcteur de retrouver la valeur des couleurs initialement utilisées, il peut uniquement vérifier si deux couleurs sont identiques ou différentes, ce qui l'assure du respect de la consigne mais l'empêche de déterminer les couleurs utilisées. L'utilisateur ne fournit aucunement le coloriage initial au vérificateur."
   ]
  }
 ],
 "metadata": {
  "interpreter": {
   "hash": "2c5af67b1d2fe4160132f6656f32baf7ccbf14a35ffa3cd1a680a6b747815161"
  },
  "kernelspec": {
   "display_name": "Python 3.8.8 64-bit ('base': conda)",
   "name": "python3"
  },
  "language_info": {
   "codemirror_mode": {
    "name": "ipython",
    "version": 3
   },
   "file_extension": ".py",
   "mimetype": "text/x-python",
   "name": "python",
   "nbconvert_exporter": "python",
   "pygments_lexer": "ipython3",
   "version": "3.8.8"
  },
  "orig_nbformat": 4
 },
 "nbformat": 4,
 "nbformat_minor": 2
}
