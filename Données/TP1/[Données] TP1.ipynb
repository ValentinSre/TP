{
 "cells": [
  {
   "cell_type": "markdown",
   "metadata": {},
   "source": [
    "# <b> Accréditation anonyme et coloriage de graphe </b>\n",
    "\n",
    "<i> Compte-rendu du TP1 par Valentin SÉRÉE et Jérémy SERENA [INFO3]</i>"
   ]
  },
  {
   "cell_type": "markdown",
   "metadata": {},
   "source": [
    "<h2> <u>Partie 1 :</u> Génération du graphe et du coloriage </h2>"
   ]
  },
  {
   "cell_type": "code",
   "execution_count": 1,
   "metadata": {},
   "outputs": [],
   "source": [
    "import random\n",
    "\n",
    "# Cette fonction retourne une liste de n noeuds auxquels sont associées une couleur respective\n",
    "\n",
    "def choixCouleur(n): \n",
    "    couleurs = [\"rouge\", \"vert\", \"bleu\"] # On définit toutes les couleurs disponibles\n",
    "    couleursNoeuds=[] \n",
    "    for i in range (n):\n",
    "        num=random.randint(0, 2) # On tire aléatoirement un entier entre 0 et 2\n",
    "        couleursNoeuds.append(couleurs[num]) # On ajoute à la liste la couleur associée\n",
    "    return couleursNoeuds"
   ]
  },
  {
   "cell_type": "code",
   "execution_count": 249,
   "metadata": {},
   "outputs": [],
   "source": [
    "import numpy as np\n",
    "\n",
    "# Cette fonction retourne une matriche d'adjacence \n",
    "# Seuls les noeuds de couleurs différentes peuvent être reliés \n",
    "# Si deux noeuds sont \"reliables\", il y a une probabilité 1/2 pour qu'ils soient reliés\n",
    "\n",
    "def genMatrice(tab) : # On fournit en entrée la liste des noeuds colorés\n",
    "    matrice = np.empty((len(tab),len(tab)), dtype=str) # On crée un tableau de taille n²\n",
    "    for i in range (0,len(tab)) :\n",
    "        for j in range(i+1) :\n",
    "            if tab[i] != tab[j] : # Si les couleurs sont différentes\n",
    "                r = random.randint(0,1) # On définit si on relie ou non les deux\n",
    "                if r==0 : # Si on décide de les relier\n",
    "                    matrice[i][j]=\"x\" # On utilise la symétrie\n",
    "                    matrice[j][i]=\"x\"\n",
    "                else : # Si on décide de ne pas les relier\n",
    "                    matrice[i][j]=\".\" # On utilise la symétrie\n",
    "                    matrice[j][i]=\".\"\n",
    "            else: # Si les couleurs sont identiques\n",
    "                matrice[i][j]=\".\" # On utilise la symétrie\n",
    "                matrice[j][i]=\".\"     \n",
    "    return matrice"
   ]
  },
  {
   "cell_type": "code",
   "execution_count": 250,
   "metadata": {},
   "outputs": [
    {
     "data": {
      "text/plain": [
       "(array([['.', '.', 'x', '.', '.', '.', '.', '.', '.', '.'],\n",
       "        ['.', '.', 'x', 'x', 'x', '.', 'x', 'x', 'x', 'x'],\n",
       "        ['x', 'x', '.', '.', 'x', '.', 'x', '.', 'x', 'x'],\n",
       "        ['.', 'x', '.', '.', 'x', '.', 'x', '.', '.', 'x'],\n",
       "        ['.', 'x', 'x', 'x', '.', 'x', '.', '.', '.', '.'],\n",
       "        ['.', '.', '.', '.', 'x', '.', '.', '.', 'x', 'x'],\n",
       "        ['.', 'x', 'x', 'x', '.', '.', '.', '.', '.', '.'],\n",
       "        ['.', 'x', '.', '.', '.', '.', '.', '.', '.', '.'],\n",
       "        ['.', 'x', 'x', '.', '.', 'x', '.', '.', '.', '.'],\n",
       "        ['.', 'x', 'x', 'x', '.', 'x', '.', '.', '.', '.']], dtype='<U1'),\n",
       " ['rouge',\n",
       "  'vert',\n",
       "  'bleu',\n",
       "  'bleu',\n",
       "  'rouge',\n",
       "  'vert',\n",
       "  'rouge',\n",
       "  'bleu',\n",
       "  'rouge',\n",
       "  'rouge'])"
      ]
     },
     "execution_count": 250,
     "metadata": {},
     "output_type": "execute_result"
    }
   ],
   "source": [
    "# Cette fonction renvoie une matrice d'adjacence et le coloriage associé\n",
    "\n",
    "def genererGraphe3Coloriable(n): # On fournit en entrée le nombre de noeuds souhaités\n",
    "    coloriage = choixCouleur(n) # On crée un coloriage pour les n noeuds\n",
    "    matrice = genMatrice(coloriage) # On crée la matrice associée \n",
    "    return(matrice, coloriage) "
   ]
  },
  {
   "cell_type": "code",
   "execution_count": null,
   "metadata": {},
   "outputs": [],
   "source": [
    "# DÉMONSTRATION : Test pour 20 noeuds\n",
    "\n",
    "genererGraphe3Coloriable(20)"
   ]
  },
  {
   "cell_type": "markdown",
   "metadata": {},
   "source": [
    "<h2> <u>Partie 2 :</u> Mise en gage des couleurs </h2>"
   ]
  },
  {
   "cell_type": "code",
   "execution_count": 251,
   "metadata": {},
   "outputs": [],
   "source": [
    "# Cette fonction crée une liste de n binaires de 128 bits\n",
    "\n",
    "def creerRandom(n) : \n",
    "    t=[] # On crée la liste à renvoyer\n",
    "    for i in range(n):\n",
    "        valeur = \"\"\n",
    "        for j in range (128):\n",
    "            temp = str(random.randint(0,1)) # On tire un bit aléatoirement\n",
    "            valeur += temp # On l'ajoute au nombre binaire (string)\n",
    "        t.append(valeur)\n",
    "    return t"
   ]
  },
  {
   "cell_type": "code",
   "execution_count": null,
   "metadata": {},
   "outputs": [],
   "source": [
    "# Cette fonction permute les couleurs aléatoirement\n",
    "\n",
    "def permutationCouleur(listeCouleurs): # On fournit en entrée la liste des noeuds colorés\n",
    "    couleursBase = [\"rouge\",\"vert\",\"bleu\"] # On rappelle la liste de couleurs existantes\n",
    "    couleursMelangees = [] # On crée la liste d'équivalence des couleurs précédentes\n",
    "    listeMelangee = [] # On crée la liste à renvoyer \n",
    "    r1 = random.randint(0,2) \n",
    "    couleursMelangees.append(couleursBase[r1]) # On ajoute la couleur qui permute avec le rouge\n",
    "    r2 = random.randint(0,2)\n",
    "    while r1 == r2:\n",
    "        r2 = random.randint(0,2)\n",
    "    couleursMelangees.append(couleursBase[r2]) # On ajoute la couleur qui permute avec le vert\n",
    "    r3 = 3-r2-r1\n",
    "    couleursMelangees.append(couleursBase[r3]) # On ajoute la couleur qui permute avec le bleu\n",
    "    for i in range (len(listeCouleurs)): # On remplit ensuite la liste permutée\n",
    "        if (listeCouleurs[i] == \"rouge\"):\n",
    "            listeMelangee.append(couleursMelangees[0])\n",
    "        elif (listeCouleurs[i] == \"vert\"):\n",
    "            listeMelangee.append(couleursMelangees[1])\n",
    "        else: \n",
    "            listeMelangee.append(couleursMelangees[2])\n",
    "    return (listeMelangee)"
   ]
  },
  {
   "cell_type": "code",
   "execution_count": null,
   "metadata": {},
   "outputs": [],
   "source": [
    "# Cette fonction encode une couleur\n",
    "# Une couleur fournie en entrée va se voir associer en sortie un codage en binaire\n",
    "\n",
    "def encodageCouleur(couleur):\n",
    "    if (couleur == \"rouge\"): \n",
    "        return \"00\" \n",
    "    elif (couleur == \"vert\"):\n",
    "        return \"01\"\n",
    "    else:\n",
    "        return \"10\""
   ]
  },
  {
   "cell_type": "code",
   "execution_count": null,
   "metadata": {},
   "outputs": [],
   "source": [
    "# Cette fonction concatène le codage binaire de chaque noeud coloré au nombre binaire généré aléatoirement\n",
    "\n",
    "def concatenation(listeCouleurs,listeRandom):\n",
    "    hici = []\n",
    "    for i in range (len(listeCouleurs)):\n",
    "        hici.append(listeRandom[i] + encodageCouleur(listeCouleurs[i]))\n",
    "    return hici"
   ]
  },
  {
   "cell_type": "code",
   "execution_count": 252,
   "metadata": {},
   "outputs": [],
   "source": [
    "import hashlib\n",
    "\n",
    "def miseEnGage(listeCouleurs):\n",
    "    n = len(listeCouleurs)\n",
    "    listeMelangee = permutationCouleur(listeCouleurs)\n",
    "    listeAleatoire = creerRandom(n)\n",
    "    listeATransmettre = concatenation(listeMelangee, listeAleatoire)\n",
    "    listeFinale = []\n",
    "    for i in range (n):\n",
    "        result = hashlib.sha1(listeATransmettre[i].encode())\n",
    "        listeFinale.append(result.hexdigest())\n",
    "    return (listeMelangee, listeAleatoire, listeFinale)"
   ]
  },
  {
   "cell_type": "code",
   "execution_count": 253,
   "metadata": {},
   "outputs": [
    {
     "data": {
      "text/plain": [
       "(['rouge',\n",
       "  'rouge',\n",
       "  'rouge',\n",
       "  'bleu',\n",
       "  'bleu',\n",
       "  'bleu',\n",
       "  'rouge',\n",
       "  'rouge',\n",
       "  'bleu',\n",
       "  'vert'],\n",
       " ['10010011011001100111000010101001010110100110001011000111101011001101101001101001001011111011001001101101001111001010010111011111',\n",
       "  '00001010010110011110011000000010110011001001111111010100100010001101010011000010100110101111011011000010110011111001011110011111',\n",
       "  '01000100101010111111110110011100111101011001001001101001001100001110010000111001000111100110011100010010001111100100101010100010',\n",
       "  '11000010001111001111110111101100001111111010111111100011100110100110100111000010010101000111101100011000111100100101111100101110',\n",
       "  '10100110111001101001011000001001100101000011110011110100010010100101110000010111010011110101101111011111010111110010111101101111',\n",
       "  '10010001000101001100001001001000100111100101010100000111011100110100111001100110010100010000101000101111011000010001011000001110',\n",
       "  '10010001110111111000011000110011010101110111001110000001101001000001001111100001110001110101010101001110010011000110110000000111',\n",
       "  '01010010011100011000000011001110010011100111111111000100010110010000010011101001011101001110001110101100010100101110010010000010',\n",
       "  '10001110111001000111010000001101101111000100100111001011101010101011101111111010010100100110010101001000100001000101101110010001',\n",
       "  '00111100110111011110000001001000001110110000111010010101110010010001100010011100111000010101110010001000111110011010011100010011'],\n",
       " ['dc982086ed6c6db76eec30d65cd16cb143351a88',\n",
       "  '7a7b1e6ff23aee93ecf7577721507e078525b7ab',\n",
       "  'f1faf921823c8f9ab4f7b3aad0231ced51056f51',\n",
       "  '2f672a77fb8df421c11261fd7552a3718cf8e196',\n",
       "  '59cd40800b3750fccb6a89010d5c7daa9f4827a2',\n",
       "  '5fac9f349bc9e35023bb11f0cea9f9c7d3caa360',\n",
       "  '6219b1bcbe39aa67c5a5a186c1f155ca1541ac10',\n",
       "  '17cc2438fe94e1b6a74b538cedec2ea17934ec1e',\n",
       "  '8debaac6281511f1e2987306ee375b3b83b21a91',\n",
       "  '5a0ce9fdfcdfb56472efac0db8e0678a6fe97d0a'])"
      ]
     },
     "execution_count": 253,
     "metadata": {},
     "output_type": "execute_result"
    }
   ],
   "source": [
    "#Question 2 (fin)\n",
    "\n",
    "(mat, color) = genererGraphe3Coloriable(10)\n",
    "miseEnGage(color)"
   ]
  },
  {
   "cell_type": "code",
   "execution_count": 254,
   "metadata": {},
   "outputs": [],
   "source": [
    "def tirage(mat, n):\n",
    "    i = random.randint(0,n-1)\n",
    "    j = random.randint(0,n-1)\n",
    "    while (mat[i][j]!=\"x\"):\n",
    "        i = random.randint(0,n-1)\n",
    "        j = random.randint(0,n-1)\n",
    "    return (i,j)\n",
    "    \n",
    "def preuveColoriage(matAdj, miseGage, tabInfo):\n",
    "    #tabInfo = tableau de 2 tableaux : les couleurs mélangées (= tableau) ET un tableau de n binaires de 128 bits (= tableau)\n",
    "    n = len(miseGage)\n",
    "    coul = tabInfo[0]\n",
    "    rand = tabInfo[1]\n",
    "    (i,j)=tirage(matAdj, n)\n",
    "    if (coul[i] != coul[j]):\n",
    "        biti=encodageCouleur(coul[i])\n",
    "        bitj=encodageCouleur(coul[j])\n",
    "        result1 = hashlib.sha1((rand[i] + biti).encode()).hexdigest()\n",
    "        result2 = hashlib.sha1((rand[j] + bitj).encode()).hexdigest()\n",
    "        if (result1 == miseGage[i] and result2 == miseGage[j]):\n",
    "            return True\n",
    "        else:\n",
    "            return False\n",
    "    else:\n",
    "        return False\n",
    "\n",
    "\n",
    "def preuve(matAdj, miseGage, tabInfo) :\n",
    "    bool = True\n",
    "    i = 400\n",
    "    while bool and i!=0:\n",
    "        bool = preuveColoriage(matAdj, miseGage, tabInfo)\n",
    "        i-=1\n",
    "    return bool"
   ]
  },
  {
   "cell_type": "code",
   "execution_count": 255,
   "metadata": {},
   "outputs": [
    {
     "data": {
      "text/plain": [
       "True"
      ]
     },
     "execution_count": 255,
     "metadata": {},
     "output_type": "execute_result"
    }
   ],
   "source": [
    "(mat, color) = genererGraphe3Coloriable(5)\n",
    "(colorMelang, rand, gage) = miseEnGage(color)\n",
    "preuveColoriage(mat,gage,[colorMelang, rand])"
   ]
  },
  {
   "cell_type": "code",
   "execution_count": 256,
   "metadata": {},
   "outputs": [
    {
     "data": {
      "text/plain": [
       "True"
      ]
     },
     "execution_count": 256,
     "metadata": {},
     "output_type": "execute_result"
    }
   ],
   "source": [
    "(mat, color) = genererGraphe3Coloriable(20)\n",
    "(colorMelang, rand, gage) = miseEnGage(color)\n",
    "preuve(mat,gage,[colorMelang, rand])\n",
    "\n",
    "#écrire le scénario"
   ]
  },
  {
   "cell_type": "markdown",
   "metadata": {},
   "source": [
    "Q1. \n",
    "\n",
    "Q2. Il faut réussir 400 fois le test."
   ]
  }
 ],
 "metadata": {
  "interpreter": {
   "hash": "2c5af67b1d2fe4160132f6656f32baf7ccbf14a35ffa3cd1a680a6b747815161"
  },
  "kernelspec": {
   "display_name": "Python 3.8.8 64-bit ('base': conda)",
   "name": "python3"
  },
  "language_info": {
   "codemirror_mode": {
    "name": "ipython",
    "version": 3
   },
   "file_extension": ".py",
   "mimetype": "text/x-python",
   "name": "python",
   "nbconvert_exporter": "python",
   "pygments_lexer": "ipython3",
   "version": "3.8.8"
  },
  "orig_nbformat": 4
 },
 "nbformat": 4,
 "nbformat_minor": 2
}
