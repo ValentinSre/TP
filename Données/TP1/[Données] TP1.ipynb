{
 "cells": [
  {
   "cell_type": "markdown",
   "metadata": {},
   "source": [
    "# <b> Accréditation anonyme et coloriage de graphe </b>\n",
    "\n",
    "<i> Compte-rendu du TP1 par Valentin SÉRÉE et Jérémy SERENA [INFO3]</i>"
   ]
  },
  {
   "cell_type": "markdown",
   "metadata": {},
   "source": [
    "<h2> <u>Partie 1 :</u> Génération du graphe et du coloriage </h2>"
   ]
  },
  {
   "cell_type": "code",
   "execution_count": 46,
   "metadata": {},
   "outputs": [],
   "source": [
    "import random\n",
    "\n",
    "# Cette fonction retourne une liste de n noeuds auxquels sont associées une couleur respective\n",
    "\n",
    "def choixCouleur(n): \n",
    "    couleurs = [\"rouge\", \"vert\", \"bleu\"] # On définit toutes les couleurs disponibles\n",
    "    couleursNoeuds=[] \n",
    "    for i in range (n):\n",
    "        num=random.randint(0, 2) # On tire aléatoirement un entier entre 0 et 2\n",
    "        couleursNoeuds.append(couleurs[num]) # On ajoute à la liste la couleur associée\n",
    "    return couleursNoeuds"
   ]
  },
  {
   "cell_type": "code",
   "execution_count": 47,
   "metadata": {},
   "outputs": [],
   "source": [
    "import numpy as np\n",
    "\n",
    "# Cette fonction retourne une matriche d'adjacence \n",
    "# Seuls les noeuds de couleurs différentes peuvent être reliés \n",
    "# Si deux noeuds sont \"reliables\", il y a une probabilité 1/2 pour qu'ils soient reliés\n",
    "\n",
    "def genMatrice(tab) : # On fournit en entrée la liste des noeuds colorés\n",
    "    matrice = np.empty((len(tab),len(tab)), dtype=str) # On crée un tableau de taille n²\n",
    "    for i in range (0,len(tab)) :\n",
    "        for j in range(i+1) :\n",
    "            if tab[i] != tab[j] : # Si les couleurs sont différentes\n",
    "                r = random.randint(0,1) # On définit si on relie ou non les deux\n",
    "                if r==0 : # Si on décide de les relier\n",
    "                    matrice[i][j]=\"x\" # On utilise la symétrie\n",
    "                    matrice[j][i]=\"x\"\n",
    "                else : # Si on décide de ne pas les relier\n",
    "                    matrice[i][j]=\".\" # On utilise la symétrie\n",
    "                    matrice[j][i]=\".\"\n",
    "            else: # Si les couleurs sont identiques\n",
    "                matrice[i][j]=\".\" # On utilise la symétrie\n",
    "                matrice[j][i]=\".\"     \n",
    "    return matrice"
   ]
  },
  {
   "cell_type": "code",
   "execution_count": 48,
   "metadata": {},
   "outputs": [],
   "source": [
    "# Cette fonction renvoie une matrice d'adjacence et le coloriage associé\n",
    "\n",
    "def genererGraphe3Coloriable(n): # On fournit en entrée le nombre de noeuds souhaités\n",
    "    coloriage = choixCouleur(n) # On crée un coloriage pour les n noeuds\n",
    "    matrice = genMatrice(coloriage) # On crée la matrice associée \n",
    "    return(matrice, coloriage) "
   ]
  },
  {
   "cell_type": "code",
   "execution_count": 49,
   "metadata": {},
   "outputs": [
    {
     "data": {
      "text/plain": [
       "(array([['.', '.', '.', 'x', '.', '.', '.', '.', '.', 'x', 'x', '.', '.',\n",
       "         '.', '.', '.', 'x', 'x', 'x', '.'],\n",
       "        ['.', '.', 'x', '.', '.', '.', 'x', '.', '.', '.', '.', '.', '.',\n",
       "         '.', 'x', '.', '.', '.', '.', 'x'],\n",
       "        ['.', 'x', '.', '.', '.', 'x', 'x', '.', 'x', 'x', '.', '.', '.',\n",
       "         '.', '.', '.', '.', 'x', 'x', 'x'],\n",
       "        ['x', '.', '.', '.', '.', '.', 'x', '.', '.', '.', 'x', '.', 'x',\n",
       "         '.', '.', '.', '.', '.', '.', 'x'],\n",
       "        ['.', '.', '.', '.', '.', 'x', 'x', '.', '.', '.', '.', '.', '.',\n",
       "         'x', '.', '.', '.', 'x', '.', '.'],\n",
       "        ['.', '.', 'x', '.', 'x', '.', '.', '.', '.', 'x', 'x', '.', 'x',\n",
       "         '.', '.', '.', '.', '.', '.', '.'],\n",
       "        ['.', 'x', 'x', 'x', 'x', '.', '.', 'x', '.', '.', 'x', 'x', '.',\n",
       "         'x', '.', 'x', '.', '.', '.', '.'],\n",
       "        ['.', '.', '.', '.', '.', '.', 'x', '.', 'x', '.', '.', '.', '.',\n",
       "         '.', '.', '.', '.', '.', '.', '.'],\n",
       "        ['.', '.', 'x', '.', '.', '.', '.', 'x', '.', '.', '.', '.', '.',\n",
       "         '.', '.', 'x', '.', '.', '.', '.'],\n",
       "        ['x', '.', 'x', '.', '.', 'x', '.', '.', '.', '.', 'x', '.', 'x',\n",
       "         '.', 'x', '.', '.', '.', '.', '.'],\n",
       "        ['x', '.', '.', 'x', '.', 'x', 'x', '.', '.', 'x', '.', '.', '.',\n",
       "         '.', '.', '.', '.', 'x', 'x', 'x'],\n",
       "        ['.', '.', '.', '.', '.', '.', 'x', '.', '.', '.', '.', '.', 'x',\n",
       "         '.', '.', 'x', 'x', '.', '.', 'x'],\n",
       "        ['.', '.', '.', 'x', '.', 'x', '.', '.', '.', 'x', '.', 'x', '.',\n",
       "         '.', '.', '.', '.', '.', 'x', 'x'],\n",
       "        ['.', '.', '.', '.', 'x', '.', 'x', '.', '.', '.', '.', '.', '.',\n",
       "         '.', 'x', 'x', '.', '.', '.', '.'],\n",
       "        ['.', 'x', '.', '.', '.', '.', '.', '.', '.', 'x', '.', '.', '.',\n",
       "         'x', '.', '.', 'x', '.', 'x', '.'],\n",
       "        ['.', '.', '.', '.', '.', '.', 'x', '.', 'x', '.', '.', 'x', '.',\n",
       "         'x', '.', '.', '.', 'x', '.', 'x'],\n",
       "        ['x', '.', '.', '.', '.', '.', '.', '.', '.', '.', '.', 'x', '.',\n",
       "         '.', 'x', '.', '.', '.', '.', '.'],\n",
       "        ['x', '.', 'x', '.', 'x', '.', '.', '.', '.', '.', 'x', '.', '.',\n",
       "         '.', '.', 'x', '.', '.', '.', '.'],\n",
       "        ['x', '.', 'x', '.', '.', '.', '.', '.', '.', '.', 'x', '.', 'x',\n",
       "         '.', 'x', '.', '.', '.', '.', '.'],\n",
       "        ['.', 'x', 'x', 'x', '.', '.', '.', '.', '.', '.', 'x', 'x', 'x',\n",
       "         '.', '.', 'x', '.', '.', '.', '.']], dtype='<U1'),\n",
       " ['rouge',\n",
       "  'bleu',\n",
       "  'vert',\n",
       "  'bleu',\n",
       "  'vert',\n",
       "  'rouge',\n",
       "  'rouge',\n",
       "  'vert',\n",
       "  'bleu',\n",
       "  'bleu',\n",
       "  'vert',\n",
       "  'bleu',\n",
       "  'vert',\n",
       "  'bleu',\n",
       "  'rouge',\n",
       "  'vert',\n",
       "  'vert',\n",
       "  'bleu',\n",
       "  'bleu',\n",
       "  'rouge'])"
      ]
     },
     "execution_count": 49,
     "metadata": {},
     "output_type": "execute_result"
    }
   ],
   "source": [
    "# DÉMONSTRATION : Test pour 20 noeuds\n",
    "\n",
    "genererGraphe3Coloriable(20)"
   ]
  },
  {
   "cell_type": "markdown",
   "metadata": {},
   "source": [
    "<h2> <u>Partie 2 :</u> Mise en gage des couleurs </h2>"
   ]
  },
  {
   "cell_type": "code",
   "execution_count": 50,
   "metadata": {},
   "outputs": [],
   "source": [
    "# Cette fonction crée une liste de n binaires de 128 bits\n",
    "\n",
    "def creerRandom(n) : \n",
    "    t=[] # On crée la liste à renvoyer\n",
    "    for i in range(n):\n",
    "        valeur = \"\"\n",
    "        for j in range (128):\n",
    "            temp = str(random.randint(0,1)) # On tire un bit aléatoirement\n",
    "            valeur += temp # On l'ajoute au nombre binaire (string)\n",
    "        t.append(valeur)\n",
    "    return t"
   ]
  },
  {
   "cell_type": "code",
   "execution_count": 51,
   "metadata": {},
   "outputs": [],
   "source": [
    "# Cette fonction permute les couleurs aléatoirement\n",
    "\n",
    "def permutationCouleur(listeCouleurs): # On fournit en entrée la liste des noeuds colorés\n",
    "    couleursBase = [\"rouge\",\"vert\",\"bleu\"] # On rappelle la liste de couleurs existantes\n",
    "    couleursMelangees = [] # On crée la liste d'équivalence des couleurs précédentes\n",
    "    listeMelangee = [] # On crée la liste à renvoyer \n",
    "    r1 = random.randint(0,2) \n",
    "    couleursMelangees.append(couleursBase[r1]) # On ajoute la couleur qui permute avec le rouge\n",
    "    r2 = random.randint(0,2)\n",
    "    while r1 == r2:\n",
    "        r2 = random.randint(0,2)\n",
    "    couleursMelangees.append(couleursBase[r2]) # On ajoute la couleur qui permute avec le vert\n",
    "    r3 = 3-r2-r1\n",
    "    couleursMelangees.append(couleursBase[r3]) # On ajoute la couleur qui permute avec le bleu\n",
    "    for i in range (len(listeCouleurs)): # On remplit ensuite la liste permutée\n",
    "        if (listeCouleurs[i] == \"rouge\"):\n",
    "            listeMelangee.append(couleursMelangees[0])\n",
    "        elif (listeCouleurs[i] == \"vert\"):\n",
    "            listeMelangee.append(couleursMelangees[1])\n",
    "        else: \n",
    "            listeMelangee.append(couleursMelangees[2])\n",
    "    return (listeMelangee)"
   ]
  },
  {
   "cell_type": "code",
   "execution_count": 52,
   "metadata": {},
   "outputs": [],
   "source": [
    "# Cette fonction encode une couleur\n",
    "# Une couleur fournie en entrée va se voir associer en sortie un codage en binaire\n",
    "\n",
    "def encodageCouleur(couleur):\n",
    "    if (couleur == \"rouge\"): \n",
    "        return \"00\" \n",
    "    elif (couleur == \"vert\"):\n",
    "        return \"01\"\n",
    "    else:\n",
    "        return \"10\""
   ]
  },
  {
   "cell_type": "code",
   "execution_count": 53,
   "metadata": {},
   "outputs": [],
   "source": [
    "# Cette fonction concatène le codage binaire de chaque noeud coloré au nombre binaire généré aléatoirement\n",
    "\n",
    "def concatenation(listeCouleurs,listeRandom):\n",
    "    hici = []\n",
    "    for i in range (len(listeCouleurs)):\n",
    "        hici.append(listeRandom[i] + encodageCouleur(listeCouleurs[i]))\n",
    "    return hici"
   ]
  },
  {
   "cell_type": "code",
   "execution_count": 54,
   "metadata": {},
   "outputs": [],
   "source": [
    "import hashlib\n",
    "\n",
    "# Cette fonction met en gage la liste de noeuds colorés \n",
    "\n",
    "def miseEnGage(listeCouleurs): # On fournit en entrée la liste des noeuds colorés \n",
    "    n = len(listeCouleurs) # On récupère le nombre de noeuds\n",
    "    listeMelangee = permutationCouleur(listeCouleurs) # On permute les couleurs\n",
    "    listeAleatoire = creerRandom(n) # On génère une liste de binaires aléatoires de 128 bits\n",
    "    listeATransmettre = concatenation(listeMelangee, listeAleatoire) # On concatène (ri | ci)\n",
    "    listeFinale = [] \n",
    "    for i in range (n):\n",
    "        result = hashlib.sha1(listeATransmettre[i].encode()) # On hache grâce à SHA1\n",
    "        listeFinale.append(result.hexdigest()) # On passe le résultat en hexadécimal\n",
    "    return (listeMelangee, listeAleatoire, listeFinale)\n",
    "# Sortie :\n",
    "# listeMelangee = liste des couleurs des noeuds permutées\n",
    "# listeAleatoire = liste des nombres binaires aléatoires de 128 bits associés à chaque noeud\n",
    "# listeFinale = mise en gage "
   ]
  },
  {
   "cell_type": "code",
   "execution_count": 55,
   "metadata": {},
   "outputs": [
    {
     "data": {
      "text/plain": [
       "(['bleu',\n",
       "  'bleu',\n",
       "  'bleu',\n",
       "  'bleu',\n",
       "  'bleu',\n",
       "  'rouge',\n",
       "  'rouge',\n",
       "  'bleu',\n",
       "  'rouge',\n",
       "  'rouge',\n",
       "  'vert',\n",
       "  'bleu',\n",
       "  'bleu',\n",
       "  'bleu',\n",
       "  'bleu',\n",
       "  'vert',\n",
       "  'vert',\n",
       "  'rouge',\n",
       "  'rouge',\n",
       "  'vert'],\n",
       " ['11011101110110101100101111010000001101001001001011000100111111110100110000111101101011000110000110001011011110101100010111101010',\n",
       "  '00111001110101110111001010010001100000110011000110101101011111010000101111000110110101111110110001001011111001000111101000001010',\n",
       "  '10101101100001110100101100100010100101001101100000001000100000010011010001010100000001101101100100111111000011010001010101111111',\n",
       "  '10000010001101011000001010000001001100010010100000000110111001111110111110000011000110110111001101110011000101000011101000110101',\n",
       "  '10101001100010110000101111001110100001111100010011001010110001101000100110110100000101110110111000101101101001001011000001001100',\n",
       "  '10101010011101101011110101100101000111111011110010001000100000110111001111110000011001010011111001110100111001011100001100000111',\n",
       "  '01110101010100111001111111111100011001011001010000110101010001010000101110011001000111001000000110010110100101101100111100110110',\n",
       "  '10110100101011011001111000111011101110010001001100101111011100100111111100101110110111110011101000100110110011011001011110101111',\n",
       "  '10010110001011101010110100110000100100010010011001111100011001001000101100101010101011000100110111100000111011101000111010000101',\n",
       "  '11110011001001001100100111101110011010010011010011101101101000100001011110000000000000111011011011100110101101001101010111100001',\n",
       "  '01101111010011010010101001010011100000010010000001010101111100101011001011001011000001001101101111110001110011001011011001010001',\n",
       "  '11000001000011110010101111011010001110100100010010011100111011010001010011100110101000111110101111000111000101110011011011001101',\n",
       "  '10111000000111110111010010100110000010000101011101001001101010100101010100010000110010110101101000011100000001100101111110100011',\n",
       "  '01000000101101100100011111110110001010110010010010111001000110111000101110100100100001101100001000011000100001101101001000110001',\n",
       "  '00001000100000000011011101011001100011001010110101101100110110001100101101101101100010100010000011001110111001111110110110010000',\n",
       "  '10110001100001110100101101101111001110101010000111010110000000110111001000111000011100000110000001010101111110110101111011100001',\n",
       "  '01000000010010110000010010111000001110101001000001001110110100111110011100110011011010010011101001101110110000011101110001110011',\n",
       "  '00001000001110111000011111111111000110001111110111110000100000100010111010111101110011111100111100101100011100011110110000110001',\n",
       "  '11110100000110001101110010011001101000000101111100110111101000110100000001111111110001101001001010000100101101100100011010110110',\n",
       "  '00110110000110101001010110101100000100100100110001110100001001001000001010101011010010110011110111000000101000110100000000110110'],\n",
       " ['907dac5616296f7ec06aee549cabaadfb5511e47',\n",
       "  'b625c5a2de83ca290786003e103fc78c84764f67',\n",
       "  '011b2aa59001f74c8ac9a8231877afec386573aa',\n",
       "  '9164a39d91b87755b4eca97bf0bcdce13bbdc33c',\n",
       "  'a4acfa06ef2ff0640dd386d9c1fb65e2a6e1f98a',\n",
       "  'b78e36d811235c5bc867883183878d5a8d79b544',\n",
       "  'de25ca92e83de90e69ef2ba55203da555151f6ad',\n",
       "  '72af68363b3042a3ddda9f9e8b0a5b3fc2229332',\n",
       "  '58bf7f3b9e873e248fbdbcb5005057941a3e8f06',\n",
       "  'f3c23f65965b9ad0ea2e4e2e1fea31476452c0a8',\n",
       "  '70804daab43fcf66bafea54b846f1b6e6e6afa9d',\n",
       "  'ff6db87f8e5b46bd0a827224147310e1ccf52940',\n",
       "  'a79b4608b81b8164b06c29ea9456f5fb34961c52',\n",
       "  '5270f08eadd8eac24fb1fa1bdf2f64adfc859ec8',\n",
       "  '597b29813c1f4cec92cdddc1303314a87f298ca8',\n",
       "  'bb469bf72f9c47c4c3bb382d0bd7a7aa4d2cbff3',\n",
       "  '72390f319202621b180bc81e290a39b286f1b8e7',\n",
       "  '12f27ef7d15efe5a11edf78b8b4164b58201aad0',\n",
       "  '9e71c14c3b19f311bb947b113c1a42b6fa064f49',\n",
       "  'a8028aee1e6d7f97b6f33a3219e940b13b4baf0e'])"
      ]
     },
     "execution_count": 55,
     "metadata": {},
     "output_type": "execute_result"
    }
   ],
   "source": [
    "# DÉMONSTRATION : Test pour 20 noeuds\n",
    "\n",
    "(mat, color) = genererGraphe3Coloriable(20) # On récupère la matrice d'adjacence (publique) et la liste des couleurs (secrète)\n",
    "miseEnGage(color) # On récupère la mise en gage"
   ]
  },
  {
   "cell_type": "markdown",
   "metadata": {},
   "source": [
    "<h2> <u>Partie 3 :</u> Preuve de connaissance à divulgation nulle d'un 3-coloriage </h2>"
   ]
  },
  {
   "cell_type": "code",
   "execution_count": 56,
   "metadata": {},
   "outputs": [],
   "source": [
    "# Cette fonction tire au sort 2 noeuds reliés de la matrice d'adjacence\n",
    "\n",
    "def tirage(mat, n): # On fournit en entrée la matrice et le nombre de noeuds\n",
    "    i = random.randint(0,n-1) # On tire un noeud i\n",
    "    j = random.randint(0,n-1) # On tire un noeud j\n",
    "    while (mat[i][j]!=\"x\"): # Si les noeuds ne sont pas reliés, on recommence le tirage\n",
    "        i = random.randint(0,n-1)\n",
    "        j = random.randint(0,n-1)\n",
    "    return (i,j) "
   ]
  },
  {
   "cell_type": "code",
   "execution_count": 57,
   "metadata": {},
   "outputs": [],
   "source": [
    "# Cette fonction vérifie le coloriage pour deux noeuds reliés\n",
    "    \n",
    "def preuveColoriage(matAdj, miseGage, tabInfo): # On fournit en entrée la matrice d'adjacence, la mise en gage et les informations nécessaires pour ouvrir la mise en gage\n",
    "    #tabInfo = tableau de 2 tableaux : les couleurs mélangées (= tableau) ET un tableau de n binaires de 128 bits (= tableau)\n",
    "    n = len(miseGage) # On récupère le nombre de noeuds\n",
    "    coul = tabInfo[0] # On récupère les couleurs PERMUTÉES des noeuds\n",
    "    rand = tabInfo[1] # On récupère les entiers de 128 bits\n",
    "    (i,j) = tirage(matAdj, n) # On sélectionne 2 noeuds reliés\n",
    "    if (coul[i] != coul[j]): # S'ils n'ont pas la même couleur\n",
    "        biti = encodageCouleur(coul[i]) # On encode les couleurs en binaire\n",
    "        bitj = encodageCouleur(coul[j])\n",
    "        result1 = hashlib.sha1((rand[i] + biti).encode()).hexdigest() # On hache avec SHA1\n",
    "        result2 = hashlib.sha1((rand[j] + bitj).encode()).hexdigest()\n",
    "        if (result1 == miseGage[i] and result2 == miseGage[j]): # On vérifie si la mise en gage est correcte pour les deux noeuds\n",
    "            return True\n",
    "        else: # Si la mise en gage n'est pas égale\n",
    "            return False\n",
    "    else: # Si les noeuds sont de la même couleur\n",
    "        return False"
   ]
  },
  {
   "cell_type": "code",
   "execution_count": 58,
   "metadata": {},
   "outputs": [],
   "source": [
    "# Cette fonction effectue le test 400 fois pour une matrice et une mise en gage\n",
    "\n",
    "def preuve(matAdj, miseGage, tabInfo) :\n",
    "    bool = True\n",
    "    i = 400\n",
    "    while bool and i!=0:\n",
    "        bool = preuveColoriage(matAdj, miseGage, tabInfo)\n",
    "        i-=1\n",
    "    return bool"
   ]
  },
  {
   "cell_type": "markdown",
   "metadata": {},
   "source": [
    "<h3> Scénario : montrer le fonctionnement des fonctions </h3>"
   ]
  },
  {
   "cell_type": "code",
   "execution_count": 59,
   "metadata": {},
   "outputs": [
    {
     "data": {
      "text/plain": [
       "True"
      ]
     },
     "execution_count": 59,
     "metadata": {},
     "output_type": "execute_result"
    }
   ],
   "source": [
    "# On génère une matrice d'adjacence et un coloriage\n",
    "(mat, color) = genererGraphe3Coloriable(20)\n",
    "\n",
    "# La matrice (mat) est publique\n",
    "# Le coloriage (color) est secret. \n",
    "# L'utilisateur veut ensuite prouver qu'il connait le coloriage\n"
   ]
  },
  {
   "cell_type": "code",
   "execution_count": null,
   "metadata": {},
   "outputs": [],
   "source": [
    "##############\n",
    "# CAS 1 \n",
    "##############\n",
    "\n",
    "# L'utilisateur 1 connaît le réel coloriage et va le mettre en gage\n",
    "(colorMelang1, rand1, gage1) = miseEnGage(color) # il utilise \"color\", càd le vrai coloriage\n",
    "\n",
    "# Il fournit au vérificateur la matrice connue (mat), sa mise en gage (gage1) et les informations (colorMelang1 et rand1)\n",
    "preuve(mat,gage1,[colorMelang1, rand1]) # La vérification est vraie : l'utilisateur connait bien le coloriage"
   ]
  },
  {
   "cell_type": "code",
   "execution_count": 60,
   "metadata": {},
   "outputs": [
    {
     "data": {
      "text/plain": [
       "False"
      ]
     },
     "execution_count": 60,
     "metadata": {},
     "output_type": "execute_result"
    }
   ],
   "source": [
    "##############\n",
    "# CAS 2 \n",
    "##############\n",
    "\n",
    "# L'utilisateur 2 ne connaît pas le réel coloriage\n",
    "# Il 'invente' donc un coloriage (ici, on utilise la fonction qui génère un coloriage aléatoire)\n",
    "colorFake = choixCouleur(20)\n",
    "\n",
    "# Il va le mettre en gage\n",
    "(colorMelang2, rand2, gage2) = miseEnGage(colorFake)\n",
    "\n",
    "# Il fournit au vérificateur ses données\n",
    "preuve(mat,gage2,[colorMelang2, rand2]) # La vérification est fausse"
   ]
  },
  {
   "cell_type": "code",
   "execution_count": 61,
   "metadata": {},
   "outputs": [
    {
     "data": {
      "text/plain": [
       "True"
      ]
     },
     "execution_count": 61,
     "metadata": {},
     "output_type": "execute_result"
    }
   ],
   "source": [
    "(mat, color) = genererGraphe3Coloriable(20)\n",
    "(colorMelang, rand, gage) = miseEnGage(color)\n",
    "preuve(mat,gage,[colorMelang, rand])\n",
    "\n",
    "#écrire le scénario"
   ]
  },
  {
   "cell_type": "markdown",
   "metadata": {},
   "source": [
    "<h2> <u>Partie 4 :</u> Analyse du protocole </h2>"
   ]
  },
  {
   "cell_type": "markdown",
   "metadata": {},
   "source": [
    "<b> <u> Question 1 </u> </b>\n",
    "\n",
    "Réponse"
   ]
  },
  {
   "cell_type": "markdown",
   "metadata": {},
   "source": [
    "<b> <u> Question 2 </u> </b>\n",
    "\n",
    "Réponse"
   ]
  },
  {
   "cell_type": "markdown",
   "metadata": {},
   "source": [
    "<b> <u> Question 3 </u> </b>\n",
    "\n",
    "Réponse"
   ]
  }
 ],
 "metadata": {
  "interpreter": {
   "hash": "2c5af67b1d2fe4160132f6656f32baf7ccbf14a35ffa3cd1a680a6b747815161"
  },
  "kernelspec": {
   "display_name": "Python 3.8.8 64-bit ('base': conda)",
   "name": "python3"
  },
  "language_info": {
   "codemirror_mode": {
    "name": "ipython",
    "version": 3
   },
   "file_extension": ".py",
   "mimetype": "text/x-python",
   "name": "python",
   "nbconvert_exporter": "python",
   "pygments_lexer": "ipython3",
   "version": "3.8.8"
  },
  "orig_nbformat": 4
 },
 "nbformat": 4,
 "nbformat_minor": 2
}
