{
 "cells": [
  {
   "cell_type": "code",
   "execution_count": 248,
   "metadata": {},
   "outputs": [],
   "source": [
    "import random\n",
    "\n",
    "def choixCouleur(x):\n",
    "    couleurs = [\"rouge\", \"vert\", \"bleu\"]\n",
    "    couleursNoeuds=[]\n",
    "    for i in range (x):\n",
    "        num=random.randint(0, 2)\n",
    "        couleursNoeuds.append(couleurs[num])\n",
    "    return couleursNoeuds"
   ]
  },
  {
   "cell_type": "code",
   "execution_count": 249,
   "metadata": {},
   "outputs": [],
   "source": [
    "#tab de string de taille 20*1\n",
    "import numpy as np\n",
    "\n",
    "def create_matr(tab) :\n",
    "    matrice = np.empty((len(tab),len(tab)), dtype=str)\n",
    "    for i in range (0,len(tab)) :\n",
    "        for j in range(i+1) :\n",
    "            if tab[i] != tab[j] :\n",
    "                r = random.randint(0,1)\n",
    "                if r==0 :\n",
    "                    matrice[i][j]=\"x\"\n",
    "                    matrice[j][i]=\"x\"\n",
    "                else :\n",
    "                    matrice[i][j]=\".\"\n",
    "                    matrice[j][i]=\".\"\n",
    "            else: \n",
    "                matrice[i][j]=\".\"\n",
    "                matrice[j][i]=\".\"     \n",
    "    return matrice"
   ]
  },
  {
   "cell_type": "code",
   "execution_count": 250,
   "metadata": {},
   "outputs": [
    {
     "data": {
      "text/plain": [
       "(array([['.', '.', 'x', '.', '.', '.', '.', '.', '.', '.'],\n",
       "        ['.', '.', 'x', 'x', 'x', '.', 'x', 'x', 'x', 'x'],\n",
       "        ['x', 'x', '.', '.', 'x', '.', 'x', '.', 'x', 'x'],\n",
       "        ['.', 'x', '.', '.', 'x', '.', 'x', '.', '.', 'x'],\n",
       "        ['.', 'x', 'x', 'x', '.', 'x', '.', '.', '.', '.'],\n",
       "        ['.', '.', '.', '.', 'x', '.', '.', '.', 'x', 'x'],\n",
       "        ['.', 'x', 'x', 'x', '.', '.', '.', '.', '.', '.'],\n",
       "        ['.', 'x', '.', '.', '.', '.', '.', '.', '.', '.'],\n",
       "        ['.', 'x', 'x', '.', '.', 'x', '.', '.', '.', '.'],\n",
       "        ['.', 'x', 'x', 'x', '.', 'x', '.', '.', '.', '.']], dtype='<U1'),\n",
       " ['rouge',\n",
       "  'vert',\n",
       "  'bleu',\n",
       "  'bleu',\n",
       "  'rouge',\n",
       "  'vert',\n",
       "  'rouge',\n",
       "  'bleu',\n",
       "  'rouge',\n",
       "  'rouge'])"
      ]
     },
     "execution_count": 250,
     "metadata": {},
     "output_type": "execute_result"
    }
   ],
   "source": [
    "def genererGraphe3Coloriable(n):\n",
    "    coloriage = choixCouleur(n)\n",
    "    matrice = create_matr(coloriage)\n",
    "    return(matrice, coloriage) \n",
    "\n",
    "genererGraphe3Coloriable(10)"
   ]
  },
  {
   "cell_type": "code",
   "execution_count": 251,
   "metadata": {},
   "outputs": [],
   "source": [
    "def creerRandom(n) :\n",
    "    t=[]\n",
    "    for i in range(n):\n",
    "        valeur =\"\"\n",
    "        for j in range (128):\n",
    "            temp = str(random.randint(0,1))\n",
    "            valeur += temp\n",
    "        t.append(valeur)\n",
    "    return t\n",
    "\n",
    "def permutationCouleur(listeCouleurs):\n",
    "    #couleurs de bases : rouge, vert, bleu\n",
    "    couleursBase=[\"rouge\",\"vert\",\"bleu\"]\n",
    "    couleursMelangees=[]\n",
    "    listeMelangee=[]\n",
    "    r1=random.randint(0,2) #nombre équivalent rouge\n",
    "    couleursMelangees.append(couleursBase[r1])\n",
    "    r2=random.randint(0,2)\n",
    "    while r1==r2:\n",
    "        r2=random.randint(0,2)\n",
    "    couleursMelangees.append(couleursBase[r2])\n",
    "    r3=3-r2-r1\n",
    "    couleursMelangees.append(couleursBase[r3])\n",
    "    for i in range (len(listeCouleurs)):\n",
    "        if (listeCouleurs[i] == \"rouge\"):\n",
    "            listeMelangee.append(couleursMelangees[0])\n",
    "        elif (listeCouleurs[i] == \"vert\"):\n",
    "            listeMelangee.append(couleursMelangees[1])\n",
    "        else: \n",
    "            listeMelangee.append(couleursMelangees[2])\n",
    "    return (listeMelangee)\n",
    "\n",
    "def encodageCouleur(couleur):\n",
    "    if (couleur == \"rouge\"):\n",
    "        return \"00\"\n",
    "    elif (couleur == \"vert\"):\n",
    "        return \"01\"\n",
    "    else:\n",
    "        return \"10\"\n",
    "\n",
    "def concatenation(listeCouleurs,listeRandom):\n",
    "    hici = []\n",
    "    for i in range (len(listeCouleurs)):\n",
    "        hici.append(listeRandom[i] + encodageCouleur(listeCouleurs[i]))\n",
    "    return hici"
   ]
  },
  {
   "cell_type": "code",
   "execution_count": 252,
   "metadata": {},
   "outputs": [],
   "source": [
    "import hashlib\n",
    "\n",
    "def miseEnGage(listeCouleurs):\n",
    "    n = len(listeCouleurs)\n",
    "    listeMelangee = permutationCouleur(listeCouleurs)\n",
    "    listeAleatoire = creerRandom(n)\n",
    "    listeATransmettre = concatenation(listeMelangee, listeAleatoire)\n",
    "    listeFinale = []\n",
    "    for i in range (n):\n",
    "        result = hashlib.sha1(listeATransmettre[i].encode())\n",
    "        listeFinale.append(result.hexdigest())\n",
    "    return (listeMelangee, listeAleatoire, listeFinale)"
   ]
  },
  {
   "cell_type": "code",
   "execution_count": 253,
   "metadata": {},
   "outputs": [
    {
     "data": {
      "text/plain": [
       "(['rouge',\n",
       "  'rouge',\n",
       "  'rouge',\n",
       "  'bleu',\n",
       "  'bleu',\n",
       "  'bleu',\n",
       "  'rouge',\n",
       "  'rouge',\n",
       "  'bleu',\n",
       "  'vert'],\n",
       " ['10010011011001100111000010101001010110100110001011000111101011001101101001101001001011111011001001101101001111001010010111011111',\n",
       "  '00001010010110011110011000000010110011001001111111010100100010001101010011000010100110101111011011000010110011111001011110011111',\n",
       "  '01000100101010111111110110011100111101011001001001101001001100001110010000111001000111100110011100010010001111100100101010100010',\n",
       "  '11000010001111001111110111101100001111111010111111100011100110100110100111000010010101000111101100011000111100100101111100101110',\n",
       "  '10100110111001101001011000001001100101000011110011110100010010100101110000010111010011110101101111011111010111110010111101101111',\n",
       "  '10010001000101001100001001001000100111100101010100000111011100110100111001100110010100010000101000101111011000010001011000001110',\n",
       "  '10010001110111111000011000110011010101110111001110000001101001000001001111100001110001110101010101001110010011000110110000000111',\n",
       "  '01010010011100011000000011001110010011100111111111000100010110010000010011101001011101001110001110101100010100101110010010000010',\n",
       "  '10001110111001000111010000001101101111000100100111001011101010101011101111111010010100100110010101001000100001000101101110010001',\n",
       "  '00111100110111011110000001001000001110110000111010010101110010010001100010011100111000010101110010001000111110011010011100010011'],\n",
       " ['dc982086ed6c6db76eec30d65cd16cb143351a88',\n",
       "  '7a7b1e6ff23aee93ecf7577721507e078525b7ab',\n",
       "  'f1faf921823c8f9ab4f7b3aad0231ced51056f51',\n",
       "  '2f672a77fb8df421c11261fd7552a3718cf8e196',\n",
       "  '59cd40800b3750fccb6a89010d5c7daa9f4827a2',\n",
       "  '5fac9f349bc9e35023bb11f0cea9f9c7d3caa360',\n",
       "  '6219b1bcbe39aa67c5a5a186c1f155ca1541ac10',\n",
       "  '17cc2438fe94e1b6a74b538cedec2ea17934ec1e',\n",
       "  '8debaac6281511f1e2987306ee375b3b83b21a91',\n",
       "  '5a0ce9fdfcdfb56472efac0db8e0678a6fe97d0a'])"
      ]
     },
     "execution_count": 253,
     "metadata": {},
     "output_type": "execute_result"
    }
   ],
   "source": [
    "#Question 2 (fin)\n",
    "\n",
    "(mat, color) = genererGraphe3Coloriable(10)\n",
    "miseEnGage(color)"
   ]
  },
  {
   "cell_type": "code",
   "execution_count": 254,
   "metadata": {},
   "outputs": [],
   "source": [
    "def tirage(mat, n):\n",
    "    i = random.randint(0,n-1)\n",
    "    j = random.randint(0,n-1)\n",
    "    while (mat[i][j]!=\"x\"):\n",
    "        i = random.randint(0,n-1)\n",
    "        j = random.randint(0,n-1)\n",
    "    return (i,j)\n",
    "    \n",
    "def preuveColoriage(matAdj, miseGage, tabInfo):\n",
    "    #tabInfo = tableau de 2 tableaux : les couleurs mélangées (= tableau) ET un tableau de n binaires de 128 bits (= tableau)\n",
    "    n = len(miseGage)\n",
    "    coul = tabInfo[0]\n",
    "    rand = tabInfo[1]\n",
    "    (i,j)=tirage(matAdj, n)\n",
    "    if (coul[i] != coul[j]):\n",
    "        biti=encodageCouleur(coul[i])\n",
    "        bitj=encodageCouleur(coul[j])\n",
    "        result1 = hashlib.sha1((rand[i] + biti).encode()).hexdigest()\n",
    "        result2 = hashlib.sha1((rand[j] + bitj).encode()).hexdigest()\n",
    "        if (result1 == miseGage[i] and result2 == miseGage[j]):\n",
    "            return True\n",
    "        else:\n",
    "            return False\n",
    "    else:\n",
    "        return False\n",
    "\n",
    "\n",
    "def preuve(matAdj, miseGage, tabInfo) :\n",
    "    bool = True\n",
    "    i = 400\n",
    "    while bool and i!=0:\n",
    "        bool = preuveColoriage(matAdj, miseGage, tabInfo)\n",
    "        i-=1\n",
    "    return bool"
   ]
  },
  {
   "cell_type": "code",
   "execution_count": 255,
   "metadata": {},
   "outputs": [
    {
     "data": {
      "text/plain": [
       "True"
      ]
     },
     "execution_count": 255,
     "metadata": {},
     "output_type": "execute_result"
    }
   ],
   "source": [
    "(mat, color) = genererGraphe3Coloriable(5)\n",
    "(colorMelang, rand, gage) = miseEnGage(color)\n",
    "preuveColoriage(mat,gage,[colorMelang, rand])"
   ]
  },
  {
   "cell_type": "code",
   "execution_count": 256,
   "metadata": {},
   "outputs": [
    {
     "data": {
      "text/plain": [
       "True"
      ]
     },
     "execution_count": 256,
     "metadata": {},
     "output_type": "execute_result"
    }
   ],
   "source": [
    "(mat, color) = genererGraphe3Coloriable(20)\n",
    "(colorMelang, rand, gage) = miseEnGage(color)\n",
    "preuve(mat,gage,[colorMelang, rand])\n",
    "\n",
    "#écrire le scénario"
   ]
  },
  {
   "cell_type": "markdown",
   "metadata": {},
   "source": [
    "Q1. \n",
    "\n",
    "Q2. Il faut réussir 400 fois le test."
   ]
  }
 ],
 "metadata": {
  "interpreter": {
   "hash": "2c5af67b1d2fe4160132f6656f32baf7ccbf14a35ffa3cd1a680a6b747815161"
  },
  "kernelspec": {
   "display_name": "Python 3.8.8 64-bit ('base': conda)",
   "name": "python3"
  },
  "language_info": {
   "codemirror_mode": {
    "name": "ipython",
    "version": 3
   },
   "file_extension": ".py",
   "mimetype": "text/x-python",
   "name": "python",
   "nbconvert_exporter": "python",
   "pygments_lexer": "ipython3",
   "version": "3.8.8"
  },
  "orig_nbformat": 4
 },
 "nbformat": 4,
 "nbformat_minor": 2
}
