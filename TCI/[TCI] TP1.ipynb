{
 "cells": [
  {
   "cell_type": "markdown",
   "id": "b609fd70",
   "metadata": {},
   "source": [
    "# <b> Lab 1 : Source coding </b>\n",
    "\n",
    "<i> Compte-rendu par Valentin SÉRÉE et Jérémy SERENA [INFO3]</i>"
   ]
  },
  {
   "cell_type": "markdown",
   "id": "898bfcfd",
   "metadata": {},
   "source": [
    "<b> <u> Question 1 </u> </b>\n",
    "\n",
    "On suppose que nous avons un alphabet A avec les probabilités d'apparition de chaque symbole associé. \n",
    "Un vecteur aléatoire avec les symboles de l'alphabet est créé.\n",
    "Nous pouvons donc calculer l'entropie associée ainsi que l'entropie réelle à partir de l'apparition des symboles dans le vecteur."
   ]
  },
  {
   "cell_type": "markdown",
   "id": "a84a8358",
   "metadata": {},
   "source": [
    "<hr>\n",
    "<div style = \"font-family: Courier\">\n",
    "    <p style = \"font:font-weight: bold; color: #ffecc5\">\n",
    "        genVecteur\n",
    "    </p>\n",
    "    <div style = \"padding-left: 15px; color: #b6cff5\">\n",
    "        <b>@in :</b> n = nombre de symboles du vecteur \n",
    "        </br>\n",
    "        <b>@in :</b> Alpha = alphabet dont sont tirés les symboles du vecteur\n",
    "        </br>\n",
    "        <b>@out :</b> vect = vecteur formé\n",
    "    </div>\n",
    "</div>\n",
    "<hr><br>\n",
    "<div>\n",
    "Cette fonction construit un vecteur aléatoirement en tenant compte de la probabilité d'apparition de chaque symbole dans l'alphabet. Elle retourne donc un vecteur de longueur n constitué des symboles de l'alphabet renseigné.\n",
    "</div>\n",
    "\n"
   ]
  },
  {
   "cell_type": "code",
   "execution_count": 1,
   "id": "72b8e29f",
   "metadata": {},
   "outputs": [],
   "source": [
    "import random\n",
    "\n",
    "def genVecteur(n, Alpha):\n",
    "    vect = []\n",
    "    for i in range(n) :\n",
    "        r = random.randint(0,999999999)\n",
    "        r = r%100\n",
    "        val = 0.0\n",
    "        for cle,valeur in Alpha.items():\n",
    "            val += valeur*100\n",
    "            if (r <= val) :\n",
    "                vect.append (cle)\n",
    "                break\n",
    "    return vect "
   ]
  },
  {
   "cell_type": "markdown",
   "id": "a84a8358",
   "metadata": {},
   "source": [
    "<hr>\n",
    "<div style = \"font-family: Courier\">\n",
    "    <p style = \"font:font-weight: bold; color: #ffecc5\">\n",
    "        entropieTheorique\n",
    "    </p>\n",
    "    <div style = \"padding-left: 15px; color: #b6cff5\">\n",
    "        <b>@in :</b> Alpha = alphabet dont on veut calculer l'entropie\n",
    "        </br>\n",
    "        <b>@out :</b> ent = entropie théorique calculée\n",
    "    </div>\n",
    "</div>\n",
    "<hr><br>\n",
    "<div>\n",
    "Cette fonction calcule simplement l'entropie théorique à partir d'un alphabet fourni en entrée.</div>\n",
    "\n"
   ]
  },
  {
   "cell_type": "code",
   "execution_count": 2,
   "id": "7cabf4d7",
   "metadata": {},
   "outputs": [],
   "source": [
    "def entropieTheorique(Alpha):\n",
    "    # On initialise l'entropie à la valeur neutre pour une somme (soit 0)\n",
    "    ent = 0\n",
    "    # On parcourt l'alphabet en récupérant la probabilité de chaque symbole\n",
    "    for key, proba in Alpha.items():\n",
    "        # On exclut les valeurs NaN \n",
    "        if proba != 0:\n",
    "            ent = ent + proba*m.log(proba, 2) # On ajoute ce terme à l'entropie\n",
    "    ent = ent * -1\n",
    "    return ent"
   ]
  },
  {
   "cell_type": "markdown",
   "id": "a84a8358",
   "metadata": {},
   "source": [
    "<hr>\n",
    "<div style = \"font-family: Courier\">\n",
    "    <p style = \"font:font-weight: bold; color: #ffecc5\">\n",
    "        entropieReelle\n",
    "    </p>\n",
    "    <div style = \"padding-left: 15px; color: #b6cff5\">\n",
    "        <b>@in :</b> X = vecteur aléatoire avec des symboles tirés de l'alphabet \n",
    "        </br>\n",
    "        <b>@in :</b> Alpha = alphabet dont sont tirés les symboles du vecteur\n",
    "        </br>\n",
    "        <b>@out :</b> ent = entropie réelle du vecteur\n",
    "    </div>\n",
    "</div>\n",
    "<hr><br>\n",
    "<div>\n",
    "    Cette fonction calcule la probabilité réelle d'apparition de chaque symbole à partir du vecteur fourni en entrée, permettant par conséquent de calculer l'entropie réelle (à partir de ces probabilités calculées grâce au vecteur).\n",
    "</div>\n",
    "\n"
   ]
  },
  {
   "cell_type": "code",
   "execution_count": 3,
   "id": "4892cdf0",
   "metadata": {},
   "outputs": [],
   "source": [
    "import math as m\n",
    "\n",
    "def entropieReelle(X, Alpha):\n",
    "    # On initialise l'entropie à la valeur neutre pour une somme (soit 0)\n",
    "    ent = 0\n",
    "    # On crée un dictionnaire pour construire les probabilités réelles d'apparition de chaque symbole\n",
    "    dico = {}\n",
    "    # On initialise le dictionnaire (avant le parcours du vecteur, l'apparition de chaque symbole est 0 fois) \n",
    "    for key in Alpha:\n",
    "        dico[key] = 0\n",
    "    # On parcourt le vecteur : dès qu'un symbole apparait, on incrémente son nombre d'apparitions\n",
    "    for i in range (len(X)):\n",
    "        dico[X[i]]=dico[X[i]]+1\n",
    "    # On parcourt le dictionnaire d'apparitions réelles de chaque symbole\n",
    "    for key, valeur in dico.items():\n",
    "        # On récupère la probabilité (c'est à dire le nb d'apparitions/le nombre de symboles total)\n",
    "        pReelle = valeur/len(X)\n",
    "        # On exclut les valeurs NaN \n",
    "        if pReelle != 0:\n",
    "            ent = ent + pReelle*m.log(pReelle, 2) # On ajoute ce terme à l'entropie\n",
    "    ent = ent * -1\n",
    "    return ent"
   ]
  },
  {
   "cell_type": "markdown",
   "id": "7c1a9204",
   "metadata": {},
   "source": [
    "<h4> Test des fonctions formées </h4>\n",
    "On définit un alphabet de test avec 7 termes (de A à G) avec une probabilité d'apparition de chaque terme. Cet alphabet permet d'effectuer les tests ci-après."
   ]
  },
  {
   "cell_type": "code",
   "execution_count": 4,
   "id": "40f1b9b0",
   "metadata": {},
   "outputs": [],
   "source": [
    "# Alphabet de test\n",
    "# Généré sous la forme d'un dictionnaire Python pour faciliter la manipulation\n",
    "# Chaque symbole est une clé du dictionnaire tandis que la valeur correspond à sa probabilité\n",
    "Alphabet = {'A': 0.36, 'B': 0.12, 'C': 0.35, 'D': 0.04, 'E': 0.09, 'F': 0.01, 'G': 0.03}"
   ]
  },
  {
   "cell_type": "markdown",
   "id": "2d363cd0",
   "metadata": {},
   "source": [
    "Calcul de l'entropie théorique :\n",
    "- on fournit uniquement en paramètre <i>Alphabet</i> (l'alphabet formé ci-dessus)"
   ]
  },
  {
   "cell_type": "code",
   "execution_count": 5,
   "id": "6861d698",
   "metadata": {},
   "outputs": [
    {
     "name": "stdout",
     "output_type": "stream",
     "text": [
      "L'entropie théorique de 'Alphabet' est 2.1443965080867726 bits/symbole\n"
     ]
    }
   ],
   "source": [
    "entTh = str(entropieTheorique(Alphabet))\n",
    "print(\"L'entropie théorique de 'Alphabet' est \" + entTh + \" bits/symbole\")"
   ]
  },
  {
   "cell_type": "markdown",
   "id": "2d363cd0",
   "metadata": {},
   "source": [
    "Calcul de l'entropie réelle :\n",
    "- on fournit en paramètres <i>un vecteur de 100 symboles formé à partir de Alphabet</i> et <i>Alphabet</i> (l'alphabet formé ci-dessus)"
   ]
  },
  {
   "cell_type": "code",
   "execution_count": 6,
   "id": "08ac95b0",
   "metadata": {},
   "outputs": [
    {
     "name": "stdout",
     "output_type": "stream",
     "text": [
      "Le vecteur formé est \n",
      "['C', 'A', 'A', 'A', 'B', 'C', 'A', 'A', 'D', 'C', 'G', 'B', 'C', 'A', 'B', 'A', 'C', 'C', 'C', 'C', 'C', 'C', 'C', 'A', 'A', 'A', 'C', 'A', 'E', 'B', 'C', 'A', 'A', 'E', 'C', 'C', 'C', 'C', 'C', 'A', 'C', 'C', 'C', 'C', 'A', 'A', 'A', 'E', 'F', 'A', 'A', 'B', 'C', 'A', 'E', 'A', 'B', 'D', 'C', 'D', 'C', 'C', 'C', 'A', 'A', 'A', 'A', 'A', 'C', 'A', 'B', 'C', 'F', 'E', 'A', 'A', 'B', 'A', 'B', 'A', 'A', 'A', 'A', 'C', 'C', 'C', 'C', 'A', 'A', 'B', 'C', 'E', 'A', 'A', 'A', 'B', 'A', 'C', 'B', 'A']\n",
      "L'entropie réelle à partir de ce vecteur est 1.9991686867991292 bits/symbole\n"
     ]
    }
   ],
   "source": [
    "vecteur = genVecteur(100, Alphabet)\n",
    "entRe = str(entropieReelle(vecteur, Alphabet))\n",
    "print(\"Le vecteur formé est \")\n",
    "print(vecteur)\n",
    "print(\"L'entropie réelle à partir de ce vecteur est \" + entRe + \" bits/symbole\")"
   ]
  },
  {
   "cell_type": "markdown",
   "id": "898bfcfd",
   "metadata": {},
   "source": [
    "<b> <u> Question 2 </u> </b>\n",
    "\n",
    "En créant un alphabet où les symboles ont une fréquence d'apparition théorique équiprobable, on génère un vecteur aléatoire. On peut ensuite calculer son entropie réelle."
   ]
  },
  {
   "cell_type": "code",
   "execution_count": 7,
   "id": "47b079ca",
   "metadata": {},
   "outputs": [],
   "source": [
    "# Alphabet de test\n",
    "# Généré sous la forme d'un dictionnaire Python pour faciliter la manipulation\n",
    "# Pour simplifier la représentation, nous nous contentrons de deux symboles équiprobables\n",
    "AlphabetEquiprobable = {'A': 0.5, 'B': 0.5 }"
   ]
  },
  {
   "cell_type": "code",
   "execution_count": 8,
   "id": "bb9e873a",
   "metadata": {},
   "outputs": [
    {
     "name": "stdout",
     "output_type": "stream",
     "text": [
      "Le vecteur formé est \n",
      "['B', 'B', 'A', 'B', 'B', 'B', 'B', 'A', 'A', 'B', 'A', 'B', 'B', 'A', 'A', 'B', 'B', 'B', 'A', 'A', 'A', 'A', 'A', 'B', 'B', 'A', 'B', 'B', 'A', 'A', 'A', 'A', 'A', 'A', 'B', 'B', 'B', 'A', 'A', 'A', 'B', 'A', 'A', 'A', 'A', 'B', 'A', 'B', 'B', 'A', 'B', 'B', 'A', 'B', 'B', 'A', 'B', 'B', 'B', 'A', 'B', 'A', 'B', 'B', 'A', 'A', 'A', 'A', 'A', 'A', 'B', 'A', 'A', 'B', 'B', 'A', 'B', 'A', 'A', 'A', 'A', 'B', 'A', 'B', 'A', 'B', 'B', 'A', 'B', 'B', 'B', 'B', 'A', 'A', 'A', 'A', 'A', 'A', 'A', 'B']\n",
      "L'entropie réelle à partir de ce vecteur est 0.9953784388202258 bits/symbole\n",
      "L'écart relatif avec la valeur théorique (1 bit/symb) est de 0.462%\n"
     ]
    }
   ],
   "source": [
    "vecteur = genVecteur(100, AlphabetEquiprobable)\n",
    "entRe = entropieReelle(vecteur, AlphabetEquiprobable)\n",
    "print(\"Le vecteur formé est \")\n",
    "print(vecteur)\n",
    "print(\"L'entropie réelle à partir de ce vecteur est \" + str(entRe) + \" bits/symbole\")\n",
    "ecartRelatif = abs(1-entRe)*100\n",
    "print(\"L'écart relatif avec la valeur théorique (1 bit/symb) est de \" + str(ecartRelatif)[:5] + \"%\")\n"
   ]
  },
  {
   "cell_type": "markdown",
   "id": "02964652",
   "metadata": {},
   "source": [
    "<b> <u> Question 3 </u> </b>\n",
    "\n",
    "Prenons un alphabet à 2 symboles où p(X=0) = a (par conséquent, p(X=1) = 1-a). \n",
    "Il est pertinent de s'intéresser non seulement aux variations de l'entropie réelle en fonction de a mais également en fonction."
   ]
  },
  {
   "cell_type": "markdown",
   "id": "85cf6abe",
   "metadata": {},
   "source": [
    "<hr>\n",
    "<div style = \"font-family: Courier\">\n",
    "    <p style = \"font:font-weight: bold; color: #ffecc5\">\n",
    "        affichage\n",
    "    </p>\n",
    "    <div style = \"padding-left: 15px; color: #b6cff5\">\n",
    "        <b>@in :</b> n = nombre de valeurs de a dessinées \n",
    "    </div>\n",
    "</div>\n",
    "<hr><br>\n",
    "<div>\n",
    "Cette fonction gère l'affichage conjoint de l'entropie théorique en fonction de a ainsi que celle de l'entropie réelle en fonction de a. Elle utilise le module pyplot de matplotlib.\n",
    "</div>\n",
    "\n"
   ]
  },
  {
   "cell_type": "code",
   "execution_count": 9,
   "id": "235ba701",
   "metadata": {},
   "outputs": [],
   "source": [
    "import matplotlib.pyplot as plt\n",
    "import numpy as np\n",
    "\n",
    "def affichage(n):\n",
    "    Lx = np.linspace(0.001,0.999,n)\n",
    "    LyR=[]\n",
    "    LyT=[]\n",
    "    for a in Lx:\n",
    "        Alphabet3 = {'0': a, '1': 1-a}\n",
    "        LyT.append(-(a*m.log(a,2) + (1-a)*m.log(1-a,2)))\n",
    "        LyR.append(entropieReelle(genVecteur(100, Alphabet3), Alphabet3))\n",
    "    plt.plot(Lx, LyR)\n",
    "    plt.plot(Lx, LyT)\n",
    "    axes = {'family': 'DejaVu Sans', 'size': 14}\n",
    "    reelle = {'family': 'DejaVu Sans', 'color' : '#1f76b4', 'size': 12}\n",
    "    theorique = {'family': 'DejaVu Sans', 'color' : '#e77d1f', 'size': 12}\n",
    "    plt.xlabel(\"a = P[X=0]\", axes)\n",
    "    plt.ylabel(\"Entropie (bit/symb)\", axes)\n",
    "    plt.title(\"Entropie réelle\", reelle, loc=\"right\")\n",
    "    plt.title(\"Entropie théorique\", theorique, loc=\"left\")\n",
    "    plt.show()"
   ]
  },
  {
   "cell_type": "markdown",
   "id": "7eefdf09",
   "metadata": {},
   "source": [
    "<h4> Test de la fonction formée </h4>\n",
    "On affiche 1000 valeurs de a (prises entre 0 et 1) afin d'avoir une courbe la plus précise possible. \n",
    "Comme précisé, la courbe orange représente la courbe théorique tandis que la bleue est la courbe réelle. On note que la courbe réelle obtenue est cohérente avec la courbe théorique."
   ]
  },
  {
   "cell_type": "code",
   "execution_count": 10,
   "id": "9c8e3325",
   "metadata": {},
   "outputs": [
    {
     "data": {
      "image/png": "[encoded data removed]",
      "text/plain": [
       "<Figure size 432x288 with 1 Axes>"
      ]
     },
     "metadata": {
      "needs_background": "light"
     },
     "output_type": "display_data"
    }
   ],
   "source": [
    "affichage(1000)"
   ]
  },
  {
   "cell_type": "markdown",
   "id": "f2693cb7",
   "metadata": {},
   "source": [
    "<b> <u> Question 4 </u> </b>\n",
    "\n",
    "Considérons une source discrète sans mémoire avec un alphabet binaire. <i>(voir sujet)</i>\n",
    "\n",
    "$$\\pi = \\begin{pmatrix} p_{00} & p_{10} \\\\ p_{01} & p_{11} \\end{pmatrix} $$\n",
    "\n",
    "Pour connaître p<sub>0</sub> et p<sub>1</sub>, calculons : \n",
    "$$ P\\pi = P $$\n",
    "où : \n",
    "$$ P = \\begin{bmatrix} p(x_k = 0) & p(x_k = 1)\\end{bmatrix} = \\begin{bmatrix} p_0 & p_1\\end{bmatrix} $$\n",
    "          \n",
    "Donc : \n",
    "$$ \\begin{bmatrix} p_0 & p_1\\end{bmatrix} = \\begin{bmatrix} p_0 \\times p_{00} + p_1 \\times p_{01} & p_0 \\times p_{10} + p_1 \\times p_{11} \\end{bmatrix}$$\n",
    "\n",
    "On a donc (en régime stationnaire) : \n",
    "$$p_0 = p_0 \\times p_{00} + p_1 \\times p_{01} $$\n",
    "\n",
    "Or : $$ p_1 = 1 - p_0 $$\n",
    "\n",
    "On obtient donc : <br>\n",
    "$$ p_0 \\times p_{00} + (1 - p_0) \\times p_{01} = p_0 $$\n",
    "$$ p_0 \\times (p_{00} - 1 - p_{01}) = - p_{01} $$\n",
    "Ce qui donne :\n",
    "$$ p_0 = \\frac{p_{01}}{1 + p_{01} - p_{00}} $$\n",
    "$$ p_1 = \\frac{1 - p_{00}}{1 + p_{01} - p_{00}} $$\n",
    "          "
   ]
  },
  {
   "cell_type": "markdown",
   "id": "346b0ab6",
   "metadata": {},
   "source": [
    "On peut ainsi calculer l'entropie H(x<sub>k</sub>) de cette source :\n",
    "$$ \\begin{align}\n",
    "H(x_k) & = \\sum H(x_k |  x_{k-1}) \\times p(x_{k-1}) \\\\\n",
    "            & = H(x_k | x_{k-1} = 0) \\times p(x_{k-1} = 0) + H(x_k | x_{k-1} = 1) \\times p(x_{k-1} = 1) \\\\\n",
    "            & = H(x_k | x_{k-1} = 0) \\times p_0 + H(x_k | x_{k-1} = 1) \\times p_1 \\\\\n",
    "            & = - [ p(x_k = 0 | x_{k-1} = 0) \\times log_2(p(x_k = 0 | x_{k-1} =0)) + p(x_k = 1 | x_{k-1} = 0) \\times log_2(p(x_k = 1 | x_{k-1} =0))] \\times p_0 \\\\\n",
    "            & - [ p(x_k = 0 | x_{k-1} = 1) \\times log_2(p(x_k = 0 | x_{k-1} =1)) + p(x_k = 1 | x_{k-1} = 1) \\times log_2(p(x_k = 1 | x_{k-1} =1))] \\times p_1\n",
    "\\end{align} $$ \n",
    "\n",
    "On aboutit ainsi à :\n",
    "$$ H(x_k) = - [p_{00} \\times log_2(p_{00}) + p_{01} \\times log_2(p_{01})] \\times p_0 - [p_{10} \\times log_2(p_{10}) + p_{11} \\times log_2(p_{11})] \\times p_1 $$"
   ]
  },
  {
   "cell_type": "markdown",
   "id": "49359d6b",
   "metadata": {},
   "source": [
    "<b> <u> Question 5 </u> </b>\n",
    "\n",
    "Grâce aux résultats précédents, nous souhaitons calculer l'entropie d'une photographie (en l'occurence ici un document écrit). Pour cela, nous devons utiliser la matrice de transition à partir des pixels de cette image."
   ]
  },
  {
   "cell_type": "markdown",
   "id": "a8f03a8e",
   "metadata": {},
   "source": [
    "<hr>\n",
    "<div style = \"font-family: Courier\">\n",
    "    <p style = \"font:font-weight: bold; color: #ffecc5\">\n",
    "        matriceTransition\n",
    "    </p>\n",
    "    <div style = \"padding-left: 15px; color: #b6cff5\">\n",
    "        <b>@in :</b> path = chemin vers l'image \n",
    "        </br>\n",
    "        <b>@out :</b> P = matrice de transition de l'image fournie\n",
    "    </div>\n",
    "</div>\n",
    "<hr><br>\n",
    "<div>\n",
    "    Cette fonction va calculer les valeurs équivalentes à p<sub>00</sub>, p<sub>10</sub>, p<sub>01</sub> et p<sub>11</sub> (constituant la matrice de transition de l'image)\n",
    "</div>\n",
    "\n"
   ]
  },
  {
   "cell_type": "code",
   "execution_count": 11,
   "id": "5cad8fe2",
   "metadata": {},
   "outputs": [],
   "source": [
    "from PIL import Image as Img\n",
    "import numpy as np\n",
    "\n",
    "def matriceTransition(path):\n",
    "    im = Img.open(path) # On récupère l'image fournie\n",
    "    imgData = np.asarray(im) # On la transforme en tableau numpy\n",
    "    nN = 0 # nombre de pixels noir suivis par un noir\n",
    "    bN = 0 # nombre de pixels blancs suivis par un noir\n",
    "    for i in range(len(imgData)):\n",
    "        for j in range(len(imgData[0])):\n",
    "            if imgData[i][j] == 0 and imgData[(i+1)%len(imgData)][j] == 0: # si on a un pixel noir et que le pixel \"proche\" associé est noir\n",
    "                nN += 1 # on augmente le compteur de pixel noir associé à un pixel noir\n",
    "            if imgData[i][j] == 1 and imgData[(i+1)%len(imgData)][j] == 0: # si on a un pixel blanc et que le pixel \"proche\" associé est noir\n",
    "                bN += 1 # on augmente le compteur de pixel blanc associé à un pixel noir\n",
    "    nbPixel = len(imgData)*len(imgData[0]) # on calcule le nombre de pixels total\n",
    "    P = [[nN/nbPixel, 1-(nN/nbPixel)], [bN/nbPixel, 1-(bN/nbPixel)]]\n",
    "    return P"
   ]
  },
  {
   "cell_type": "markdown",
   "id": "458c7644",
   "metadata": {},
   "source": [
    "Nous pouvons désormais récupérer les composants de la matrice pour, dans un premier temps, calculer p<sub>0</sub> et p<sub>1</sub>, ce qui nous permettra dans un second temps de calculer l'entropie en considérant une source sans et avec mémoire."
   ]
  },
  {
   "cell_type": "code",
   "execution_count": 12,
   "id": "0cd42887",
   "metadata": {},
   "outputs": [
    {
     "name": "stdout",
     "output_type": "stream",
     "text": [
      "L'entropie H(xk) est 0.071 bit/symbole\n",
      "L'entropie de la source correspondante sans mémoire est 0.084 bit/symbole\n"
     ]
    }
   ],
   "source": [
    "# Nous appliquons la fonction ci-dessus pour récupérer les composants de la matrice de transition de l'image\n",
    "[[p00, p10], [p01, p11]] = matriceTransition(r\"./image.png\")\n",
    "\n",
    "# Cela nous permet de calculer les deux termes p0 et p1\n",
    "p0 = p01/(1+p01-p00)\n",
    "p1 = (1-p00)/(1+p01-p00)\n",
    "\n",
    "# On peut appliquer la formule vue en question 4 pour la source avec mémoire\n",
    "Hmem = -(p00*m.log(p00,2)+p01*m.log(p01,2))*p0 - (p10*m.log(p10,2)+p11*m.log(p11,2))*p1\n",
    "\n",
    "# On peut également calculer l'entropie de cette même source sans mémoire\n",
    "H = -p0*m.log(p0,2) - p1*m.log(p1,2)\n",
    "\n",
    "print(\"L'entropie H(xk) est \" + str(Hmem)[:5] + \" bit/symbole\")\n",
    "print(\"L'entropie de la source correspondante sans mémoire est \" + str(H)[0:5] + \" bit/symbole\")"
   ]
  },
  {
   "cell_type": "markdown",
   "id": "8b596b1f",
   "metadata": {},
   "source": [
    "On remarque que l'entropie de la source considérée sans mémoire est plus importante que cette même source avec mémoire. Cela s'explique par le fait que deux pixels accolés ne sont pas totalement indépendants.\n",
    "\n",
    "La longueur moyenne est de 1 bit/symbole. \n",
    "L'efficacité, calculée comme le rapport de l'entropie par la longueur moyenne, est donc de 7.1% pour la source sans mémoire. Cette très faible efficacité s'explique par le fait que le codage n'est pas optimal : plusieurs bits identiques accolés peuvent être codés simultanément."
   ]
  },
  {
   "cell_type": "markdown",
   "id": "e370ab58",
   "metadata": {},
   "source": [
    "<b> <u> Question 6 </u> </b>\n",
    "\n",
    "Nous allons réaliser un encodeur basé sur la méthode RLE pour une telle source. "
   ]
  },
  {
   "cell_type": "markdown",
   "id": "b3b29cc0",
   "metadata": {},
   "source": [
    "<hr>\n",
    "<div style = \"font-family: Courier\">\n",
    "    <p style = \"font:font-weight: bold; color: #ffecc5\">\n",
    "        sourceEncoder\n",
    "    </p>\n",
    "    <div style = \"padding-left: 15px; color: #b6cff5\">\n",
    "        <b>@in :</b> path = chemin vers l'image \n",
    "        </br>\n",
    "        <b>@out :</b> res = encodage\n",
    "    </div>\n",
    "</div>\n",
    "<hr><br>\n",
    "<div>\n",
    "    Cette fonction encode selon la méthode RLE l'image fournie. En sortie, la fonction ressort une liste où chaque terme est une chaîne de caractères représentant une ligne de l'image. Le bit de la couleur du pixel est ici écrite en N/B (au lieu de 0/1) pour des soucis de lisibilité (mais serait facilement retranscriptible en changeant ce paramètre). Le nombre de pixels de la couleur sont également écrits dans une base 10 (et non une base 2) pour des soucis de lisibilité (facilement retranscriptible avec la fonction bin() Python). \n",
    "</div>\n",
    "\n"
   ]
  },
  {
   "cell_type": "code",
   "execution_count": 13,
   "id": "498e562c",
   "metadata": {},
   "outputs": [],
   "source": [
    "def sourceEncoder(path):\n",
    "    im = Img.open(path) # On récupère l'image\n",
    "    imgData = np.asarray(im) # On la transforme en tableau numpy\n",
    "    res = []\n",
    "    for i in range(len(imgData)): # On parcourt toute l'image\n",
    "        colorActual = \"B\"\n",
    "        string_row = \"\"\n",
    "        nombrePixel = 0\n",
    "        for j in range(len(imgData[0])):\n",
    "            if imgData[i][j] == 0 :#si pixel noir\n",
    "                if colorActual == \"N\" :# si série de pixels noirs\n",
    "                    nombrePixel += 1\n",
    "                else :# si série de pixels blancs\n",
    "                    string = colorActual + ' ' + str(nombrePixel) + ' ; '\n",
    "                    string_row += string\n",
    "                    nombrePixel = 1\n",
    "                    colorActual = \"N\"\n",
    "            else :# si pixel blanc\n",
    "                if colorActual == \"B\" :# si série de pixels blancs\n",
    "                    nombrePixel += 1\n",
    "                else :# si série de pixels noirs\n",
    "                    string = colorActual + ' ' + str(nombrePixel) + ' ; '\n",
    "                    string_row += string\n",
    "                    nombrePixel = 1\n",
    "                    colorActual = \"B\"\n",
    "        string = colorActual + str(nombrePixel) \n",
    "        string_row += string\n",
    "        res.append(string_row)\n",
    "        nombrePixel = 0\n",
    "        colorActual = \"B\"\n",
    "    return res"
   ]
  },
  {
   "cell_type": "markdown",
   "id": "53f27a39",
   "metadata": {},
   "source": [
    "<h4> Test de la fonction formée </h4>\n",
    "On affiche une partie des lignes de notre image encodée (par soucis de concision)."
   ]
  },
  {
   "cell_type": "code",
   "execution_count": 24,
   "id": "594ba6b2",
   "metadata": {},
   "outputs": [
    {
     "name": "stdout",
     "output_type": "stream",
     "text": [
      "Encodage de la ligne 1400\n",
      "B 450 ; N 4 ; B 11 ; N 3 ; B 18 ; N 4 ; B 8 ; N 3 ; B 8 ; N 3 ; B 5 ; N 3 ; B 27 ; N 3 ; B 8 ; N 3 ; B 7 ; N 3 ; B 8 ; N 3 ; B 7 ; N 3 ; B 8 ; N 4 ; B 7 ; N 4 ; B 6 ; N 3 ; B 9 ; N 4 ; B 4 ; N 2 ; B 18 ; N 3 ; B 18 ; N 4 ; B 10 ; N 4 ; B 7 ; N 3 ; B 19 ; N 3 ; B 8 ; N 3 ; B 8 ; N 3 ; B 5 ; N 3 ; B 17 ; N 6 ; B 10 ; N 6 ; B 16 ; N 6 ; B 7 ; N 3 ; B 8 ; N 3 ; B 5 ; N 3 ; B 17 ; N 6 ; B 22 ; N 3 ; B 7 ; N 4 ; B 7 ; N 4 ; B 16 ; N 3 ; B 8 ; N 4 ; B 7 ; N 4 ; B 4 ; N 3 ; B 27 ; N 6 ; B 9 ; N 3 ; B 17 ; N 3 ; B 20 ; N 3 ; B 6 ; N 7 ; B 21 ; N 4 ; B 8 ; N 3 ; B 8 ; N 3 ; B 8 ; N 3 ; B 8 ; N 3 ; B 7 ; N 3 ; B 7 ; N 3 ; B 27 ; N 3 ; B 8 ; N 3 ; B 8 ; N 3 ; B 5 ; N 3 ; B 18 ; N 3 ; B 8 ; N 3 ; B 16 ; N 4 ; B 8 ; N 3 ; B 8 ; N 3 ; B 8 ; N 3 ; B 6 ; N 7 ; B 20 ; N 4 ; B 7 ; N 4 ; B 6 ; N 3 ; B 8 ; N 3 ; B 7 ; N 4 ; B 7 ; N 4 ; B 8 ; N 3 ; B 6 ; N 4 ; B 9 ; N 4 ; B 3 ; N 3 ; B 17 ; N 4 ; B 18 ; N 3 ; B 10 ; N 4 ; B 5 ; N 4 ; B 25 ; N 7 ; B 6 ; N 4 ; B 7 ; N 4 ; B 8 ; N 3 ; B 6 ; N 2 ; B 17 ; N 4 ; B 8 ; N 3 ; B 8 ; N 3 ; B 5 ; N 4 ; B 10 ; N 4 ; B 5 ; N 3 ; B 8 ; N 3 ; B 5 ; N 4 ; B 10 ; N 4 ; B 5 ; N 3 ; B 6 ; N 4 ; B 10 ; N 4 ; B 5 ; N 3 ; B 8 ; N 4 ; B 7 ; N 3 ; B 6 ; N 3 ; B 27 ; N 4 ; B 8 ; N 4 ; B 7 ; N 4 ; B 6 ; N 4 ; B 8 ; N 3 ; B 5 ; N 3 ; B 17 ; N 3 ; B 10 ; N 3 ; B 5 ; N 4 ; B 10 ; N 4 ; B 5 ; N 3 ; B 8 ; N 4 ; B 13 ; N 4 ; B 10 ; N 4 ; B 7 ; N 3 ; B 19 ; N 3 ; B 8 ; N 3 ; B 8 ; N 3 ; B 8 ; N 3 ; B 7 ; N 6 ; B 21 ; N 3 ; B 8 ; N 3 ; B 6 ; N 4 ; B 7 ; N 4 ; B 7 ; N 3 ; B 8 ; N 3 ; B 8 ; N 4 ; B 6 ; N 3 ; B 9 ; N 4 ; B 3 ; N 3 ; B 18 ; N 3 ; B392\n"
     ]
    }
   ],
   "source": [
    "encodage = sourceEncoder(r\"./image.png\")\n",
    "print(\"Encodage de la ligne 1400\")\n",
    "print(encodage[1400])"
   ]
  }
 ],
 "metadata": {
  "interpreter": {
   "hash": "2c5af67b1d2fe4160132f6656f32baf7ccbf14a35ffa3cd1a680a6b747815161"
  },
  "kernelspec": {
   "display_name": "Python 3.8.8 64-bit ('base': conda)",
   "name": "python3"
  },
  "language_info": {
   "codemirror_mode": {
    "name": "ipython",
    "version": 3
   },
   "file_extension": ".py",
   "mimetype": "text/x-python",
   "name": "python",
   "nbconvert_exporter": "python",
   "pygments_lexer": "ipython3",
   "version": "3.8.8"
  }
 },
 "nbformat": 4,
 "nbformat_minor": 5
}
