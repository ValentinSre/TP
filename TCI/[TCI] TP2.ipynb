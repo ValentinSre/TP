{
 "cells": [
  {
   "cell_type": "markdown",
   "id": "8e743f4c",
   "metadata": {},
   "source": [
    "# <b> Lab 2 : Lossy image compression </b>\n",
    "\n",
    "<i> Compte-rendu par Valentin SÉRÉE et Jérémy SERENA [INFO3]</i>"
   ]
  },
  {
   "cell_type": "markdown",
   "id": "293db284",
   "metadata": {},
   "source": [
    "<b> <u> Question 1 </u> </b>\n",
    "\n",
    "<i> Récupération de l'image </i>"
   ]
  },
  {
   "cell_type": "markdown",
   "id": "1dd1851b",
   "metadata": {},
   "source": [
    "<b> <u> Question 2 </u> </b>\n",
    "\n",
    "Nous allons appliquer l'algorithme k-means à une image. Cet algorithme de clustering permet d'analyser le jeu de données qu'est l'image afin de regrouper les donnéees similaires en clusters (ici pouvoir \"rassembler\" des couleurs proches)."
   ]
  },
  {
   "cell_type": "markdown",
   "id": "15aad4a3",
   "metadata": {},
   "source": [
    "<hr>\n",
    "<div style = \"font-family: Courier\">\n",
    "    <p style = \"font:font-weight: bold; color: #ffecc5\">\n",
    "        kMeansAlgo\n",
    "    </p>\n",
    "    <div style = \"padding-left: 15px; color: #b6cff5\">\n",
    "        <b>@in :</b> k = nombre de clusters \n",
    "        </br>\n",
    "        <b>@out :</b> image =  tableau représentant l'image d'origine\n",
    "        </br>\n",
    "        <b>@out :</b> imageSeg = tableau représentant l'image clusterisée dont les centroides sont compressés (codewords)\n",
    "        </br>\n",
    "        <b>@out :</b> codebook = dictionnaire traduisant les codewords en couleurs (RVB)\n",
    "    </div>\n",
    "</div>\n",
    "<hr><br>\n",
    "<div>\n",
    "Cette fonction prend en entrée le nombre de clusters à créer pour l'image (variable globale). L'image va être passée à travers l'algorithme k-means (fonctions Python) puis ressortie sous la forme d'un tableau avec uniquement k valeurs qu'il faudra associer au codebook.</div>\n",
    "\n"
   ]
  },
  {
   "cell_type": "code",
   "execution_count": 1,
   "id": "38f58723",
   "metadata": {},
   "outputs": [],
   "source": [
    "import numpy as np \n",
    "import matplotlib.pyplot as plt \n",
    "import cv2 \n",
    "\n",
    "imgPath = 'ex9Data/bird_small.tiff'\n",
    "\n",
    "def kMeansAlgo(k):\n",
    "    global imgPath\n",
    "    image = cv2.imread(imgPath) \n",
    "    image = cv2.cvtColor(image, cv2.COLOR_BGR2RGB) \n",
    "    criteria = (cv2.TERM_CRITERIA_EPS + cv2.TERM_CRITERIA_MAX_ITER, 100, 0.85) \n",
    "    pixel_vals = image.reshape((-1,3)) \n",
    "    pixel_vals = np.float32(pixel_vals)\n",
    "    retval, labels, centers = cv2.kmeans(pixel_vals, k, None, criteria, 10, cv2.KMEANS_RANDOM_CENTERS) \n",
    "    centers = np.uint8(centers) \n",
    "    codebook = {}\n",
    "    listCenters = list(centers)\n",
    "    for i in range (len(listCenters)):\n",
    "        codebook[i] = list(listCenters[i])\n",
    "    segmented_data = centers[labels.flatten()]\n",
    "    segmented_image = segmented_data.reshape((image.shape)) \n",
    "    imageSeg = codebookImage(segmented_image, codebook)\n",
    "    return image, imageSeg, codebook"
   ]
  },
  {
   "cell_type": "markdown",
   "id": "15aad4a3",
   "metadata": {},
   "source": [
    "<hr>\n",
    "<div style = \"font-family: Courier\">\n",
    "    <p style = \"font:font-weight: bold; color: #ffecc5\">\n",
    "        codebookImage\n",
    "    </p>\n",
    "    <div style = \"padding-left: 15px; color: #b6cff5\">\n",
    "        <b>@in :</b> img = tableau représentant l'image clusterisée (avec les couleurs RVB) \n",
    "        </br>\n",
    "        <b>@in :</b> cb =  codebook = dictionnaire traduisant toutes les couleurs de l'image (RVB) en codewords\n",
    "        </br>\n",
    "        <b>@out :</b> imageSeg = tableau représentant l'image clusterisée dont les centroides sont compressés (codewords)\n",
    "    </div>\n",
    "</div>\n",
    "<hr><br>\n",
    "<div>\n",
    "Cette fonction prend en entrée l'image clusterisée et transforme ses termes en codewords selon le codebook fourni. L'image en sortie sera donc un tableau à 2 dimensions dont les composants iront de 0 à k-1 (où k est la longueur du codebook, c'est-à-dire le nombre de clusters).</div>\n",
    "\n"
   ]
  },
  {
   "cell_type": "code",
   "execution_count": 2,
   "id": "6e33c14a",
   "metadata": {},
   "outputs": [],
   "source": [
    "def codebookImage(img, cb):\n",
    "    image = []\n",
    "    for i in range (len(img)):\n",
    "        ligne = []\n",
    "        for j in range (len(img[0])):\n",
    "            for k in range (len(cb)):\n",
    "                if (np.array(cb[k]) == img[i][j]).all():\n",
    "                    ligne.append(k)\n",
    "        image.append(np.array(ligne))\n",
    "        ligne = []\n",
    "    res = np.array(image)\n",
    "    return res"
   ]
  },
  {
   "cell_type": "markdown",
   "id": "1dd1851b",
   "metadata": {},
   "source": [
    "<b> <u> Question 3 </u> </b>\n",
    "\n",
    "Nous allons mettre en oeuvre l'algorithme réalisé ci-dessus pour afficher l'image clusterisée à l'aide de l'image définie en codewords et du codebook. Pour cela, nous allons définir deux fonctions qui permettront de faciliter cet affichage et seront réutilisées plus tard au cours de ce TP."
   ]
  },
  {
   "cell_type": "markdown",
   "id": "15aad4a3",
   "metadata": {},
   "source": [
    "<hr>\n",
    "<div style = \"font-family: Courier\">\n",
    "    <p style = \"font:font-weight: bold; color: #ffecc5\">\n",
    "        dessinerImg\n",
    "    </p>\n",
    "    <div style = \"padding-left: 15px; color: #b6cff5\">\n",
    "        <b>@in :</b> img = tableau représentant l'image clusterisée (avec les couleurs RVB) \n",
    "    </div>\n",
    "</div>\n",
    "<hr><br>\n",
    "<div>\n",
    "Cette fonction permet l'affichage d'une image fournie sous forme d'un tableau RVB.</div>\n",
    "\n"
   ]
  },
  {
   "cell_type": "code",
   "execution_count": 3,
   "id": "a16a7df7",
   "metadata": {},
   "outputs": [],
   "source": [
    "def dessinerImg(img):\n",
    "    plt.axis('off')\n",
    "    plt.imshow(img)"
   ]
  },
  {
   "cell_type": "markdown",
   "id": "15aad4a3",
   "metadata": {},
   "source": [
    "<hr>\n",
    "<div style = \"font-family: Courier\">\n",
    "    <p style = \"font:font-weight: bold; color: #ffecc5\">\n",
    "        remettreEnPlace\n",
    "    </p>\n",
    "    <div style = \"padding-left: 15px; color: #b6cff5\">\n",
    "        <b>@in :</b> img = tableau représentant l'image clusterisée dont les centroides sont compressés (codewords) \n",
    "        </br>\n",
    "        <b>@in :</b> cb =  codebook = dictionnaire traduisant toutes les couleurs de l'image (RVB) en codewords\n",
    "        </br>\n",
    "        <b>@out :</b> res = tableau représentant l'image clusterisée (avec les couleurs RVB) \n",
    "    </div>\n",
    "</div>\n",
    "<hr><br>\n",
    "<div>\n",
    "Cette fonction prend en entrée l'image clusterisée dont ses termes sont des codewords traduits dans le codebook fourni. L'image en sortie sera donc un tableau à 2 dimensions dont les composants seront les couleurs équivalentes aux codewords.</div>\n",
    "\n"
   ]
  },
  {
   "cell_type": "code",
   "execution_count": 4,
   "id": "2d5e3b30",
   "metadata": {},
   "outputs": [],
   "source": [
    "def remettreEnPlace(img, cb):\n",
    "    image = []\n",
    "    for i in range (len(img)):\n",
    "        ligne = []\n",
    "        for j in range (len(img[0])):\n",
    "            ligne.append(np.array(cb[img[i][j]]))\n",
    "        image.append(np.array(ligne))\n",
    "        ligne = []\n",
    "    res = np.array(image)\n",
    "    return res"
   ]
  },
  {
   "cell_type": "markdown",
   "id": "ba0f6a98",
   "metadata": {},
   "source": [
    "<h4> Test des fonctions formées </h4>\n",
    "On crée dans un premier temps une image clusterisée (on affiche uniquement la première ligne par soucis de commodité, mais on remarque que les valeurs sont bien entre 0 et 9) ainsi que son codebook. Dans un second temps, on essaie d'afficher la photographie remise en forme."
   ]
  },
  {
   "cell_type": "code",
   "execution_count": 5,
   "id": "c09023ec",
   "metadata": {},
   "outputs": [
    {
     "name": "stdout",
     "output_type": "stream",
     "text": [
      "La première ligne de notre image clusterisée est :\n",
      "[2 2 2 2 2 2 2 2 2 2 2 2 2 2 2 2 2 2 2 2 2 2 2 2 2 2 2 2 2 2 2 2 2 2 2 2 2\n",
      " 2 2 2 2 2 2 2 2 2 2 2 6 6 6 6 6 6 6 6 6 6 6 6 2 6 6 6 6 6 6 6 6 6 6 6 3 6\n",
      " 2 2 2 2 2 2 2 2 2 2 2 2 6 2 2 6 2 2 2 4 2 6 7 5 5 0 0 0 0 0 0 0 0 0 0 0 0\n",
      " 0 0 0 0 0 0 0 0 0 0 0 0 0 0 0 0 0]\n",
      "Le codebook associé est :\n",
      "{0: [25, 27, 24], 1: [247, 239, 203], 2: [220, 178, 110], 3: [172, 151, 131], 4: [230, 202, 166], 5: [67, 60, 58], 6: [193, 139, 66], 7: [130, 96, 55], 8: [140, 171, 208], 9: [121, 110, 112]}\n",
      "Notre image reconstituée est donc :\n"
     ]
    },
    {
     "data": {
      "image/png": "[encoded data removed]",
      "text/plain": [
       "<Figure size 432x288 with 1 Axes>"
      ]
     },
     "metadata": {
      "needs_background": "light"
     },
     "output_type": "display_data"
    }
   ],
   "source": [
    "(image, imageCodewords, codebook) = kMeansAlgo(10)\n",
    "print(\"La première ligne de notre image clusterisée est :\")\n",
    "print(imageCodewords[0])\n",
    "print(\"Le codebook associé est :\")\n",
    "print(codebook)\n",
    "\n",
    "# On reconstitue ensuite l'image \n",
    "image_k_Couleurs = remettreEnPlace(imageCodewords, codebook) \n",
    "print(\"Notre image reconstituée est donc :\")\n",
    "dessinerImg(image_k_Couleurs)"
   ]
  },
  {
   "cell_type": "markdown",
   "id": "1dd1851b",
   "metadata": {},
   "source": [
    "<b> <u> Question 4 </u> </b>\n",
    "\n",
    "Nous allons calculer consécutivement D(k) (comme la <i>mean square error</i> entre l'image originale et l'image reconstituée) et R(k) après un codage RLE."
   ]
  },
  {
   "cell_type": "markdown",
   "id": "15aad4a3",
   "metadata": {},
   "source": [
    "<hr>\n",
    "<div style = \"font-family: Courier\">\n",
    "    <p style = \"font:font-weight: bold; color: #ffecc5\">\n",
    "        D\n",
    "    </p>\n",
    "    <div style = \"padding-left: 15px; color: #b6cff5\">\n",
    "        <b>@in :</b> k = nombre de clusters\n",
    "        </br>\n",
    "        <b>@out :</b> MSE = mean square error\n",
    "    </div>\n",
    "</div>\n",
    "<hr><br>\n",
    "<div>\n",
    "Cette fonction calcule simplement la mean square error entre les deux photos. Elle se charge elle-même de clusteriser la photo d'origine et la reconstruire pour faire la comparaison.</div>\n",
    "\n"
   ]
  },
  {
   "cell_type": "code",
   "execution_count": 6,
   "id": "8d7e5b47",
   "metadata": {},
   "outputs": [],
   "source": [
    "from sklearn.metrics import mean_squared_error\n",
    "import numpy as np\n",
    "\n",
    "def D(k):\n",
    "    (img, imgCdw, codebook) = kMeansAlgo(k)\n",
    "    imgReconst = remettreEnPlace(imgCdw, codebook)\n",
    "    MSE = np.square(np.subtract(img,imgReconst)).mean()    \n",
    "    return MSE"
   ]
  },
  {
   "cell_type": "markdown",
   "id": "15aad4a3",
   "metadata": {},
   "source": [
    "<hr>\n",
    "<div style = \"font-family: Courier\">\n",
    "    <p style = \"font:font-weight: bold; color: #ffecc5\">\n",
    "        codingRateRLE\n",
    "    </p>\n",
    "    <div style = \"padding-left: 15px; color: #b6cff5\">\n",
    "        <b>@in :</b> k = nombre de clusters\n",
    "        </br>\n",
    "        <b>@out :</b> res = tableau représentant l'image dont les pixels sont définis selon des codewords <u> et </u> triés selon RLE\n",
    "        </br>\n",
    "        <b>@out :</b> codebook = dictionnaire traduisant toutes les couleurs de l'image (RVB) en codewords\n",
    "    </div>\n",
    "</div>\n",
    "<hr><br>\n",
    "<div>\n",
    "Cette fonction clusterise la photographie fournie et la code selon le protocole RLE afin de retourner un tableau représentant l'image et son codebook associé.</div>\n",
    "\n"
   ]
  },
  {
   "cell_type": "code",
   "execution_count": 7,
   "id": "b5b0f7d7",
   "metadata": {},
   "outputs": [
    {
     "name": "stdout",
     "output_type": "stream",
     "text": [
      "{0: [237, 222, 187], 1: [210, 165, 98], 2: [31, 32, 30], 3: [151, 143, 146], 4: [120, 94, 68]}\n"
     ]
    }
   ],
   "source": [
    "def codingRateRLE(k):\n",
    "    (img, imgData, codebook) = kMeansAlgo(k)\n",
    "    res, index = [], 0\n",
    "    for i in range(len(imgData)): # on parcourt toutes les lignes de l'image\n",
    "        colorActual = imgData[i][0] # on initialise la première couleur\n",
    "        string_row = \"\" # chaîne représentant la ligne en cours d'étude\n",
    "        nombrePixel = 0 # nombre de pixels de cette couleur\n",
    "        for j in range(len(imgData[0])): # on parcourt une ligne de l'image\n",
    "            if (imgData[i][j] == colorActual) : # si la couleur du pixel étudié est identique à la précédente\n",
    "                nombrePixel += 1 # on augmente\n",
    "            else : # sinon (si la couleur est différente)\n",
    "                if nombrePixel != 0 : # si le nombre de pixel est non nul\n",
    "                    string = str(colorActual) + \" \" + str(nombrePixel) + \";\"\n",
    "                    string_row += string\n",
    "                nombrePixel = 1\n",
    "                colorActual = imgData[i][j]\n",
    "        colorActual = imgData[i][j]\n",
    "        string = str(colorActual) + \" \" + str(nombrePixel)\n",
    "        string_row += string\n",
    "        res.append(string_row)\n",
    "        nombrePixel = 0\n",
    "    return res, codebook\n",
    "\n",
    "result, cb = codingRateRLE(5)\n",
    "print(cb)"
   ]
  },
  {
   "cell_type": "markdown",
   "id": "15aad4a3",
   "metadata": {},
   "source": [
    "<hr>\n",
    "<div style = \"font-family: Courier\">\n",
    "    <p style = \"font:font-weight: bold; color: #ffecc5\">\n",
    "        R\n",
    "    </p>\n",
    "    <div style = \"padding-left: 15px; color: #b6cff5\">\n",
    "        <b>@in :</b> k = nombre de clusters\n",
    "        </br>\n",
    "        <b>@out :</b> resultat = nombre de bit par pixel nécessaire pour coder l'image\n",
    "    </div>\n",
    "</div>\n",
    "<hr><br>\n",
    "<div>\n",
    "Cette fonction récupère la représentation de l'image et de son codebook associé, et retourne le nombre théorique de bit par pixel nécessaire à leur encodage.</div>\n",
    "\n"
   ]
  },
  {
   "cell_type": "code",
   "execution_count": 8,
   "id": "352d570d",
   "metadata": {},
   "outputs": [],
   "source": [
    "def R(k):\n",
    "    global imgPath\n",
    "    rle, codebook = codingRateRLE(k) # on récupère le tableau contenant l'image et le codebook associé\n",
    "    res = 0\n",
    "    image = cv2.imread(imgPath)\n",
    "    nbColonnes = image.shape[0] # on récupère le nombre de colonnes\n",
    "    nbLignes = image.shape[1] # on récupère le nombre de lignes\n",
    "    for i in range(len(rle)):\n",
    "        raw = rle[i]\n",
    "        list = raw.split(\";\") # on récupère chaque terme (codeword + nombre d'apparitions)\n",
    "        for element in list: # pour chaque duo d'éléments sur une ligne\n",
    "            couple = element.split(\" \") # on récupère de part et d'autre le codeword et le nombre d'apparitions\n",
    "            res += floor(log(int(couple[0])+1,2)) + floor(log(int(couple[1]),2)) + 2 # on compte la taille de codage\n",
    "    res += 24*k \n",
    "    res = res / (nbLignes*nbColonnes)\n",
    "    return res"
   ]
  },
  {
   "cell_type": "markdown",
   "id": "1dd1851b",
   "metadata": {},
   "source": [
    "<b> <u> Question 5 </u> </b>\n",
    "\n",
    "Nous allons tracer l'évolution de la distortion D(k) en fonction du coding rate R(k) pour k variant de 2 à 20."
   ]
  },
  {
   "cell_type": "markdown",
   "id": "15aad4a3",
   "metadata": {},
   "source": [
    "<hr>\n",
    "<div style = \"font-family: Courier\">\n",
    "    <p style = \"font:font-weight: bold; color: #ffecc5\">\n",
    "        courbeDR\n",
    "    </p>\n",
    "</div>\n",
    "<hr><br>\n",
    "<div>\n",
    "Cette fonction permet de tracer l'évolution de la distortion D(k) en fonction du coding rate R(k). Pour cela, elle récupère D(k) et R(k) pour k variant de 2 à 20.</div>\n",
    "\n"
   ]
  },
  {
   "cell_type": "code",
   "execution_count": 9,
   "id": "d8cb7e91",
   "metadata": {},
   "outputs": [],
   "source": [
    "from matplotlib import pyplot\n",
    "import math \n",
    "from math import log, floor\n",
    "\n",
    "def courbeDR():\n",
    "    Lx = []\n",
    "    Ly = []\n",
    "    for k in range (2, 21):\n",
    "        Lx.append(R(k))\n",
    "        Ly.append(D(k))\n",
    "    pyplot.scatter(Lx, Ly, c = 'red')\n"
   ]
  },
  {
   "cell_type": "code",
   "execution_count": 10,
   "id": "8f8ec809",
   "metadata": {},
   "outputs": [
    {
     "data": {
      "image/png": "[encoded data removed]",
      "text/plain": [
       "<Figure size 432x288 with 1 Axes>"
      ]
     },
     "metadata": {
      "needs_background": "light"
     },
     "output_type": "display_data"
    }
   ],
   "source": [
    "# Tracé de la courbe\n",
    "courbeDR()"
   ]
  },
  {
   "cell_type": "markdown",
   "id": "276b3f87",
   "metadata": {},
   "source": [
    "<b> <u> Question 6 </u> </b>\n",
    "\n",
    "Nous allons implémenter un codec réel permettant d'encoder l'image et son codebook via un fichier, puis de l'afficher à nouveau."
   ]
  },
  {
   "cell_type": "markdown",
   "id": "15aad4a3",
   "metadata": {},
   "source": [
    "<hr>\n",
    "<div style = \"font-family: Courier\">\n",
    "    <p style = \"font:font-weight: bold; color: #ffecc5\">\n",
    "        reconstructionImageRLE\n",
    "    </p>\n",
    "    <div style = \"padding-left: 15px; color: #b6cff5\">\n",
    "        <b>@in :</b> RLE = codage RLE d'une image (résultat de codingRateRLE)\n",
    "        </br>\n",
    "        <b>@in :</b>  codebook = dictionnaire traduisant toutes les couleurs de l'image (RVB) en codewords\n",
    "        </br>\n",
    "        <b>@out :</b> imageReconst = image reconstruite au format tableau où les couleurs ont remplacé les codewords\n",
    "    </div>\n",
    "</div>\n",
    "<hr><br>\n",
    "<div>\n",
    "Cette fonction reconstruit une image passée par le protocole RLE à partir de son codebook.</div>\n",
    "\n"
   ]
  },
  {
   "cell_type": "code",
   "execution_count": 11,
   "id": "53cd3e14",
   "metadata": {},
   "outputs": [],
   "source": [
    "def reconstructionImageRLE(RLE, codebook):\n",
    "    image = []\n",
    "    for i in range (len(RLE)):\n",
    "        ligne = []\n",
    "        liste = RLE[i].split(\";\")\n",
    "        for j in range(len(liste)):\n",
    "            liste2 = liste[j].split(\" \")\n",
    "            for k in range (int(liste2[1])):\n",
    "                ligne.append(np.array(codebook.get(int(liste2[0]))))\n",
    "        image.append(np.array(ligne))\n",
    "    imageReconst = np.array(image)\n",
    "    return imageReconst"
   ]
  },
  {
   "cell_type": "markdown",
   "id": "15aad4a3",
   "metadata": {},
   "source": [
    "<hr>\n",
    "<div style = \"font-family: Courier\">\n",
    "    <p style = \"font:font-weight: bold; color: #ffecc5\">\n",
    "        stockage_image\n",
    "    </p>\n",
    "    <div style = \"padding-left: 15px; color: #b6cff5\">\n",
    "        <b>@in :</b> path_cb = destination de stockage du codebook\n",
    "        </br>\n",
    "        <b>@in :</b>  path_rle = destination de stockage de l'image\n",
    "    </div>\n",
    "</div>\n",
    "<hr><br>\n",
    "<div>\n",
    "Cette fonction récupère l'image et l'encode selon l'algorithme RLE, puis stocke le codebook et l'image dans deux fichiers JSON distincts.</div>\n",
    "\n"
   ]
  },
  {
   "cell_type": "code",
   "execution_count": 12,
   "id": "a4ebebd8",
   "metadata": {},
   "outputs": [],
   "source": [
    "def stockage_image(path_cb, path_rle) :\n",
    "    k = 11\n",
    "    (res, codebook) = codingRateRLE(k)\n",
    "    f = open(path_cb, \"w\")\n",
    "    json.dump(codebook, f)\n",
    "    f.close()\n",
    "    g = open(path_rle, \"w\")\n",
    "    json.dump(res, g)\n",
    "    g.close()\n",
    "    print(\"fait\")"
   ]
  },
  {
   "cell_type": "markdown",
   "id": "15aad4a3",
   "metadata": {},
   "source": [
    "<hr>\n",
    "<div style = \"font-family: Courier\">\n",
    "    <p style = \"font:font-weight: bold; color: #ffecc5\">\n",
    "        affichage_image\n",
    "    </p>\n",
    "    <div style = \"padding-left: 15px; color: #b6cff5\">\n",
    "        <b>@in :</b> path_cb = destination de stockage du codebook\n",
    "        </br>\n",
    "        <b>@in :</b>  path_rle = destination de stockage de l'image\n",
    "    </div>\n",
    "</div>\n",
    "<hr><br>\n",
    "<div>\n",
    "Cette fonction récupère une image et un codebook au format JSON et l'affiche.</div>\n",
    "\n"
   ]
  },
  {
   "cell_type": "code",
   "execution_count": 13,
   "id": "c6f21a34",
   "metadata": {},
   "outputs": [],
   "source": [
    "def affichage_image(path_cb, path_rle) :\n",
    "    f = open(path_cb, \"r\")\n",
    "    codebook = json.load(f)\n",
    "    f.close()\n",
    "    g = open(path_rle, \"r\")\n",
    "    image = []\n",
    "    image = json.load(g)\n",
    "    g.close()\n",
    "    dessinerImg (reconstructionImage(image, codebook))"
   ]
  },
  {
   "cell_type": "code",
   "execution_count": 14,
   "id": "a066bbdd",
   "metadata": {},
   "outputs": [
    {
     "ename": "NameError",
     "evalue": "name 'json' is not defined",
     "output_type": "error",
     "traceback": [
      "\u001b[1;31m---------------------------------------------------------------------------\u001b[0m",
      "\u001b[1;31mNameError\u001b[0m                                 Traceback (most recent call last)",
      "\u001b[1;32m<ipython-input-14-302a3a1435f3>\u001b[0m in \u001b[0;36m<module>\u001b[1;34m\u001b[0m\n\u001b[0;32m      2\u001b[0m \u001b[0mpath_cb\u001b[0m \u001b[1;33m=\u001b[0m \u001b[1;34m\"./cb.json\"\u001b[0m \u001b[1;31m# chemin du codebook\u001b[0m\u001b[1;33m\u001b[0m\u001b[1;33m\u001b[0m\u001b[0m\n\u001b[0;32m      3\u001b[0m \u001b[0mpath_rle\u001b[0m \u001b[1;33m=\u001b[0m \u001b[1;34m\"./rle.json\"\u001b[0m \u001b[1;31m# chemin de l'image\u001b[0m\u001b[1;33m\u001b[0m\u001b[1;33m\u001b[0m\u001b[0m\n\u001b[1;32m----> 4\u001b[1;33m \u001b[0mstockage_image\u001b[0m\u001b[1;33m(\u001b[0m\u001b[0mpath_cb\u001b[0m\u001b[1;33m,\u001b[0m \u001b[0mpath_rle\u001b[0m\u001b[1;33m)\u001b[0m \u001b[1;31m# stockage de l'image sur l'ordinateur\u001b[0m\u001b[1;33m\u001b[0m\u001b[1;33m\u001b[0m\u001b[0m\n\u001b[0m\u001b[0;32m      5\u001b[0m \u001b[0maffichage_image\u001b[0m\u001b[1;33m(\u001b[0m\u001b[0mpath_cb\u001b[0m\u001b[1;33m,\u001b[0m \u001b[0mpath_rle\u001b[0m\u001b[1;33m)\u001b[0m \u001b[1;31m# décodage de l'image à partir des fichiers stockés\u001b[0m\u001b[1;33m\u001b[0m\u001b[1;33m\u001b[0m\u001b[0m\n",
      "\u001b[1;32m<ipython-input-12-204931183f2b>\u001b[0m in \u001b[0;36mstockage_image\u001b[1;34m(path_cb, path_rle)\u001b[0m\n\u001b[0;32m      3\u001b[0m     \u001b[1;33m(\u001b[0m\u001b[0mres\u001b[0m\u001b[1;33m,\u001b[0m \u001b[0mcodebook\u001b[0m\u001b[1;33m)\u001b[0m \u001b[1;33m=\u001b[0m \u001b[0mcodingRateRLE\u001b[0m\u001b[1;33m(\u001b[0m\u001b[0mk\u001b[0m\u001b[1;33m)\u001b[0m\u001b[1;33m\u001b[0m\u001b[1;33m\u001b[0m\u001b[0m\n\u001b[0;32m      4\u001b[0m     \u001b[0mf\u001b[0m \u001b[1;33m=\u001b[0m \u001b[0mopen\u001b[0m\u001b[1;33m(\u001b[0m\u001b[0mpath_cb\u001b[0m\u001b[1;33m,\u001b[0m \u001b[1;34m\"w\"\u001b[0m\u001b[1;33m)\u001b[0m\u001b[1;33m\u001b[0m\u001b[1;33m\u001b[0m\u001b[0m\n\u001b[1;32m----> 5\u001b[1;33m     \u001b[0mjson\u001b[0m\u001b[1;33m.\u001b[0m\u001b[0mdump\u001b[0m\u001b[1;33m(\u001b[0m\u001b[0mcodebook\u001b[0m\u001b[1;33m,\u001b[0m \u001b[0mf\u001b[0m\u001b[1;33m)\u001b[0m\u001b[1;33m\u001b[0m\u001b[1;33m\u001b[0m\u001b[0m\n\u001b[0m\u001b[0;32m      6\u001b[0m     \u001b[0mf\u001b[0m\u001b[1;33m.\u001b[0m\u001b[0mclose\u001b[0m\u001b[1;33m(\u001b[0m\u001b[1;33m)\u001b[0m\u001b[1;33m\u001b[0m\u001b[1;33m\u001b[0m\u001b[0m\n\u001b[0;32m      7\u001b[0m     \u001b[0mg\u001b[0m \u001b[1;33m=\u001b[0m \u001b[0mopen\u001b[0m\u001b[1;33m(\u001b[0m\u001b[0mpath_rle\u001b[0m\u001b[1;33m,\u001b[0m \u001b[1;34m\"w\"\u001b[0m\u001b[1;33m)\u001b[0m\u001b[1;33m\u001b[0m\u001b[1;33m\u001b[0m\u001b[0m\n",
      "\u001b[1;31mNameError\u001b[0m: name 'json' is not defined"
     ]
    }
   ],
   "source": [
    "## simulation de stockage et de l'affichage\n",
    "path_cb = \"./cb.json\" # chemin du codebook\n",
    "path_rle = \"./rle.json\" # chemin de l'image\n",
    "stockage_image(path_cb, path_rle) # stockage de l'image sur l'ordinateur\n",
    "affichage_image(path_cb, path_rle) # décodage de l'image à partir des fichiers stockés"
   ]
  }
 ],
 "metadata": {
  "interpreter": {
   "hash": "2c5af67b1d2fe4160132f6656f32baf7ccbf14a35ffa3cd1a680a6b747815161"
  },
  "kernelspec": {
   "display_name": "Python 3.8.8 64-bit ('base': conda)",
   "name": "python3"
  },
  "language_info": {
   "codemirror_mode": {
    "name": "ipython",
    "version": 3
   },
   "file_extension": ".py",
   "mimetype": "text/x-python",
   "name": "python",
   "nbconvert_exporter": "python",
   "pygments_lexer": "ipython3",
   "version": "3.8.8"
  }
 },
 "nbformat": 4,
 "nbformat_minor": 5
}
