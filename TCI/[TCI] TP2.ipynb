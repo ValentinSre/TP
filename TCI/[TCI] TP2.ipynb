{
 "cells": [
  {
   "cell_type": "markdown",
   "id": "8e743f4c",
   "metadata": {},
   "source": [
    "# <b> Lab 2 : Lossy image compression </b>\n",
    "\n",
    "<i> Compte-rendu par Valentin SÉRÉE et Jérémy SERENA [INFO3]</i>"
   ]
  },
  {
   "cell_type": "markdown",
   "id": "293db284",
   "metadata": {},
   "source": [
    "<b> <u> Question 1 </u> </b>\n",
    "\n",
    "<i> Récupération de l'image </i>"
   ]
  },
  {
   "cell_type": "markdown",
   "id": "1dd1851b",
   "metadata": {},
   "source": [
    "<b> <u> Question 2 </u> </b>\n",
    "\n",
    "Nous allons appliquer l'algorithme k-means à une image. Cet algorithme de clustering permet d'analyser le jeu de données qu'est l'image afin de regrouper les donnéees similaires en clusters (ici pouvoir \"rassembler\" des couleurs proches)."
   ]
  },
  {
   "cell_type": "markdown",
   "id": "15aad4a3",
   "metadata": {},
   "source": [
    "<hr>\n",
    "<div style = \"font-family: Courier\">\n",
    "    <p style = \"font:font-weight: bold; color: #ffecc5\">\n",
    "        kMeansAlgo\n",
    "    </p>\n",
    "    <div style = \"padding-left: 15px; color: #b6cff5\">\n",
    "        <b>@in :</b> k = nombre de clusters \n",
    "        </br>\n",
    "        <b>@out :</b> image =  tableau représentant l'image d'origine\n",
    "        </br>\n",
    "        <b>@out :</b> imageSeg = tableau représentant l'image clusterisée dont les centroides sont compressés (codewords)\n",
    "        </br>\n",
    "        <b>@out :</b> codebook = dictionnaire traduisant les codewords en couleurs (RVB)\n",
    "    </div>\n",
    "</div>\n",
    "<hr><br>\n",
    "<div>\n",
    "Cette fonction prend en entrée le nombre de clusters à créer pour l'image (variable globale). L'image va être passée à travers l'algorithme k-means (fonctions Python) puis ressortie sous la forme d'un tableau avec uniquement k valeurs qu'il faudra associer au codebook.</div>\n",
    "\n"
   ]
  },
  {
   "cell_type": "code",
   "execution_count": 18,
   "id": "38f58723",
   "metadata": {},
   "outputs": [],
   "source": [
    "import numpy as np \n",
    "import matplotlib.pyplot as plt \n",
    "import cv2 \n",
    "\n",
    "imgPath = 'ex9Data/bird_small.tiff'\n",
    "\n",
    "def kMeansAlgo(k):\n",
    "    global imgPath\n",
    "    image = cv2.imread(imgPath) \n",
    "    image = cv2.cvtColor(image, cv2.COLOR_BGR2RGB) \n",
    "    criteria = (cv2.TERM_CRITERIA_EPS + cv2.TERM_CRITERIA_MAX_ITER, 100, 0.85) \n",
    "    pixel_vals = image.reshape((-1,3)) \n",
    "    pixel_vals = np.float32(pixel_vals)\n",
    "    retval, labels, centers = cv2.kmeans(pixel_vals, k, None, criteria, 10, cv2.KMEANS_RANDOM_CENTERS) \n",
    "    centers = np.uint8(centers) \n",
    "    codebook = {}\n",
    "    listCenters = list(centers)\n",
    "    for i in range (len(listCenters)):\n",
    "        codebook[i] = list(listCenters[i])\n",
    "    segmented_data = centers[labels.flatten()]\n",
    "    segmented_image = segmented_data.reshape((image.shape)) \n",
    "    imageSeg = codebookImage(segmented_image, codebook)\n",
    "    return image, imageSeg, codebook"
   ]
  },
  {
   "cell_type": "markdown",
   "id": "15aad4a3",
   "metadata": {},
   "source": [
    "<hr>\n",
    "<div style = \"font-family: Courier\">\n",
    "    <p style = \"font:font-weight: bold; color: #ffecc5\">\n",
    "        codebookImage\n",
    "    </p>\n",
    "    <div style = \"padding-left: 15px; color: #b6cff5\">\n",
    "        <b>@in :</b> img = tableau représentant l'image clusterisée (avec les couleurs RVB) \n",
    "        </br>\n",
    "        <b>@in :</b> cb =  codebook = dictionnaire traduisant toutes les couleurs de l'image (RVB) en codewords\n",
    "        </br>\n",
    "        <b>@out :</b> imageSeg = tableau représentant l'image clusterisée dont les centroides sont compressés (codewords)\n",
    "    </div>\n",
    "</div>\n",
    "<hr><br>\n",
    "<div>\n",
    "Cette fonction prend en entrée l'image clusterisée et transforme ses termes en codewords selon le codebook fourni. L'image en sortie sera donc un tableau à 2 dimensions dont les composants iront de 0 à k-1 (où k est la longueur du codebook, c'est-à-dire le nombre de clusters).</div>\n",
    "\n"
   ]
  },
  {
   "cell_type": "code",
   "execution_count": 19,
   "id": "6e33c14a",
   "metadata": {},
   "outputs": [],
   "source": [
    "def codebookImage(img, cb):\n",
    "    image = []\n",
    "    for i in range (len(img)):\n",
    "        ligne = []\n",
    "        for j in range (len(img[0])):\n",
    "            for k in range (len(cb)):\n",
    "                if (np.array(cb[k]) == img[i][j]).all():\n",
    "                    ligne.append(k)\n",
    "        image.append(np.array(ligne))\n",
    "        ligne = []\n",
    "    res = np.array(image)\n",
    "    return res"
   ]
  },
  {
   "cell_type": "markdown",
   "id": "1dd1851b",
   "metadata": {},
   "source": [
    "<b> <u> Question 3 </u> </b>\n",
    "\n",
    "Nous allons mettre en oeuvre l'algorithme réalisé ci-dessus pour afficher l'image clusterisée à l'aide de l'image définie en codewords et du codebook. Pour cela, nous allons définir deux fonctions qui permettront de faciliter cet affichage et seront réutilisées plus tard au cours de ce TP."
   ]
  },
  {
   "cell_type": "markdown",
   "id": "15aad4a3",
   "metadata": {},
   "source": [
    "<hr>\n",
    "<div style = \"font-family: Courier\">\n",
    "    <p style = \"font:font-weight: bold; color: #ffecc5\">\n",
    "        dessinerImg\n",
    "    </p>\n",
    "    <div style = \"padding-left: 15px; color: #b6cff5\">\n",
    "        <b>@in :</b> img = tableau représentant l'image clusterisée (avec les couleurs RVB) \n",
    "    </div>\n",
    "</div>\n",
    "<hr><br>\n",
    "<div>\n",
    "Cette fonction permet l'affichage d'une image fournie sous forme d'un tableau RVB.</div>\n",
    "\n"
   ]
  },
  {
   "cell_type": "code",
   "execution_count": 20,
   "id": "a16a7df7",
   "metadata": {},
   "outputs": [],
   "source": [
    "def dessinerImg(img):\n",
    "    plt.axis('off')\n",
    "    plt.imshow(img)"
   ]
  },
  {
   "cell_type": "markdown",
   "id": "15aad4a3",
   "metadata": {},
   "source": [
    "<hr>\n",
    "<div style = \"font-family: Courier\">\n",
    "    <p style = \"font:font-weight: bold; color: #ffecc5\">\n",
    "        remettreEnPlace\n",
    "    </p>\n",
    "    <div style = \"padding-left: 15px; color: #b6cff5\">\n",
    "        <b>@in :</b> img = tableau représentant l'image clusterisée dont les centroides sont compressés (codewords) \n",
    "        </br>\n",
    "        <b>@in :</b> cb =  codebook = dictionnaire traduisant toutes les couleurs de l'image (RVB) en codewords\n",
    "        </br>\n",
    "        <b>@out :</b> res = tableau représentant l'image clusterisée (avec les couleurs RVB) \n",
    "    </div>\n",
    "</div>\n",
    "<hr><br>\n",
    "<div>\n",
    "Cette fonction prend en entrée l'image clusterisée dont ses termes sont des codewords traduits dans le codebook fourni. L'image en sortie sera donc un tableau à 2 dimensions dont les composants seront les couleurs équivalentes aux codewords.</div>\n",
    "\n"
   ]
  },
  {
   "cell_type": "code",
   "execution_count": 21,
   "id": "2d5e3b30",
   "metadata": {},
   "outputs": [],
   "source": [
    "def remettreEnPlace(img, cb):\n",
    "    image = []\n",
    "    for i in range (len(img)):\n",
    "        ligne = []\n",
    "        for j in range (len(img[0])):\n",
    "            ligne.append(np.array(cb[img[i][j]]))\n",
    "        image.append(np.array(ligne))\n",
    "        ligne = []\n",
    "    res = np.array(image)\n",
    "    return res"
   ]
  },
  {
   "cell_type": "markdown",
   "id": "ba0f6a98",
   "metadata": {},
   "source": [
    "<h4> Test des fonctions formées </h4>\n",
    "On crée dans un premier temps une image clusterisée (on affiche uniquement la première ligne par soucis de commodité, mais on remarque que les valeurs sont bien entre 0 et 9) ainsi que son codebook. Dans un second temps, on essaie d'afficher la photographie remise en forme."
   ]
  },
  {
   "cell_type": "code",
   "execution_count": 22,
   "id": "c09023ec",
   "metadata": {},
   "outputs": [
    {
     "name": "stdout",
     "output_type": "stream",
     "text": [
      "La première ligne de notre image clusterisée est :\n",
      "[2 2 2 2 2 2 2 2 2 2 2 2 2 2 2 2 2 2 2 2 2 2 2 2 2 2 2 2 2 2 2 2 2 2 2 2 2\n",
      " 2 2 2 2 2 2 2 2 2 2 2 6 6 6 6 6 6 6 6 6 6 6 6 2 6 6 6 6 6 6 6 6 6 6 6 9 6\n",
      " 2 2 2 2 2 2 2 2 2 2 2 2 6 2 2 6 2 2 2 8 2 6 0 4 4 5 5 5 5 5 5 5 5 5 5 5 5\n",
      " 5 5 5 5 5 5 5 5 5 5 5 5 5 5 5 5 5]\n",
      "Le codebook associé est :\n",
      "{0: [132, 97, 56], 1: [141, 172, 208], 2: [220, 179, 111], 3: [247, 239, 205], 4: [68, 61, 58], 5: [25, 27, 25], 6: [194, 140, 67], 7: [122, 111, 114], 8: [232, 205, 167], 9: [173, 152, 132]}\n",
      "Notre image reconstituée est donc :\n"
     ]
    },
    {
     "data": {
      "image/png": "[encoded data removed]",
      "text/plain": [
       "<Figure size 432x288 with 1 Axes>"
      ]
     },
     "metadata": {
      "needs_background": "light"
     },
     "output_type": "display_data"
    }
   ],
   "source": [
    "(image, imageCodewords, codebook) = kMeansAlgo(10)\n",
    "print(\"La première ligne de notre image clusterisée est :\")\n",
    "print(imageCodewords[0])\n",
    "print(\"Le codebook associé est :\")\n",
    "print(codebook)\n",
    "\n",
    "# On reconstitue ensuite l'image \n",
    "image_k_Couleurs = remettreEnPlace(imageCodewords, codebook) \n",
    "print(\"Notre image reconstituée est donc :\")\n",
    "dessinerImg(image_k_Couleurs)"
   ]
  },
  {
   "cell_type": "markdown",
   "id": "1dd1851b",
   "metadata": {},
   "source": [
    "<b> <u> Question 4 </u> </b>\n",
    "\n",
    "Nous allons calculer consécutivement D(k) (comme la <i>mean square error</i> entre l'image originale et l'image reconstituée) et R(k) après un codage RLE."
   ]
  },
  {
   "cell_type": "markdown",
   "id": "15aad4a3",
   "metadata": {},
   "source": [
    "<hr>\n",
    "<div style = \"font-family: Courier\">\n",
    "    <p style = \"font:font-weight: bold; color: #ffecc5\">\n",
    "        D\n",
    "    </p>\n",
    "    <div style = \"padding-left: 15px; color: #b6cff5\">\n",
    "        <b>@in :</b> k = nombre de clusters\n",
    "        </br>\n",
    "        <b>@out :</b> MSE = mean square error\n",
    "    </div>\n",
    "</div>\n",
    "<hr><br>\n",
    "<div>\n",
    "Cette fonction calcule simplement la mean square error entre les deux photos. Elle se charge elle-même de clusteriser la photo d'origine et la reconstruire pour faire la comparaison.</div>\n",
    "\n"
   ]
  },
  {
   "cell_type": "code",
   "execution_count": 23,
   "id": "8d7e5b47",
   "metadata": {},
   "outputs": [],
   "source": [
    "from sklearn.metrics import mean_squared_error\n",
    "import numpy as np\n",
    "\n",
    "def D(k):\n",
    "    (img, imgCdw, codebook) = kMeansAlgo(k)\n",
    "    imgReconst = remettreEnPlace(imgCdw, codebook)\n",
    "    MSE = np.square(np.subtract(img,imgReconst)).mean()    \n",
    "    return MSE"
   ]
  },
  {
   "cell_type": "markdown",
   "id": "15aad4a3",
   "metadata": {},
   "source": [
    "<hr>\n",
    "<div style = \"font-family: Courier\">\n",
    "    <p style = \"font:font-weight: bold; color: #ffecc5\">\n",
    "        codingRateRLE\n",
    "    </p>\n",
    "    <div style = \"padding-left: 15px; color: #b6cff5\">\n",
    "        <b>@in :</b> k = nombre de clusters\n",
    "        </br>\n",
    "        <b>@out :</b> res = tableau représentant l'image dont les pixels sont définis selon des codewords <u> et </u> triés selon RLE\n",
    "        </br>\n",
    "        <b>@out :</b> codebook = dictionnaire traduisant toutes les couleurs de l'image (RVB) en codewords\n",
    "    </div>\n",
    "</div>\n",
    "<hr><br>\n",
    "<div>\n",
    "Cette fonction clusterise la photographie fournie et la code selon le protocole RLE afin de retourner un tableau représentant l'image et son codebook associé.</div>\n",
    "\n"
   ]
  },
  {
   "cell_type": "code",
   "execution_count": 24,
   "id": "b5b0f7d7",
   "metadata": {},
   "outputs": [
    {
     "name": "stdout",
     "output_type": "stream",
     "text": [
      "{0: [31, 32, 29], 1: [151, 142, 146], 2: [119, 94, 68], 3: [209, 165, 97], 4: [237, 222, 187]}\n"
     ]
    }
   ],
   "source": [
    "def codingRateRLE(k):\n",
    "    (img, imgData, codebook) = kMeansAlgo(k)\n",
    "    res, index = [], 0\n",
    "    for i in range(len(imgData)): # on parcourt toutes les lignes de l'image\n",
    "        colorActual = imgData[i][0] # on initialise la première couleur\n",
    "        string_row = \"\" # chaîne représentant la ligne en cours d'étude\n",
    "        nombrePixel = 0 # nombre de pixels de cette couleur\n",
    "        for j in range(len(imgData[0])): # on parcourt une ligne de l'image\n",
    "            if (imgData[i][j] == colorActual) : # si la couleur du pixel étudié est identique à la précédente\n",
    "                nombrePixel += 1 # on augmente\n",
    "            else : # sinon (si la couleur est différente)\n",
    "                if nombrePixel != 0 : # si le nombre de pixel est non nul\n",
    "                    string = str(colorActual) + \" \" + str(nombrePixel) + \";\"\n",
    "                    string_row += string\n",
    "                nombrePixel = 1\n",
    "                colorActual = imgData[i][j]\n",
    "        colorActual = imgData[i][j]\n",
    "        string = str(colorActual) + \" \" + str(nombrePixel)\n",
    "        string_row += string\n",
    "        res.append(string_row)\n",
    "        nombrePixel = 0\n",
    "    return res, codebook\n",
    "\n",
    "result, cb = codingRateRLE(5)\n",
    "print(cb)"
   ]
  },
  {
   "cell_type": "markdown",
   "id": "15aad4a3",
   "metadata": {},
   "source": [
    "<hr>\n",
    "<div style = \"font-family: Courier\">\n",
    "    <p style = \"font:font-weight: bold; color: #ffecc5\">\n",
    "        R\n",
    "    </p>\n",
    "    <div style = \"padding-left: 15px; color: #b6cff5\">\n",
    "        <b>@in :</b> k = nombre de clusters\n",
    "        </br>\n",
    "        <b>@out :</b> resultat = nombre de bit par pixel nécessaire pour coder l'image\n",
    "    </div>\n",
    "</div>\n",
    "<hr><br>\n",
    "<div>\n",
    "Cette fonction récupère la représentation de l'image et de son codebook associé, et retourne le nombre théorique de bit par pixel nécessaire à leur encodage.</div>\n",
    "\n"
   ]
  },
  {
   "cell_type": "code",
   "execution_count": 25,
   "id": "352d570d",
   "metadata": {},
   "outputs": [],
   "source": [
    "def R(k):\n",
    "    global imgPath\n",
    "    rle, codebook = codingRateRLE(k) # on récupère le tableau contenant l'image et le codebook associé\n",
    "    res = 0\n",
    "    image = cv2.imread(imgPath)\n",
    "    nbColonnes = image.shape[0] # on récupère le nombre de colonnes\n",
    "    nbLignes = image.shape[1] # on récupère le nombre de lignes\n",
    "    for i in range(len(rle)):\n",
    "        raw = rle[i]\n",
    "        list = raw.split(\";\") # on récupère chaque terme (codeword + nombre d'apparitions)\n",
    "        for element in list: # pour chaque duo d'éléments sur une ligne\n",
    "            couple = element.split(\" \") # on récupère de part et d'autre le codeword et le nombre d'apparitions\n",
    "            res += floor(log(int(couple[0])+1,2)) + floor(log(int(couple[1]),2)) + 2 # on compte la taille de codage\n",
    "    res += 24*k \n",
    "    res = res / (nbLignes*nbColonnes)\n",
    "    return res"
   ]
  },
  {
   "cell_type": "markdown",
   "id": "1dd1851b",
   "metadata": {},
   "source": [
    "<b> <u> Question 5 </u> </b>\n",
    "\n",
    "Nous allons tracer l'évolution de la distortion D(k) en fonction du coding rate R(k) pour k variant de 2 à 20."
   ]
  },
  {
   "cell_type": "markdown",
   "id": "15aad4a3",
   "metadata": {},
   "source": [
    "<hr>\n",
    "<div style = \"font-family: Courier\">\n",
    "    <p style = \"font:font-weight: bold; color: #ffecc5\">\n",
    "        courbeDR\n",
    "    </p>\n",
    "</div>\n",
    "<hr><br>\n",
    "<div>\n",
    "Cette fonction permet de tracer l'évolution de la distortion D(k) en fonction du coding rate R(k). Pour cela, elle récupère D(k) et R(k) pour k variant de 2 à 20.</div>\n",
    "\n"
   ]
  },
  {
   "cell_type": "code",
   "execution_count": 26,
   "id": "d8cb7e91",
   "metadata": {},
   "outputs": [],
   "source": [
    "from matplotlib import pyplot\n",
    "import math \n",
    "from math import log, floor\n",
    "\n",
    "def courbeDR():\n",
    "    Lx = []\n",
    "    Ly = []\n",
    "    for k in range (2, 21):\n",
    "        Lx.append(R(k))\n",
    "        Ly.append(D(k))\n",
    "    pyplot.scatter(Lx, Ly, c = 'red')\n"
   ]
  },
  {
   "cell_type": "code",
   "execution_count": 27,
   "id": "8f8ec809",
   "metadata": {},
   "outputs": [
    {
     "data": {
      "image/png": "[encoded data removed]",
      "text/plain": [
       "<Figure size 432x288 with 1 Axes>"
      ]
     },
     "metadata": {
      "needs_background": "light"
     },
     "output_type": "display_data"
    }
   ],
   "source": [
    "# Tracé de la courbe\n",
    "courbeDR()"
   ]
  },
  {
   "cell_type": "markdown",
   "id": "276b3f87",
   "metadata": {},
   "source": [
    "<b> <u> Question 6 </u> </b>\n",
    "\n",
    "Nous allons implémenter un codec réel permettant d'encoder l'image et son codebook via un fichier, puis de l'afficher à nouveau."
   ]
  },
  {
   "cell_type": "markdown",
   "id": "15aad4a3",
   "metadata": {},
   "source": [
    "<hr>\n",
    "<div style = \"font-family: Courier\">\n",
    "    <p style = \"font:font-weight: bold; color: #ffecc5\">\n",
    "        reconstructionImageRLE\n",
    "    </p>\n",
    "    <div style = \"padding-left: 15px; color: #b6cff5\">\n",
    "        <b>@in :</b> RLE = codage RLE d'une image (résultat de codingRateRLE)\n",
    "        </br>\n",
    "        <b>@in :</b>  codebook = dictionnaire traduisant toutes les couleurs de l'image (RVB) en codewords\n",
    "        </br>\n",
    "        <b>@out :</b> imageReconst = image reconstruite au format tableau où les couleurs ont remplacé les codewords\n",
    "    </div>\n",
    "</div>\n",
    "<hr><br>\n",
    "<div>\n",
    "Cette fonction reconstruit une image passée par le protocole RLE à partir de son codebook.</div>\n",
    "\n"
   ]
  },
  {
   "cell_type": "code",
   "execution_count": 28,
   "id": "53cd3e14",
   "metadata": {},
   "outputs": [],
   "source": [
    "def reconstructionImageRLE(RLE, codebook):\n",
    "    image = []\n",
    "    for i in range (len(RLE)):\n",
    "        ligne = []\n",
    "        liste = RLE[i].split(\";\")\n",
    "        for j in range(len(liste)):\n",
    "            liste2 = liste[j].split(\" \")\n",
    "            for k in range (int(liste2[1])):\n",
    "                ligne.append(np.array(codebook.get(int(liste2[0])), dtype = np.uint8))\n",
    "        image.append(np.array(ligne))\n",
    "    imageReconst = np.array(image)\n",
    "    return imageReconst"
   ]
  },
  {
   "cell_type": "markdown",
   "id": "15aad4a3",
   "metadata": {},
   "source": [
    "<hr>\n",
    "<div style = \"font-family: Courier\">\n",
    "    <p style = \"font:font-weight: bold; color: #ffecc5\">\n",
    "        stockage_image\n",
    "    </p>\n",
    "    <div style = \"padding-left: 15px; color: #b6cff5\">\n",
    "        <b>@in :</b> path = destination de stockage de l'image\n",
    "        </br>\n",
    "        <b>@in :</b> k = nombre de clusters\n",
    "    </div>\n",
    "</div>\n",
    "<hr><br>\n",
    "<div>\n",
    "Cette fonction récupère l'image et l'encode selon l'algorithme RLE, puis stocke le codebook et l'image dans un fichier texte.</div>\n",
    "\n"
   ]
  },
  {
   "cell_type": "code",
   "execution_count": 29,
   "id": "a4ebebd8",
   "metadata": {},
   "outputs": [],
   "source": [
    "def stockage_image(path, k) :\n",
    "    (res, codebook) = codingRateRLE(k)\n",
    "    f = open(path, \"w\")\n",
    "    string1 = ''\n",
    "    for key, value in codebook.items() :\n",
    "        string1 += str(key) + ';' + str(value) + '/'\n",
    "    f.write(string1)\n",
    "    f.write('\\n')\n",
    "    string2 = ''\n",
    "    for val in res :\n",
    "        string2 += val + ','\n",
    "    f.write(string2)\n",
    "    f.close()"
   ]
  },
  {
   "cell_type": "markdown",
   "id": "15aad4a3",
   "metadata": {},
   "source": [
    "<hr>\n",
    "<div style = \"font-family: Courier\">\n",
    "    <p style = \"font:font-weight: bold; color: #ffecc5\">\n",
    "        affichage_image\n",
    "    </p>\n",
    "    <div style = \"padding-left: 15px; color: #b6cff5\">\n",
    "        <b>@in :</b> path = destination de stockage de l'image\n",
    "    </div>\n",
    "</div>\n",
    "<hr><br>\n",
    "<div>\n",
    "Cette fonction récupère un fichier texte contenant une image et son codebook, et l'affiche.</div>\n",
    "\n"
   ]
  },
  {
   "cell_type": "code",
   "execution_count": 30,
   "id": "c6f21a34",
   "metadata": {},
   "outputs": [],
   "source": [
    "def affichage_image(path) :\n",
    "    f = open(path, \"r\")\n",
    "    #reconstruction du codebook\n",
    "    string1 = f.readline()\n",
    "    codebook = {}\n",
    "    key = ''\n",
    "    value = []\n",
    "    r = ''\n",
    "    g = ''\n",
    "    b = ''\n",
    "    i = 0\n",
    "    parsed = 'key'\n",
    "    while i != len(string1) :\n",
    "        if string1[i] == '\\n' :\n",
    "            break\n",
    "        elif string1[i] == ';' :\n",
    "            parsed = 'r'\n",
    "        elif string1[i] == '/' :\n",
    "            key_int = int(key)\n",
    "            parsed = 'key'\n",
    "            value.append(int(r))\n",
    "            value.append(int(g))\n",
    "            value.append(int(b))\n",
    "            codebook.update( {key_int : value} )\n",
    "            r = ''\n",
    "            g = ''\n",
    "            b = ''\n",
    "            key = ''\n",
    "            value = []\n",
    "        elif string1[i] == ']' or string1[i] == '['or string1[i] == ',' :\n",
    "            pass\n",
    "        elif string1[i] == ' ' :\n",
    "            if parsed == 'r' : \n",
    "                parsed = 'g'\n",
    "            else :\n",
    "                parsed = 'b'\n",
    "        else :\n",
    "            if parsed == 'key' :\n",
    "                key += string1[i]\n",
    "            elif parsed == 'r' :\n",
    "                r += string1[i]\n",
    "            elif parsed == 'g' :\n",
    "                g += string1[i]\n",
    "            else :\n",
    "                b += string1[i]\n",
    "        i += 1\n",
    "    #reconstruction de l'image\n",
    "    string2 = f.readline()\n",
    "    image = []\n",
    "    j = 0\n",
    "    valeur = ''\n",
    "    while j != len(string2) :\n",
    "        if string2[j] == ',' :\n",
    "            image.append(valeur)\n",
    "            valeur = ''\n",
    "        else :\n",
    "            valeur += string2[j]\n",
    "        j += 1\n",
    "    f.close()\n",
    "    dessinerImg (reconstructionImageRLE(image, codebook))"
   ]
  },
  {
   "cell_type": "markdown",
   "id": "58a913ea",
   "metadata": {},
   "source": [
    "<h4> Test des fonctions formées </h4>\n",
    "On appelle la fonction permettant de créer et de stocker l'image dans un fichier texte. On décode ensuite ce fichier et on affiche l'image dans le terminal."
   ]
  },
  {
   "cell_type": "code",
   "execution_count": 1,
   "id": "a066bbdd",
   "metadata": {},
   "outputs": [
    {
     "ename": "NameError",
     "evalue": "name 'stockage_image' is not defined",
     "output_type": "error",
     "traceback": [
      "\u001b[1;31m---------------------------------------------------------------------------\u001b[0m",
      "\u001b[1;31mNameError\u001b[0m                                 Traceback (most recent call last)",
      "\u001b[1;32m<ipython-input-1-effa18f36d77>\u001b[0m in \u001b[0;36m<module>\u001b[1;34m\u001b[0m\n\u001b[0;32m      2\u001b[0m \u001b[0mk\u001b[0m \u001b[1;33m=\u001b[0m \u001b[1;36m30\u001b[0m\u001b[1;33m\u001b[0m\u001b[1;33m\u001b[0m\u001b[0m\n\u001b[0;32m      3\u001b[0m \u001b[0mpath\u001b[0m \u001b[1;33m=\u001b[0m \u001b[1;34m\"./img.txt\"\u001b[0m \u001b[1;31m# chemin de l'image\u001b[0m\u001b[1;33m\u001b[0m\u001b[1;33m\u001b[0m\u001b[0m\n\u001b[1;32m----> 4\u001b[1;33m \u001b[0mstockage_image\u001b[0m\u001b[1;33m(\u001b[0m\u001b[0mpath\u001b[0m\u001b[1;33m,\u001b[0m \u001b[0mk\u001b[0m\u001b[1;33m)\u001b[0m \u001b[1;31m# stockage de l'image sur l'ordinateur\u001b[0m\u001b[1;33m\u001b[0m\u001b[1;33m\u001b[0m\u001b[0m\n\u001b[0m\u001b[0;32m      5\u001b[0m \u001b[0maffichage_image\u001b[0m\u001b[1;33m(\u001b[0m\u001b[0mpath\u001b[0m\u001b[1;33m)\u001b[0m \u001b[1;31m# décodage de l'image à partir du fichier\u001b[0m\u001b[1;33m\u001b[0m\u001b[1;33m\u001b[0m\u001b[0m\n",
      "\u001b[1;31mNameError\u001b[0m: name 'stockage_image' is not defined"
     ]
    }
   ],
   "source": [
    "## simulation de stockage et de l'affichage\n",
    "k = 30\n",
    "path = \"./img.txt\" # chemin de l'image\n",
    "stockage_image(path, k) # stockage de l'image sur l'ordinateur\n",
    "affichage_image(path) # décodage de l'image à partir du fichier"
   ]
  },
  {
   "cell_type": "markdown",
   "id": "0e6dcd37",
   "metadata": {},
   "source": [
    "<b> <u> Question 7 </u> </b>\n",
    "\n",
    "Nous allons tracer l'évolution de la distortion D(k) en fonction du coding rate réel Rbis(k) et du coding rate théorique R(k) pour k variant de 2 à 25."
   ]
  },
  {
   "cell_type": "markdown",
   "id": "2c1617ac",
   "metadata": {},
   "source": [
    "<hr>\n",
    "<div style = \"font-family: Courier\">\n",
    "    <p style = \"font:font-weight: bold; color: #ffecc5\">\n",
    "        R_bis\n",
    "    </p>\n",
    "    <div style = \"padding-left: 15px; color: #b6cff5\">\n",
    "        <b>@in :</b> k = nombre de cluster\n",
    "    </div>\n",
    "</div>\n",
    "<hr><br>\n",
    "<div>\n",
    "Cette fonction retourne le coding rate du fichier image créé.</div>"
   ]
  },
  {
   "cell_type": "code",
   "execution_count": null,
   "id": "8664802b",
   "metadata": {},
   "outputs": [],
   "source": [
    "import os\n",
    "\n",
    "def Rbis(k):\n",
    "    global imgPath\n",
    "    path = \"./data/img\" + str(k) + \".txt\" # chemin de l'image\n",
    "    stockage_image(path, k) # stockage de l'image sur l'ordinateur\n",
    "    image = cv2.imread(imgPath)\n",
    "    nb_pixel = len(image)*len(image[0])\n",
    "    file_size = 8*os.path.getsize(path)\n",
    "    return file_size/nb_pixel"
   ]
  },
  {
   "cell_type": "markdown",
   "id": "bcaae945",
   "metadata": {},
   "source": [
    "<hr>\n",
    "<div style = \"font-family: Courier\">\n",
    "    <p style = \"font:font-weight: bold; color: #ffecc5\">\n",
    "        courbeDRbis\n",
    "    </p>\n",
    "</div>\n",
    "<hr><br>\n",
    "<div>\n",
    "Cette fonction permet de tracer l'évolution de la distortion D(k) en fonction du coding rate réel Rbis(k) et du coding rate théorique R(k). Pour cela, elle récupère D(k), Rbis(k) et R(k) pour k variant de 2 à 25.</div>"
   ]
  },
  {
   "cell_type": "code",
   "execution_count": null,
   "id": "fcb91460",
   "metadata": {},
   "outputs": [],
   "source": [
    "def courbeDRbis():\n",
    "    Lx1 = []\n",
    "    Ly = []\n",
    "    Lx2 = []\n",
    "    Lx3 = []\n",
    "    for k in range (2, 25):\n",
    "        Lx2.append(Rbis(k))\n",
    "        Lx1.append(R(k))\n",
    "        Ly.append(D(k))\n",
    "        Lx3.append(3*8)\n",
    "    pyplot.scatter(Lx1, Ly, c = 'red')\n",
    "    pyplot.scatter(Lx2, Ly, c = 'blue')\n",
    "    pyplot.scatter(Lx3, Ly, c = 'green')"
   ]
  },
  {
   "cell_type": "markdown",
   "id": "99690100",
   "metadata": {},
   "source": [
    "<h4> Test des fonctions formées </h4>\n",
    "On appelle la fonction permettant de créer et de stocker l'image dans un fichier texte. On décode ensuite ce fichier et on affiche l'image dans le terminal."
   ]
  },
  {
   "cell_type": "code",
   "execution_count": null,
   "id": "4259e3f4",
   "metadata": {},
   "outputs": [],
   "source": [
    "courbeDRbis()"
   ]
  }
 ],
 "metadata": {
  "interpreter": {
   "hash": "2c5af67b1d2fe4160132f6656f32baf7ccbf14a35ffa3cd1a680a6b747815161"
  },
  "kernelspec": {
   "display_name": "Python 3.8.8 64-bit ('base': conda)",
   "name": "python3"
  },
  "language_info": {
   "codemirror_mode": {
    "name": "ipython",
    "version": 3
   },
   "file_extension": ".py",
   "mimetype": "text/x-python",
   "name": "python",
   "nbconvert_exporter": "python",
   "pygments_lexer": "ipython3",
   "version": "3.8.8"
  }
 },
 "nbformat": 4,
 "nbformat_minor": 5
}
