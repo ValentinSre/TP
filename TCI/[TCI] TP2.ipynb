{
 "cells": [
  {
   "cell_type": "markdown",
   "id": "8e743f4c",
   "metadata": {},
   "source": [
    "# <b> Lab 2 : Lossy image compression </b>\n",
    "\n",
    "<i> Compte-rendu par Valentin SÉRÉE et Jérémy SERENA [INFO3]</i>"
   ]
  },
  {
   "cell_type": "markdown",
   "id": "293db284",
   "metadata": {},
   "source": [
    "<b> <u> Question 1 </u> </b>\n",
    "\n",
    "<i> Récupération de l'image </i>"
   ]
  },
  {
   "cell_type": "markdown",
   "id": "1dd1851b",
   "metadata": {},
   "source": [
    "<b> <u> Question 2 </u> </b>\n",
    "\n",
    "Nous allons appliquer l'algorithme k-means à une image. Cet algorithme de clustering permet d'analyser le jeu de données qu'est l'image afin de regrouper les donnéees similaires en clusters (ici pouvoir \"rassembler\" des couleurs proches)."
   ]
  },
  {
   "cell_type": "markdown",
   "id": "15aad4a3",
   "metadata": {},
   "source": [
    "<hr>\n",
    "<div style = \"font-family: Courier\">\n",
    "    <p style = \"font:font-weight: bold; color: #ffecc5\">\n",
    "        kMeansAlgo\n",
    "    </p>\n",
    "    <div style = \"padding-left: 15px; color: #b6cff5\">\n",
    "        <b>@in :</b> k = nombre de clusters \n",
    "        </br>\n",
    "        <b>@out :</b> image =  tableau représentant l'image d'origine\n",
    "        </br>\n",
    "        <b>@out :</b> imageSeg = tableau représentant l'image clusterisée dont les centroides sont compressés (codewords)\n",
    "        </br>\n",
    "        <b>@out :</b> codebook = dictionnaire traduisant les codewords en couleurs (RVB)\n",
    "    </div>\n",
    "</div>\n",
    "<hr><br>\n",
    "<div>\n",
    "Cette fonction prend en entrée le nombre de clusters à créer pour l'image (variable globale). L'image va être passée à travers l'algorithme k-means (fonctions Python) puis ressortie sous la forme d'un tableau avec uniquement k valeurs qu'il faudra associer au codebook.</div>\n",
    "\n"
   ]
  },
  {
   "cell_type": "code",
   "execution_count": 43,
   "id": "38f58723",
   "metadata": {},
   "outputs": [],
   "source": [
    "import numpy as np \n",
    "import matplotlib.pyplot as plt \n",
    "import cv2 \n",
    "\n",
    "imgPath = 'ex9Data/bird_small.tiff'\n",
    "\n",
    "def kMeansAlgo(k):\n",
    "    global imgPath\n",
    "    image = cv2.imread(imgPath) \n",
    "    image = cv2.cvtColor(image, cv2.COLOR_BGR2RGB) \n",
    "    criteria = (cv2.TERM_CRITERIA_EPS + cv2.TERM_CRITERIA_MAX_ITER, 100, 0.85) \n",
    "    pixel_vals = image.reshape((-1,3)) \n",
    "    pixel_vals = np.float32(pixel_vals)\n",
    "    retval, labels, centers = cv2.kmeans(pixel_vals, k, None, criteria, 10, cv2.KMEANS_RANDOM_CENTERS) \n",
    "    centers = np.uint8(centers) \n",
    "    codebook = {}\n",
    "    listCenters = list(centers)\n",
    "    for i in range (len(listCenters)):\n",
    "        codebook[i] = list(listCenters[i])\n",
    "    segmented_data = centers[labels.flatten()]\n",
    "    segmented_image = segmented_data.reshape((image.shape)) \n",
    "    imageSeg = codebookImage(segmented_image, codebook)\n",
    "    return image, imageSeg, codebook"
   ]
  },
  {
   "cell_type": "markdown",
   "id": "15aad4a3",
   "metadata": {},
   "source": [
    "<hr>\n",
    "<div style = \"font-family: Courier\">\n",
    "    <p style = \"font:font-weight: bold; color: #ffecc5\">\n",
    "        codebookImage\n",
    "    </p>\n",
    "    <div style = \"padding-left: 15px; color: #b6cff5\">\n",
    "        <b>@in :</b> img = tableau représentant l'image clusterisée (avec les couleurs RVB) \n",
    "        </br>\n",
    "        <b>@in :</b> cb =  codebook = dictionnaire traduisant toutes les couleurs de l'image (RVB) en codewords\n",
    "        </br>\n",
    "        <b>@out :</b> imageSeg = tableau représentant l'image clusterisée dont les centroides sont compressés (codewords)\n",
    "    </div>\n",
    "</div>\n",
    "<hr><br>\n",
    "<div>\n",
    "Cette fonction prend en entrée l'image clusterisée et transforme ses termes en codewords selon le codebook fourni. L'image en sortie sera donc un tableau à 2 dimensions dont les composants iront de 0 à k-1 (où k est la longueur du codebook, c'est-à-dire le nombre de clusters).</div>\n",
    "\n"
   ]
  },
  {
   "cell_type": "code",
   "execution_count": 42,
   "id": "6e33c14a",
   "metadata": {},
   "outputs": [],
   "source": [
    "def codebookImage(img, cb):\n",
    "    image = []\n",
    "    for i in range (len(img)):\n",
    "        ligne = []\n",
    "        for j in range (len(img[0])):\n",
    "            for k in range (len(cb)):\n",
    "                if (np.array(cb[k]) == img[i][j]).all():\n",
    "                    ligne.append(k)\n",
    "        image.append(np.array(ligne))\n",
    "        ligne = []\n",
    "    res = np.array(image)\n",
    "    return res"
   ]
  },
  {
   "cell_type": "markdown",
   "id": "1dd1851b",
   "metadata": {},
   "source": [
    "<b> <u> Question 3 </u> </b>\n",
    "\n",
    "Nous allons mettre en oeuvre l'algorithme réalisé ci-dessus pour afficher l'image clusterisée à l'aide de l'image définie en codewords et du codebook. Pour cela, nous allons définir deux fonctions qui permettront de faciliter cet affichage et seront réutilisées plus tard au cours de ce TP."
   ]
  },
  {
   "cell_type": "markdown",
   "id": "15aad4a3",
   "metadata": {},
   "source": [
    "<hr>\n",
    "<div style = \"font-family: Courier\">\n",
    "    <p style = \"font:font-weight: bold; color: #ffecc5\">\n",
    "        dessinerImg\n",
    "    </p>\n",
    "    <div style = \"padding-left: 15px; color: #b6cff5\">\n",
    "        <b>@in :</b> img = tableau représentant l'image clusterisée (avec les couleurs RVB) \n",
    "    </div>\n",
    "</div>\n",
    "<hr><br>\n",
    "<div>\n",
    "Cette fonction permet l'affichage d'une image fournie sous forme d'un tableau RVB.</div>\n",
    "\n"
   ]
  },
  {
   "cell_type": "code",
   "execution_count": 38,
   "id": "a16a7df7",
   "metadata": {},
   "outputs": [],
   "source": [
    "def dessinerImg(img):\n",
    "    plt.axis('off')\n",
    "    plt.imshow(img)"
   ]
  },
  {
   "cell_type": "markdown",
   "id": "15aad4a3",
   "metadata": {},
   "source": [
    "<hr>\n",
    "<div style = \"font-family: Courier\">\n",
    "    <p style = \"font:font-weight: bold; color: #ffecc5\">\n",
    "        remettreEnPlace\n",
    "    </p>\n",
    "    <div style = \"padding-left: 15px; color: #b6cff5\">\n",
    "        <b>@in :</b> img = tableau représentant l'image clusterisée dont les centroides sont compressés (codewords) \n",
    "        </br>\n",
    "        <b>@in :</b> cb =  codebook = dictionnaire traduisant toutes les couleurs de l'image (RVB) en codewords\n",
    "        </br>\n",
    "        <b>@out :</b> res = tableau représentant l'image clusterisée (avec les couleurs RVB) \n",
    "    </div>\n",
    "</div>\n",
    "<hr><br>\n",
    "<div>\n",
    "Cette fonction prend en entrée l'image clusterisée dont ses termes sont des codewords traduits dans le codebook fourni. L'image en sortie sera donc un tableau à 2 dimensions dont les composants seront les couleurs équivalentes aux codewords.</div>\n",
    "\n"
   ]
  },
  {
   "cell_type": "code",
   "execution_count": 39,
   "id": "2d5e3b30",
   "metadata": {},
   "outputs": [],
   "source": [
    "def remettreEnPlace(img, cb):\n",
    "    image = []\n",
    "    for i in range (len(img)):\n",
    "        ligne = []\n",
    "        for j in range (len(img[0])):\n",
    "            ligne.append(np.array(cb[img[i][j]]))\n",
    "        image.append(np.array(ligne))\n",
    "        ligne = []\n",
    "    res = np.array(image)\n",
    "    return res"
   ]
  },
  {
   "cell_type": "markdown",
   "id": "ba0f6a98",
   "metadata": {},
   "source": [
    "<h4> Test des fonctions formées </h4>\n",
    "On crée dans un premier temps une image clusterisée (on affiche uniquement la première ligne par soucis de commodité, mais on remarque que les valeurs sont bien entre 0 et 9) ainsi que son codebook. Dans un second temps, on essaie d'afficher la photographie remise en forme."
   ]
  },
  {
   "cell_type": "code",
   "execution_count": 52,
   "id": "c09023ec",
   "metadata": {},
   "outputs": [
    {
     "name": "stdout",
     "output_type": "stream",
     "text": [
      "La première ligne de notre image clusterisée est :\n",
      "[1 1 1 1 1 1 1 1 1 1 1 1 1 1 1 1 1 1 1 1 1 1 1 1 1 1 1 1 1 1 1 1 1 1 1 1 1\n",
      " 1 1 1 1 1 1 1 1 1 1 5 5 5 5 5 5 5 5 5 5 5 5 5 5 5 5 5 5 5 5 5 5 5 5 5 3 5\n",
      " 1 1 1 1 1 1 1 1 1 1 1 1 5 1 1 5 1 1 1 4 1 5 7 2 8 8 8 8 8 8 8 8 8 8 8 8 8\n",
      " 8 8 8 8 8 8 8 8 8 8 8 8 8 8 8 8 8]\n",
      "Le codebook associé est :\n",
      "{0: [140, 170, 207], 1: [219, 180, 113], 2: [72, 62, 58], 3: [168, 147, 128], 4: [231, 203, 167], 5: [200, 144, 69], 6: [247, 239, 204], 7: [143, 104, 53], 8: [26, 27, 25], 9: [116, 104, 107]}\n",
      "Notre image reconstituée est donc :\n"
     ]
    },
    {
     "data": {
      "image/png": "[encoded data removed]",
      "text/plain": [
       "<Figure size 432x288 with 1 Axes>"
      ]
     },
     "metadata": {
      "needs_background": "light"
     },
     "output_type": "display_data"
    }
   ],
   "source": [
    "(image, imageCodewords, codebook) = kMeansAlgo(10)\n",
    "print(\"La première ligne de notre image clusterisée est :\")\n",
    "print(imageCodewords[0])\n",
    "print(\"Le codebook associé est :\")\n",
    "print(codebook)\n",
    "\n",
    "# On reconstitue ensuite l'image \n",
    "image_k_Couleurs = remettreEnPlace(imageCodewords, codebook) \n",
    "print(\"Notre image reconstituée est donc :\")\n",
    "dessinerImg(image_k_Couleurs)"
   ]
  },
  {
   "cell_type": "markdown",
   "id": "1dd1851b",
   "metadata": {},
   "source": [
    "<b> <u> Question 4 </u> </b>\n",
    "\n",
    "Nous allons calculer consécutivement D(k) (comme la <i>mean square error</i> entre l'image originale et l'image reconstituée) et R(k) après un codage RLE."
   ]
  },
  {
   "cell_type": "markdown",
   "id": "15aad4a3",
   "metadata": {},
   "source": [
    "<hr>\n",
    "<div style = \"font-family: Courier\">\n",
    "    <p style = \"font:font-weight: bold; color: #ffecc5\">\n",
    "        D\n",
    "    </p>\n",
    "    <div style = \"padding-left: 15px; color: #b6cff5\">\n",
    "        <b>@in :</b> k = nombre de clusters\n",
    "        </br>\n",
    "        <b>@out :</b> MSE = mean square error\n",
    "    </div>\n",
    "</div>\n",
    "<hr><br>\n",
    "<div>\n",
    "Cette fonction calcule simplement la mean square error entre les deux photos. Elle se charge elle-même de clusteriser la photo d'origine et la reconstruire pour faire la comparaison.</div>\n",
    "\n"
   ]
  },
  {
   "cell_type": "code",
   "execution_count": 54,
   "id": "8d7e5b47",
   "metadata": {},
   "outputs": [],
   "source": [
    "from sklearn.metrics import mean_squared_error\n",
    "import numpy as np\n",
    "\n",
    "def D(k):\n",
    "    (img, imgCdw, codebook) = kMeansAlgo(k)\n",
    "    imgReconst = remettreEnPlace(imgCdw, codebook)\n",
    "    MSE = np.square(np.subtract(img,imgReconst)).mean()    \n",
    "    return MSE"
   ]
  },
  {
   "cell_type": "markdown",
   "id": "15aad4a3",
   "metadata": {},
   "source": [
    "<hr>\n",
    "<div style = \"font-family: Courier\">\n",
    "    <p style = \"font:font-weight: bold; color: #ffecc5\">\n",
    "        codingRateRLE\n",
    "    </p>\n",
    "    <div style = \"padding-left: 15px; color: #b6cff5\">\n",
    "        <b>@in :</b> k = nombre de clusters\n",
    "        </br>\n",
    "        <b>@out :</b> res = tableau représentant l'image dont les pixels sont définis selon des codewords <u> et </u> triés selon RLE\n",
    "        </br>\n",
    "        <b>@out :</b> codebook = dictionnaire traduisant toutes les couleurs de l'image (RVB) en codewords\n",
    "    </div>\n",
    "</div>\n",
    "<hr><br>\n",
    "<div>\n",
    "Cette fonction clusterise la photographie fournie et la code selon le protocole RLE afin de retourner un tableau représentant l'image et son codebook associé.</div>\n",
    "\n"
   ]
  },
  {
   "cell_type": "code",
   "execution_count": 71,
   "id": "b5b0f7d7",
   "metadata": {},
   "outputs": [],
   "source": [
    "def codingRateRLE(k):\n",
    "    (img, imgData, codebook) = kMeansAlgo(k)\n",
    "    res, index = [], 0\n",
    "    for i in range(len(imgData)): # on parcourt toutes les lignes de l'image\n",
    "        colorActual = imgData[i][0] # on initialise la première couleur\n",
    "        string_row = \"\" # chaîne représentant la ligne en cours d'étude\n",
    "        nombrePixel = 0 # nombre de pixels de cette couleur\n",
    "        for j in range(len(imgData[0])): # on parcourt une ligne de l'image\n",
    "            if (imgData[i][j] == colorActual) : # si la couleur du pixel étudié est identique à la précédente\n",
    "                nombrePixel += 1 # on augmente\n",
    "            else : # sinon (si la couleur est différente)\n",
    "                if nombrePixel != 0 : # si le nombre de pixel est non nul\n",
    "                    string = str(colorActual) + \" \" + str(nombrePixel) + \" ; \"\n",
    "                    string_row += string\n",
    "                nombrePixel = 1\n",
    "                colorActual = imgData[i][j]\n",
    "        colorActual = imgData[i][j]\n",
    "        string = str(colorActual) + \" \" + str(nombrePixel)\n",
    "        string_row += string\n",
    "        res.append(string_row)\n",
    "        nombrePixel = 0\n",
    "    return res, codebook"
   ]
  },
  {
   "cell_type": "markdown",
   "id": "15aad4a3",
   "metadata": {},
   "source": [
    "<hr>\n",
    "<div style = \"font-family: Courier\">\n",
    "    <p style = \"font:font-weight: bold; color: #ffecc5\">\n",
    "        R\n",
    "    </p>\n",
    "    <div style = \"padding-left: 15px; color: #b6cff5\">\n",
    "        <b>@in :</b> k = nombre de clusters\n",
    "        </br>\n",
    "        <b>@out :</b> resultat = \n",
    "    </div>\n",
    "</div>\n",
    "<hr><br>\n",
    "<div>\n",
    "[Mettre la description générale de la fonction]</div>\n",
    "\n"
   ]
  },
  {
   "cell_type": "code",
   "execution_count": 63,
   "id": "4837602e",
   "metadata": {},
   "outputs": [],
   "source": [
    "def R(k) :\n",
    "    (result, cb) = codingRateRLE(k)\n",
    "    weight_codebook = 3*8*k\n",
    "    ligne = list(result[0])\n",
    "    i = len(ligne)\n",
    "    nb_pixel = 0\n",
    "    save = False\n",
    "    j = 0\n",
    "    valeur = \"\"\n",
    "    while j < i :\n",
    "        if ligne[j] == ' ' :\n",
    "            save = True\n",
    "        elif ligne[j] == ';' :\n",
    "            nb_pixel += int(valeur)\n",
    "            valeur =\"\"\n",
    "            save = False\n",
    "        elif save :\n",
    "            valeur +=ligne[j]\n",
    "        else :\n",
    "            pass\n",
    "        j += 1\n",
    "    nb_pixel += int(valeur)  #nombre de pixel par ligne\n",
    "    count = 0               #nombre de valeurs différentes pour toutes les lignes\n",
    "    for line in result :\n",
    "        compteur = 1\n",
    "        val = list(line)\n",
    "        for c in val :\n",
    "            if c == ';' :\n",
    "                compteur += 1\n",
    "        count += compteur\n",
    "    nb_ligne = len(result)\n",
    "    taille_couleur = int(math.ceil(math.log2(k)))\n",
    "    taille_valeur = int(math.ceil(math.log2(nb_pixel)))\n",
    "    resultat = (weight_codebook + count*(taille_valeur+taille_couleur))/(nb_pixel*nb_ligne)\n",
    "    return resultat"
   ]
  },
  {
   "cell_type": "markdown",
   "id": "1dd1851b",
   "metadata": {},
   "source": [
    "<b> <u> Question 5 </u> </b>\n",
    "\n",
    "Nous allons tracer l'évolution de la distortion D(k) en fonction du coding rate R(k) pour k variant de 2 à 20."
   ]
  },
  {
   "cell_type": "markdown",
   "id": "15aad4a3",
   "metadata": {},
   "source": [
    "<hr>\n",
    "<div style = \"font-family: Courier\">\n",
    "    <p style = \"font:font-weight: bold; color: #ffecc5\">\n",
    "        courbeDR\n",
    "    </p>\n",
    "</div>\n",
    "<hr><br>\n",
    "<div>\n",
    "Cette fonction permet de tracer l'évolution de la distortion D(k) en fonction du coding rate R(k). Pour cela, elle récupère D(k) et R(k) pour k variant de 2 à 20.</div>\n",
    "\n"
   ]
  },
  {
   "cell_type": "code",
   "execution_count": 74,
   "id": "d8cb7e91",
   "metadata": {},
   "outputs": [],
   "source": [
    "from matplotlib import pyplot\n",
    "\n",
    "def courbeDR():\n",
    "    Lx = []\n",
    "    Ly = []\n",
    "    for k in range (2, 21):\n",
    "        Lx.append(R(k))\n",
    "        Ly.append(D(k))\n",
    "    pyplot.scatter(Lx, Ly, c = 'red')\n"
   ]
  },
  {
   "cell_type": "code",
   "execution_count": 75,
   "id": "8f8ec809",
   "metadata": {},
   "outputs": [
    {
     "data": {
      "image/png": "[encoded data removed]",
      "text/plain": [
       "<Figure size 432x288 with 1 Axes>"
      ]
     },
     "metadata": {
      "needs_background": "light"
     },
     "output_type": "display_data"
    }
   ],
   "source": [
    "# Tracé de la courbe\n",
    "courbeDR()"
   ]
  },
  {
   "cell_type": "markdown",
   "id": "276b3f87",
   "metadata": {},
   "source": [
    "<b> <u> Question 6 </u> </b>\n",
    "\n",
    "Noter ici l'objectif de la question"
   ]
  },
  {
   "cell_type": "markdown",
   "id": "15aad4a3",
   "metadata": {},
   "source": [
    "<hr>\n",
    "<div style = \"font-family: Courier\">\n",
    "    <p style = \"font:font-weight: bold; color: #ffecc5\">\n",
    "        reconstructionImageRLE\n",
    "    </p>\n",
    "    <div style = \"padding-left: 15px; color: #b6cff5\">\n",
    "        <b>@in :</b> RLE = codage RLE d'une image (résultat de codingRateRLE)\n",
    "        </br>\n",
    "        <b>@in :</b>  codebook = dictionnaire traduisant toutes les couleurs de l'image (RVB) en codewords\n",
    "        </br>\n",
    "        <b>@out :</b> imageReconst = image reconstruite au format tableau où les couleurs ont remplacé les codewords\n",
    "    </div>\n",
    "</div>\n",
    "<hr><br>\n",
    "<div>\n",
    "Cette fonction reconstruit une image passée par le protocole RLE à partir de son codebook.</div>\n",
    "\n"
   ]
  },
  {
   "cell_type": "code",
   "execution_count": 76,
   "id": "53cd3e14",
   "metadata": {},
   "outputs": [],
   "source": [
    "def reconstructionImageRLE(RLE, codebook):\n",
    "    image = []\n",
    "    for i in range (len(RLE)):\n",
    "        ligne = []\n",
    "        liste = RLE[i].split(\";\")\n",
    "        for j in range(len(liste)):\n",
    "            liste2 = liste[j].split(\" \")\n",
    "            for k in range (int(liste2[1])):\n",
    "                ligne.append(np.array(codebook.get(int(liste2[0]))))\n",
    "        image.append(np.array(ligne))\n",
    "    imageReconst = np.array(image)\n",
    "    return imageReconst\n"
   ]
  }
 ],
 "metadata": {
  "interpreter": {
   "hash": "2c5af67b1d2fe4160132f6656f32baf7ccbf14a35ffa3cd1a680a6b747815161"
  },
  "kernelspec": {
   "display_name": "Python 3.8.8 64-bit ('base': conda)",
   "name": "python3"
  },
  "language_info": {
   "codemirror_mode": {
    "name": "ipython",
    "version": 3
   },
   "file_extension": ".py",
   "mimetype": "text/x-python",
   "name": "python",
   "nbconvert_exporter": "python",
   "pygments_lexer": "ipython3",
   "version": "3.8.8"
  }
 },
 "nbformat": 4,
 "nbformat_minor": 5
}
