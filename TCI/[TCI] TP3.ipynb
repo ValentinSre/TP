{
 "cells": [
  {
   "cell_type": "code",
   "execution_count": 10,
   "metadata": {},
   "outputs": [],
   "source": [
    "# Matrice de test à effacer\n",
    "\n"
   ]
  },
  {
   "cell_type": "code",
   "execution_count": 104,
   "metadata": {},
   "outputs": [
    {
     "data": {
      "text/plain": [
       "0.7336804366512109"
      ]
     },
     "execution_count": 104,
     "metadata": {},
     "output_type": "execute_result"
    }
   ],
   "source": [
    "import math as m\n",
    "import numpy as np\n",
    "\n",
    "# I(x,y)= H(x) + H(y) - H(x,y)\n",
    "# I(x,y) = Somme(j=0 à J-1) Somme(k=0 à K-1) p(xj,yk).log2(p(xj,yk)/[p(xj)*p(yk)])\n",
    "\n",
    "def coordonnees(lettre):\n",
    "    if lettre == \"A\":\n",
    "        return 0\n",
    "    elif lettre == \"T\":\n",
    "        return 1\n",
    "    elif lettre == \"G\":\n",
    "        return 2\n",
    "    elif lettre == \"C\":\n",
    "        return 3\n",
    "    else : \n",
    "        return 4\n",
    "\n",
    "def matriceContingence(X, Y):\n",
    "    tab = np.zeros(shape = (5,5))\n",
    "    matr = np.zeros(shape=(5,5))\n",
    "    for k in range (len(X)):\n",
    "        x = coordonnees(X[k])\n",
    "        y = coordonnees(Y[k])\n",
    "        tab[x][y] += 1\n",
    "    total = np.sum(tab)\n",
    "    matr = (1/total) * tab\n",
    "    return matr\n",
    "\n",
    "def pX(matr): \n",
    "    pX = np.zeros(shape=(5,1))\n",
    "    (l, L) = matr.shape\n",
    "    for i in range (l):\n",
    "        s = 0\n",
    "        for j in range (L):\n",
    "            s+= matr[i][j]\n",
    "        pX[i][0] = s\n",
    "    return pX\n",
    "\n",
    "def pY(matr):\n",
    "    pY = np.zeros(shape=(1,5))\n",
    "    (l, L) = matr.shape\n",
    "    for j in range(L):\n",
    "        s = 0\n",
    "        for i in range (l):\n",
    "            s+=matr[i][j]\n",
    "        pY[0][j] = s\n",
    "    return pY\n",
    "\n",
    "X, Y = ['T', 'T', 'A'], [\"G\", 'T', 'C']\n",
    "\n",
    "def calculProba(vect):\n",
    "    proba = {'A':0, 'T':0, 'G':0, 'C':0, '-':0}\n",
    "    for k in range (len(vect)):\n",
    "        proba[vect[k]]+= 1\n",
    "    for cle, valeur in proba.items():\n",
    "        proba[cle]=valeur/len(vect)\n",
    "    return proba\n",
    "\n",
    "def entropie(vect): \n",
    "    H = 0\n",
    "    p = calculProba(vect)\n",
    "    for cle, valeur in p.items():\n",
    "        if valeur!=0:\n",
    "            H += - valeur * m.log2(valeur)\n",
    "    return H\n",
    "\n",
    "def infoMutuelle(X, Y):\n",
    "    mat = matriceContingence(X, Y)\n",
    "    mat[mat==0]=10**-50 # pour éviter de diviser par 0\n",
    "    py = pY(mat)\n",
    "    px = pX(mat)\n",
    "    den = (px*py)**-1\n",
    "    mult = mat*den\n",
    "    res = mat*(np.log2(mult))\n",
    "    return np.sum(res)\n",
    "\n",
    "\n",
    "def NMI(X,Y):\n",
    "    I = infoMutuelle(X,Y)\n",
    "    Hx = entropie(X)\n",
    "    Hy = entropie(Y)\n",
    "    return (2*I)/(Hx+Hy)\n",
    "    \n",
    "\n",
    "infoMutuelle(X,Y)\n",
    "NMI(X,Y)"
   ]
  }
 ],
 "metadata": {
  "interpreter": {
   "hash": "2c5af67b1d2fe4160132f6656f32baf7ccbf14a35ffa3cd1a680a6b747815161"
  },
  "kernelspec": {
   "display_name": "Python 3.8.8 64-bit ('base': conda)",
   "language": "python",
   "name": "python3"
  },
  "language_info": {
   "codemirror_mode": {
    "name": "ipython",
    "version": 3
   },
   "file_extension": ".py",
   "mimetype": "text/x-python",
   "name": "python",
   "nbconvert_exporter": "python",
   "pygments_lexer": "ipython3",
   "version": "3.8.8"
  },
  "orig_nbformat": 4
 },
 "nbformat": 4,
 "nbformat_minor": 2
}
