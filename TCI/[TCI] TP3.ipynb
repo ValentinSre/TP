{
 "cells": [
  {
   "cell_type": "markdown",
   "metadata": {},
   "source": [
    "# <b> Lab 3 : Mutual information and NMI calculation </b>\n",
    "\n",
    "<i> Compte-rendu par Valentin SÉRÉE et Jérémy SERENA [INFO3]</i>"
   ]
  },
  {
   "cell_type": "markdown",
   "metadata": {},
   "source": [
    "<b> <u> Question 1 </u> </b>\n",
    "\n",
    "Nous allons calculer l'information mutuelle entre deux vecteurs X et Y. Pour cela, nous allons estimer la fonction de densité de probabilité conjointe (<i>joint pdf</i>) en construisant au préalable la matrice de contingence."
   ]
  },
  {
   "cell_type": "markdown",
   "metadata": {},
   "source": [
    "<hr>\n",
    "<div style = \"font-family: Courier\">\n",
    "    <p style = \"font:font-weight: bold; color: #ffecc5\">\n",
    "        matriceContingence\n",
    "    </p>\n",
    "    <div style = \"padding-left: 15px; color: #b6cff5\">\n",
    "        <b>@in :</b> X = premier vecteur d'informations \n",
    "        </br>\n",
    "        <b>@in :</b> Y = deuxième vecteur d'informations\n",
    "        </br>\n",
    "        <b>@in :</b> alphabet = alphabet des symboles du vecteur\n",
    "        </br>\n",
    "        <b>@out :</b> matrice = matrice de contingence construite\n",
    "    </div>\n",
    "</div>\n",
    "<hr><br>\n",
    "<div>\n",
    "Cette fonction construit la matrice de contingence à partir de deux vecteurs donnés en entrée.</div>\n",
    "\n"
   ]
  },
  {
   "cell_type": "code",
   "execution_count": 1,
   "metadata": {},
   "outputs": [],
   "source": [
    "import math as m\n",
    "import numpy as np\n",
    "\n",
    "def matriceContingence(X, Y, alphabet):\n",
    "    taille = len(alphabet)\n",
    "    tab = np.zeros(shape = (taille,taille)) # on construit une matrice qui compte l'apparition de chaque symbole\n",
    "    matr = np.zeros(shape =(taille,taille)) # on construit une matrice qui recense les probabilités\n",
    "    for k in range (len(X)):\n",
    "        x = coordonnees(X[k], alphabetVect) # on récupère toutes les coordonnées de chaque élément dans la matrice\n",
    "        y = coordonnees(Y[k], alphabetVect)\n",
    "        tab[x][y] += 1\n",
    "    total = np.sum(tab) # on somme tous les éléments\n",
    "    matr = (1/total) * tab # on calcule les probabilités\n",
    "    return matr"
   ]
  },
  {
   "cell_type": "markdown",
   "metadata": {},
   "source": [
    "<hr>\n",
    "<div style = \"font-family: Courier\">\n",
    "    <p style = \"font:font-weight: bold; color: #ffecc5\">\n",
    "        coordonnees\n",
    "    </p>\n",
    "    <div style = \"padding-left: 15px; color: #b6cff5\">\n",
    "        <b>@in :</b> lettre = lettre dont on cherche la position\n",
    "        </br>\n",
    "        <b>@in :</b> alphabet = alphabet\n",
    "        </br>\n",
    "        <b>@out :</b> position = position de la lettre dans la matrice de contingence\n",
    "    </div>\n",
    "</div>\n",
    "<hr><br>\n",
    "<div>\n",
    "Cette fonction auxiliaire renvoie la ligne/colonne (selon le contexte d'appel) à laquelle se situe la lettre fournie en paramètre dans la matrice de contingence.</div>\n",
    "\n"
   ]
  },
  {
   "cell_type": "code",
   "execution_count": 2,
   "metadata": {},
   "outputs": [],
   "source": [
    "def coordonnees(lettre, alphabet):\n",
    "    position = alphabet[lettre]\n",
    "    return position"
   ]
  },
  {
   "cell_type": "markdown",
   "metadata": {},
   "source": [
    "<hr>\n",
    "<div style = \"font-family: Courier\">\n",
    "    <p style = \"font:font-weight: bold; color: #ffecc5\">\n",
    "        pX\n",
    "    </p>\n",
    "    <div style = \"padding-left: 15px; color: #b6cff5\">\n",
    "        <b>@in :</b> matr = matrice de contingence\n",
    "        </br>\n",
    "        <b>@out :</b> pX = vecteur recensant toutes les probabilités p<sub>X</sub> d'apparition de chaque lettre\n",
    "    </div>\n",
    "</div>\n",
    "<hr><br>\n",
    "<div>\n",
    "Cette fonction construit le vecteur des probabilités p<sub>X</sub> grâce à la matrice de contingence (somme par ligne des probabilités).</div>\n",
    "\n"
   ]
  },
  {
   "cell_type": "code",
   "execution_count": 3,
   "metadata": {},
   "outputs": [],
   "source": [
    "def pX(matr): \n",
    "    (l, L) = matr.shape\n",
    "    pX = np.zeros(shape=(l,1))\n",
    "    for i in range (l):\n",
    "        s = 0\n",
    "        for j in range (L):\n",
    "            s+= matr[i][j]\n",
    "        pX[i][0] = s\n",
    "    return pX"
   ]
  },
  {
   "cell_type": "markdown",
   "metadata": {},
   "source": [
    "<hr>\n",
    "<div style = \"font-family: Courier\">\n",
    "    <p style = \"font:font-weight: bold; color: #ffecc5\">\n",
    "        pY\n",
    "    </p>\n",
    "    <div style = \"padding-left: 15px; color: #b6cff5\">\n",
    "        <b>@in :</b> matr = matrice de contingence\n",
    "        </br>\n",
    "        <b>@out :</b> pY = vecteur recensant toutes les probabilités p<sub>Y</sub> d'apparition de chaque lettre\n",
    "    </div>\n",
    "</div>\n",
    "<hr><br>\n",
    "<div>\n",
    "Cette fonction construit le vecteur des probabilités p<sub>Y</sub> grâce à la matrice de contingence (somme par colonne des probabilités).</div>"
   ]
  },
  {
   "cell_type": "code",
   "execution_count": 4,
   "metadata": {},
   "outputs": [],
   "source": [
    "def pY(matr):\n",
    "    (l, L) = matr.shape\n",
    "    pY = np.zeros(shape=(1,L))\n",
    "    for j in range(L):\n",
    "        s = 0\n",
    "        for i in range (l):\n",
    "            s+=matr[i][j]\n",
    "        pY[0][j] = s\n",
    "    return pY"
   ]
  },
  {
   "cell_type": "markdown",
   "metadata": {},
   "source": [
    "<hr>\n",
    "<div style = \"font-family: Courier\">\n",
    "    <p style = \"font:font-weight: bold; color: #ffecc5\">\n",
    "        infoMutuelle\n",
    "    </p>\n",
    "    <div style = \"padding-left: 15px; color: #b6cff5\">\n",
    "        <b>@in :</b> X = premier vecteur d'informations\n",
    "        </br>\n",
    "        <b>@in :</b> Y = deuxième vecteur d'informations\n",
    "        </br>\n",
    "        <b>@out :</b> info = information mutuelle entre les deux vecteurs\n",
    "    </div>\n",
    "</div>\n",
    "<hr><br>\n",
    "<div>\n",
    "Cette fonction construit la matrice de contingence grâce aux deux vecteurs afin de calculer l'information mutuelle entre ces deux vecteurs.</div>"
   ]
  },
  {
   "cell_type": "code",
   "execution_count": 5,
   "metadata": {},
   "outputs": [],
   "source": [
    "def infoMutuelle(X, Y):\n",
    "    global alphabetVect\n",
    "    mat = matriceContingence(X, Y, alphabetVect) # on construit la matrice de contingence\n",
    "    mat[mat==0]=10**-50 # pour éviter de diviser par 0 \n",
    "    py = pY(mat) # on récupère pY\n",
    "    px = pX(mat) # on récupère pX\n",
    "    den = (px*py)**-1 # on calcule 1/(pX * pY)\n",
    "    mult = mat*den # on calcule matContingence/(pX * pY)\n",
    "    res = mat*(np.log2(mult)) # on calcule le log2 de ce rapport que l'on multiplie à la matrice de contingence\n",
    "    info = np.sum(res) # on somme tout\n",
    "    return info "
   ]
  },
  {
   "cell_type": "markdown",
   "metadata": {},
   "source": [
    "<b> <u> Question 2 </u> </b>\n",
    "\n",
    "Nous cherchons désormais à calculer l'information mutuelle normalisée (NMI). Pour cela, nous aurons besoin de l'information mutuelle (déjà construite en question 1) ainsi que de l'entropie d'un vecteur."
   ]
  },
  {
   "cell_type": "markdown",
   "metadata": {},
   "source": [
    "En amont du calcul de l'entropie, il est nécessaire de calculer les probabilités réelles d'apparition de chaque symbole dans chaque vecteur."
   ]
  },
  {
   "cell_type": "markdown",
   "metadata": {},
   "source": [
    "<hr>\n",
    "<div style = \"font-family: Courier\">\n",
    "    <p style = \"font:font-weight: bold; color: #ffecc5\">\n",
    "        calculProba\n",
    "    </p>\n",
    "    <div style = \"padding-left: 15px; color: #b6cff5\">\n",
    "        <b>@in :</b> vect = vecteur d'informations\n",
    "        </br>\n",
    "        <b>@out :</b> proba = probabilités d'apparition réelles de chaque symbole dans vect\n",
    "    </div>\n",
    "</div>\n",
    "<hr><br>\n",
    "<div>\n",
    "Cette fonction calcule les probabilités d'apparition réelle de chaque symbole dans le vecteur.</div>"
   ]
  },
  {
   "cell_type": "code",
   "execution_count": 6,
   "metadata": {},
   "outputs": [],
   "source": [
    "def calculProba(vect):\n",
    "    proba = {}\n",
    "    for k in range (len(vect)): # on parcourt le vecteur et on compte le nombre d'apparition\n",
    "        symb = vect[k]\n",
    "        if (symb in proba):\n",
    "            proba[symb] += 1\n",
    "        else:\n",
    "            proba[symb] = 1\n",
    "    for cle, valeur in proba.items(): # on divise par le nombre de termes\n",
    "        proba[cle]=valeur/len(vect)\n",
    "    return proba"
   ]
  },
  {
   "cell_type": "markdown",
   "metadata": {},
   "source": [
    "<hr>\n",
    "<div style = \"font-family: Courier\">\n",
    "    <p style = \"font:font-weight: bold; color: #ffecc5\">\n",
    "        entropie\n",
    "    </p>\n",
    "    <div style = \"padding-left: 15px; color: #b6cff5\">\n",
    "        <b>@in :</b> vect = vecteur d'informations\n",
    "        </br>\n",
    "        <b>@out :</b> H = entropie réelle\n",
    "    </div>\n",
    "</div>\n",
    "<hr><br>\n",
    "<div>\n",
    "Cette fonction calcule l'entropie d'un vecteur.</div>"
   ]
  },
  {
   "cell_type": "code",
   "execution_count": 7,
   "metadata": {},
   "outputs": [],
   "source": [
    "def entropie(vect): \n",
    "    H = 0\n",
    "    p = calculProba(vect)\n",
    "    for cle, valeur in p.items():\n",
    "        if valeur!=0:\n",
    "            H += - valeur * m.log2(valeur)\n",
    "    return H"
   ]
  },
  {
   "cell_type": "markdown",
   "metadata": {},
   "source": [
    "<hr>\n",
    "<div style = \"font-family: Courier\">\n",
    "    <p style = \"font:font-weight: bold; color: #ffecc5\">\n",
    "        NMI\n",
    "    </p>\n",
    "    <div style = \"padding-left: 15px; color: #b6cff5\">\n",
    "        <b>@in :</b> X = vecteur d'informations\n",
    "        </br>\n",
    "        <b>@in :</b> Y = vecteur d'informations\n",
    "        </br>\n",
    "        <b>@out :</b> NMI  = information mutuelle normalisée\n",
    "    </div>\n",
    "</div>\n",
    "<hr><br>\n",
    "<div>\n",
    "Cette fonction calcule l'information mutuelle normalisée entre deux vecteurs.</div>"
   ]
  },
  {
   "cell_type": "code",
   "execution_count": 8,
   "metadata": {},
   "outputs": [],
   "source": [
    "def NMI(X,Y):\n",
    "    I = infoMutuelle(X,Y)\n",
    "    Hx = entropie(X)\n",
    "    Hy = entropie(Y)\n",
    "    NMI = (2*I)/(Hx+Hy)\n",
    "    return NMI"
   ]
  },
  {
   "cell_type": "markdown",
   "metadata": {},
   "source": [
    "<h4> Test des fonctions formées </h4>\n",
    "On peut tester nos fonctions avec deux vecteurs très simples."
   ]
  },
  {
   "cell_type": "code",
   "execution_count": 9,
   "metadata": {},
   "outputs": [
    {
     "name": "stdout",
     "output_type": "stream",
     "text": [
      "L'information mutuelle est de 0.9182 bit/symbole\n",
      "L'information mutuelle normalisée est de 0.7336\n"
     ]
    }
   ],
   "source": [
    "# On définit l'alphabet\n",
    "alphabetVect = {\"A\": 0, \"T\": 1, \"C\": 2, \"G\": 3, \"-\": 4}\n",
    "\n",
    "# On définit deux vecteurs simples\n",
    "X, Y = ['T', 'T', 'A'], ['G', 'T', 'C']\n",
    "\n",
    "print(\"L'information mutuelle est de \" + str(infoMutuelle(X,Y))[:6] + \" bit/symbole\")\n",
    "print(\"L'information mutuelle normalisée est de \" + str(NMI(X,Y))[:6])\n"
   ]
  },
  {
   "cell_type": "markdown",
   "metadata": {},
   "source": [
    "<b> <u> Question 3 </u> </b>\n",
    "\n",
    "Nous reprenons désormais l'image étudiée dans le Lab 2. Nous allons nous intéresser à chaque spectre de couleur (R,V,B) afin de comparer l'information mutuelle de chaque vecteur ainsi que leur NMI."
   ]
  },
  {
   "cell_type": "markdown",
   "metadata": {},
   "source": [
    "Nous allons auparavant proposer un petit script afin de décrire l'alphabet et récupérer les vecteurs respectifs à chaque couleur."
   ]
  },
  {
   "cell_type": "code",
   "execution_count": 10,
   "metadata": {},
   "outputs": [
    {
     "name": "stdout",
     "output_type": "stream",
     "text": [
      "L'information mutuelle entre le rouge et le vert est 3.2130085997197453 bit/symbole\n",
      "Le NMI entre le rouge et le vert est 0.41710661314784325\n",
      "L'information mutuelle entre le rouge et le bleu est 2.649581222889778 bit/symbole\n",
      "Le NMI entre le rouge et le bleu est 0.34699495559852833\n",
      "L'information mutuelle entre le bleu et le vert est 2.8743919809928697 bit/symbole\n",
      "Le NMI entre le bleu et le vert est 0.3735378116492536\n"
     ]
    }
   ],
   "source": [
    "import cv2\n",
    "\n",
    "# On définit l'alphabet\n",
    "alphabetVect = {}\n",
    "for i in range (256):\n",
    "    alphabetVect[i] = i \n",
    "\n",
    "# On récupère l'image\n",
    "imgPath = 'ex9Data/bird_small.tiff'\n",
    "image = cv2.imread(imgPath) \n",
    "image = cv2.cvtColor(image, cv2.COLOR_BGR2RGB) \n",
    "\n",
    "# On forme les vecteurs\n",
    "def differencierCouleurs(image):\n",
    "    R, V, B = [], [], []\n",
    "    for i in range (len(image)):\n",
    "        for j in range (len(image[0])):\n",
    "            R.append(image[i][j][0])\n",
    "            V.append(image[i][j][1])\n",
    "            B.append(image[i][j][2])\n",
    "    return R,V,B\n",
    "\n",
    "R, V, B = differencierCouleurs(image)\n",
    "\n",
    "# On calcule\n",
    "print(\"L'information mutuelle entre le rouge et le vert est \" + str(infoMutuelle(R,V)) + \" bit/symbole\")\n",
    "print(\"Le NMI entre le rouge et le vert est \" + str(NMI(R,V)))\n",
    "\n",
    "print(\"L'information mutuelle entre le rouge et le bleu est \" + str(infoMutuelle(R,B)) + \" bit/symbole\")\n",
    "print(\"Le NMI entre le rouge et le bleu est \" + str(NMI(R,B)))\n",
    "\n",
    "print(\"L'information mutuelle entre le bleu et le vert est \" + str(infoMutuelle(B,V)) + \" bit/symbole\")\n",
    "print(\"Le NMI entre le bleu et le vert est \" + str(NMI(B,V)))\n"
   ]
  },
  {
   "cell_type": "markdown",
   "metadata": {},
   "source": [
    "<b> <u> Question 4 </u> </b>\n",
    "\n",
    "Nous allons représenter graphiquement l'évolution de l'information mutuelle après application de l'algorithme k-Means."
   ]
  },
  {
   "cell_type": "markdown",
   "metadata": {},
   "source": [
    "Nous récupérons des fonctions écrites au TP2 pour appliquer l'algorithme KMeans. <i>[pour plus de précision, se reporter au TP2]</i>"
   ]
  },
  {
   "cell_type": "code",
   "execution_count": 11,
   "metadata": {},
   "outputs": [],
   "source": [
    "import matplotlib.pyplot as plt\n",
    "\n",
    "def kMeansAlgo(k):\n",
    "    global imgPath\n",
    "    image = cv2.imread(imgPath) \n",
    "    image = cv2.cvtColor(image, cv2.COLOR_BGR2RGB) \n",
    "    criteria = (cv2.TERM_CRITERIA_EPS + cv2.TERM_CRITERIA_MAX_ITER, 100, 0.85) \n",
    "    pixel_vals = image.reshape((-1,3)) \n",
    "    pixel_vals = np.float32(pixel_vals)\n",
    "    retval, labels, centers = cv2.kmeans(pixel_vals, k, None, criteria, 10, cv2.KMEANS_RANDOM_CENTERS) \n",
    "    centers = np.uint8(centers) \n",
    "    codebook = {}\n",
    "    listCenters = list(centers)\n",
    "    for i in range (len(listCenters)):\n",
    "        codebook[i] = list(listCenters[i])\n",
    "    segmented_data = centers[labels.flatten()]\n",
    "    segmented_image = segmented_data.reshape((image.shape)) \n",
    "    imageSeg = codebookImage(segmented_image, codebook)\n",
    "    return imageSeg, codebook\n",
    "\n",
    "def codebookImage(img, cb):\n",
    "    image = []\n",
    "    for i in range (len(img)):\n",
    "        ligne = []\n",
    "        for j in range (len(img[0])):\n",
    "            for k in range (len(cb)):\n",
    "                if (np.array(cb[k]) == img[i][j]).all():\n",
    "                    ligne.append(k)\n",
    "        image.append(np.array(ligne))\n",
    "        ligne = []\n",
    "    res = np.array(image)\n",
    "    return res"
   ]
  },
  {
   "cell_type": "markdown",
   "metadata": {},
   "source": [
    "Nous récupérons des fonctions écrites au début du TP3 pour faire en sorte d'obtenir une matrice de contingence rectangulaire de taille 255 * k (où k est le nombre de labels). <i>[pour plus de précision, se reporter aux descriptions ci-avant]</i>"
   ]
  },
  {
   "cell_type": "code",
   "execution_count": 12,
   "metadata": {},
   "outputs": [],
   "source": [
    "def matrContingence_KMeans(X, Y, k):\n",
    "    tab = np.zeros(shape = (255,k)) # on construit une matrice qui compte l'apparition de chaque symbole\n",
    "    matr = np.zeros(shape =(255,k)) # on construit une matrice qui recense les probabilités\n",
    "    for i in range (len(X)):\n",
    "        x = X[i]-1 # on récupère toutes les coordonnées de chaque élément dans la matrice\n",
    "        y = Y[i]-1\n",
    "        tab[x][y] += 1\n",
    "    total = np.sum(tab) # on somme tous les éléments\n",
    "    matr = (1/total) * tab # on calcule les probabilités\n",
    "    return matr\n",
    "\n",
    "def infoMutuelle_KMeans(X, Y, k):\n",
    "    mat = matrContingence_KMeans(X, Y, k) # on construit la matrice de contingence\n",
    "    mat[mat==0]=10**-50 # pour éviter de diviser par 0 \n",
    "    py = pY(mat) # on récupère pY\n",
    "    px = pX(mat) # on récupère pX\n",
    "    den = (px*py)**-1 # on calcule 1/(pX * pY)\n",
    "    mult = mat*den # on calcule matContingence/(pX * pY)\n",
    "    res = mat*(np.log2(mult)) # on calcule le log2 de ce rapport que l'on multiplie à la matrice de contingence\n",
    "    info = np.sum(res) # on somme tout\n",
    "    return info \n",
    "\n",
    "def NMI_KMeans(X, Y, k):\n",
    "    I = infoMutuelle_KMeans(X, Y, k)\n",
    "    Hx = entropie(X)\n",
    "    Hy = entropie(Y)\n",
    "    NMI = (2*I)/(Hx+Hy)\n",
    "    return NMI"
   ]
  },
  {
   "cell_type": "markdown",
   "metadata": {},
   "source": [
    "<hr>\n",
    "<div style = \"font-family: Courier\">\n",
    "    <p style = \"font:font-weight: bold; color: #ffecc5\">\n",
    "        matriceToList\n",
    "    </p>\n",
    "    <div style = \"padding-left: 15px; color: #b6cff5\">\n",
    "        <b>@in :</b> matrice = matrice à transformer en liste\n",
    "        </br>\n",
    "        <b>@out :</b> liste = matrice transformée en liste\n",
    "    </div>\n",
    "</div>\n",
    "<hr><br>\n",
    "<div>\n",
    "Cette fonction transforme en liste une matrice.</div>"
   ]
  },
  {
   "cell_type": "code",
   "execution_count": 13,
   "metadata": {},
   "outputs": [],
   "source": [
    "def matriceToList(matrice):\n",
    "    matrice.shape = (1, np.size(matrice)) # on aplatit la matrice\n",
    "    liste = list(matrice[0]) # on la transforme en liste\n",
    "    return liste"
   ]
  },
  {
   "cell_type": "markdown",
   "metadata": {},
   "source": [
    "<hr>\n",
    "<div style = \"font-family: Courier\">\n",
    "    <p style = \"font:font-weight: bold; color: #ffecc5\">\n",
    "        affichage_K_NMI\n",
    "    </p>\n",
    "    <div style = \"padding-left: 15px; color: #b6cff5\">\n",
    "        <b>@in :</b> i = valeur de k jusqu'à laquelle on souhaite l'affichage (k-means)\n",
    "    </div>\n",
    "</div>\n",
    "<hr><br>\n",
    "<div>\n",
    "Cette fonction affiche l'évolution du NMI entre chaque composante de couleurs avec les labels issus de l'algorithme k-means pour des valeurs de k allant de 2 à i.\n",
    "</div>"
   ]
  },
  {
   "cell_type": "code",
   "execution_count": 14,
   "metadata": {},
   "outputs": [],
   "source": [
    "def affichage_K_NMI(i):\n",
    "    Lx, LyR, LyV, LyB = [], [], [], [] # On crée une liste pour chaque composante\n",
    "    global imgPath \n",
    "    image = cv2.imread(imgPath) \n",
    "    image = cv2.cvtColor(image, cv2.COLOR_BGR2RGB) \n",
    "    R,V,B = differencierCouleurs(image) # On crée les vecteurs de chaque couleur à partir de l'image\n",
    "    for k in range (2,i+1): # pour chaque valeur de k\n",
    "        (imgSeg, cb) = kMeansAlgo(k) # on récupère l'image passée par k-means\n",
    "        vect = matriceToList(imgSeg) # on la transforme en vecteur\n",
    "        Lx.append(k) # on ajoute la valeur de k aux abscisses\n",
    "        # pour chaque composante, on calcule le NMI \n",
    "        LyR.append(NMI_KMeans(R,vect,k)) \n",
    "        LyB.append(NMI_KMeans(B,vect,k))\n",
    "        LyV.append(NMI_KMeans(V,vect,k))\n",
    "    plt.plot(Lx, LyR, c = 'red')\n",
    "    plt.plot(Lx, LyV, c = 'green')\n",
    "    plt.plot(Lx, LyB, c = 'blue')\n",
    "    plt.title(\"NMI entre chaque composante (R/V/B) et les labels k-means\")\n",
    "    plt.show()\n"
   ]
  },
  {
   "cell_type": "markdown",
   "metadata": {},
   "source": [
    "<h4> Test de la fonction formée </h4>\n",
    "On teste notre fonction pour k allant de 2 à 20."
   ]
  },
  {
   "cell_type": "code",
   "execution_count": 15,
   "metadata": {},
   "outputs": [
    {
     "data": {
      "image/png": "[encoded data removed]",
      "text/plain": [
       "<Figure size 432x288 with 1 Axes>"
      ]
     },
     "metadata": {
      "needs_background": "light"
     },
     "output_type": "display_data"
    }
   ],
   "source": [
    "affichage_K_NMI(20)"
   ]
  },
  {
   "cell_type": "markdown",
   "metadata": {},
   "source": [
    "On remarque d'une part que les NMI augmentent à mesure que k augmente. D'autre part, les composantes vertes et rouges sont prédominantes, ce qui est cohérent avec la prédominance des teintes jaune/orange de la photographie (sachant que l'addition des couleurs vertes et rouges forment du jaune/orange)."
   ]
  },
  {
   "cell_type": "markdown",
   "metadata": {},
   "source": [
    "<b> <u> Question 5 </u> </b>\n",
    "\n",
    "Nous allons chercher à comparer les NMI de l'ADN de chaque animal (dont l'humain) afin de trouver les similarités de leur ADN."
   ]
  },
  {
   "cell_type": "markdown",
   "metadata": {},
   "source": [
    "<hr>\n",
    "<div style = \"font-family: Courier\">\n",
    "    <p style = \"font:font-weight: bold; color: #ffecc5\">\n",
    "        recupererADN\n",
    "    </p>\n",
    "    <div style = \"padding-left: 15px; color: #b6cff5\">\n",
    "        <b>@out :</b> dico = dictionnaire dont les clés sont les espèces et les valeurs sont l'ADN associé\n",
    "    </div>\n",
    "</div>\n",
    "<hr><br>\n",
    "<div>\n",
    "Cette fonction récupère les espèces et ADN depuis le fichier matlab.</div>"
   ]
  },
  {
   "cell_type": "code",
   "execution_count": 16,
   "metadata": {},
   "outputs": [],
   "source": [
    "import scipy.io\n",
    "\n",
    "def recupererADN():\n",
    "    mat = scipy.io.loadmat('DNA_species.mat') # on charge le fichier matlab\n",
    "    dico = {} # on crée le dictionnaire réponse\n",
    "    listeLabel = list((mat['label'])[:,0])\n",
    "    listeSpecies = []\n",
    "    for k in range (len(listeLabel)): # on récupère la liste des espèces\n",
    "        listeSpecies.append(listeLabel[k][0])\n",
    "    listeADN = list(mat['str']) # on récupère la liste des ADN\n",
    "    for p in range (len(listeADN)): # on crée le dictionnaire\n",
    "        liste=[]\n",
    "        liste[:0]=listeADN[p] # on transforme chaque string d'ADN en tableau (pour former un vecteur manipulable)\n",
    "        dico[listeSpecies[p]] = liste\n",
    "    return dico"
   ]
  },
  {
   "cell_type": "markdown",
   "metadata": {},
   "source": [
    "<hr>\n",
    "<div style = \"font-family: Courier\">\n",
    "    <p style = \"font:font-weight: bold; color: #ffecc5\">\n",
    "        comparaison\n",
    "    </p>\n",
    "    <div style = \"padding-left: 15px; color: #b6cff5\">\n",
    "        <b>@out :</b> listeComparaisons = liste de comparaisons des NMI pour chaque espèce avec les autres\n",
    "    </div>\n",
    "</div>\n",
    "<hr><br>\n",
    "<div>\n",
    "Cette fonction fabrique une liste des listes dont chaque sous-liste constitue une comparaison de la NMI de chaque espèce avec les autres espèces.</div>"
   ]
  },
  {
   "cell_type": "code",
   "execution_count": 17,
   "metadata": {},
   "outputs": [],
   "source": [
    "def comparaison():\n",
    "    dictionnaire = recupererADN()\n",
    "    listeComparaisons = []\n",
    "    for animal, adn in dictionnaire.items():\n",
    "        reference = \"Comparaison of \" + str(animal) + \" : \"\n",
    "        listeAnimal = [reference]\n",
    "        for animal2, adn2 in dictionnaire.items():\n",
    "            if animal != animal2:\n",
    "                nmi = NMI(adn, adn2)\n",
    "                listeAnimal.append(\"with \" + animal2 + \" - NMI = \" + str(nmi)[0:6])\n",
    "        listeComparaisons.append(listeAnimal)\n",
    "    return listeComparaisons"
   ]
  },
  {
   "cell_type": "markdown",
   "metadata": {},
   "source": [
    "<hr>\n",
    "<div style = \"font-family: Courier\">\n",
    "    <p style = \"font:font-weight: bold; color: #ffecc5\">\n",
    "        plusProcheVoisin\n",
    "    </p>\n",
    "    <div style = \"padding-left: 15px; color: #b6cff5\">\n",
    "        <b>@in :</b> espece = nom de l'espèce dont on veut chercher le \"plus proche voisin\"\n",
    "        </br>\n",
    "        <b>@out :</b> res = string qui retourne le nom de l'espèce la plus proche de celle de demandé ainsi que leur NMI\n",
    "    </div>\n",
    "</div>\n",
    "<hr><br>\n",
    "<div>\n",
    "Cette fonction trouve l'espèce la plus proche de celle demandée ainsi que leur NMI.</div>"
   ]
  },
  {
   "cell_type": "code",
   "execution_count": 18,
   "metadata": {},
   "outputs": [],
   "source": [
    "import operator\n",
    "\n",
    "def plusProcheVoisin(espece):\n",
    "    dico = recupererADN()\n",
    "    comparaisonDic = {}\n",
    "    ADN_Cible = dico[espece]\n",
    "    for animal, adn in dico.items():\n",
    "        if animal != espece:\n",
    "            nmi = NMI(adn, ADN_Cible)\n",
    "            comparaisonDic[animal]= nmi\n",
    "    max_key = max(comparaisonDic, key=lambda key: comparaisonDic[key])\n",
    "    res = max_key + \" shares the highest NMI with the \" + espece + \" (NMI : \" + str(comparaisonDic[max_key])[:7] + \")\"\n",
    "    return(res)"
   ]
  },
  {
   "cell_type": "markdown",
   "metadata": {},
   "source": [
    "<h4> Test des fonctions formées </h4>\n",
    "Nous pouvons tester nos fonctions pour répondre aux questions demandées."
   ]
  },
  {
   "cell_type": "code",
   "execution_count": 19,
   "metadata": {},
   "outputs": [
    {
     "data": {
      "text/plain": [
       "[['Comparaison of Cow : ',\n",
       "  'with Carp - NMI = 0.3261',\n",
       "  'with Chicken - NMI = 0.3521',\n",
       "  'with Human - NMI = 0.3251',\n",
       "  'with Loach - NMI = 0.3333',\n",
       "  'with Mouse - NMI = 0.5218',\n",
       "  'with Rat - NMI = 0.5464',\n",
       "  'with Seal - NMI = 0.5669',\n",
       "  'with Whale - NMI = 0.5949',\n",
       "  'with Frog - NMI = 0.3695'],\n",
       " ['Comparaison of Carp : ',\n",
       "  'with Cow - NMI = 0.3261',\n",
       "  'with Chicken - NMI = 0.3155',\n",
       "  'with Human - NMI = 0.2699',\n",
       "  'with Loach - NMI = 0.5039',\n",
       "  'with Mouse - NMI = 0.3283',\n",
       "  'with Rat - NMI = 0.3271',\n",
       "  'with Seal - NMI = 0.3291',\n",
       "  'with Whale - NMI = 0.3542',\n",
       "  'with Frog - NMI = 0.4243'],\n",
       " ['Comparaison of Chicken : ',\n",
       "  'with Cow - NMI = 0.3521',\n",
       "  'with Carp - NMI = 0.3155',\n",
       "  'with Human - NMI = 0.3040',\n",
       "  'with Loach - NMI = 0.2978',\n",
       "  'with Mouse - NMI = 0.3477',\n",
       "  'with Rat - NMI = 0.3551',\n",
       "  'with Seal - NMI = 0.3389',\n",
       "  'with Whale - NMI = 0.3519',\n",
       "  'with Frog - NMI = 0.3574'],\n",
       " ['Comparaison of Human : ',\n",
       "  'with Cow - NMI = 0.3251',\n",
       "  'with Carp - NMI = 0.2699',\n",
       "  'with Chicken - NMI = 0.3040',\n",
       "  'with Loach - NMI = 0.2697',\n",
       "  'with Mouse - NMI = 0.3334',\n",
       "  'with Rat - NMI = 0.3368',\n",
       "  'with Seal - NMI = 0.3207',\n",
       "  'with Whale - NMI = 0.3593',\n",
       "  'with Frog - NMI = 0.2907'],\n",
       " ['Comparaison of Loach : ',\n",
       "  'with Cow - NMI = 0.3333',\n",
       "  'with Carp - NMI = 0.5039',\n",
       "  'with Chicken - NMI = 0.2978',\n",
       "  'with Human - NMI = 0.2697',\n",
       "  'with Mouse - NMI = 0.3144',\n",
       "  'with Rat - NMI = 0.3381',\n",
       "  'with Seal - NMI = 0.3299',\n",
       "  'with Whale - NMI = 0.3291',\n",
       "  'with Frog - NMI = 0.4027'],\n",
       " ['Comparaison of Mouse : ',\n",
       "  'with Cow - NMI = 0.5218',\n",
       "  'with Carp - NMI = 0.3283',\n",
       "  'with Chicken - NMI = 0.3477',\n",
       "  'with Human - NMI = 0.3334',\n",
       "  'with Loach - NMI = 0.3144',\n",
       "  'with Rat - NMI = 0.6460',\n",
       "  'with Seal - NMI = 0.5322',\n",
       "  'with Whale - NMI = 0.5284',\n",
       "  'with Frog - NMI = 0.3878'],\n",
       " ['Comparaison of Rat : ',\n",
       "  'with Cow - NMI = 0.5464',\n",
       "  'with Carp - NMI = 0.3271',\n",
       "  'with Chicken - NMI = 0.3551',\n",
       "  'with Human - NMI = 0.3368',\n",
       "  'with Loach - NMI = 0.3381',\n",
       "  'with Mouse - NMI = 0.6460',\n",
       "  'with Seal - NMI = 0.5148',\n",
       "  'with Whale - NMI = 0.5336',\n",
       "  'with Frog - NMI = 0.3698'],\n",
       " ['Comparaison of Seal : ',\n",
       "  'with Cow - NMI = 0.5669',\n",
       "  'with Carp - NMI = 0.3291',\n",
       "  'with Chicken - NMI = 0.3389',\n",
       "  'with Human - NMI = 0.3207',\n",
       "  'with Loach - NMI = 0.3299',\n",
       "  'with Mouse - NMI = 0.5322',\n",
       "  'with Rat - NMI = 0.5148',\n",
       "  'with Whale - NMI = 0.5579',\n",
       "  'with Frog - NMI = 0.3658'],\n",
       " ['Comparaison of Whale : ',\n",
       "  'with Cow - NMI = 0.5949',\n",
       "  'with Carp - NMI = 0.3542',\n",
       "  'with Chicken - NMI = 0.3519',\n",
       "  'with Human - NMI = 0.3593',\n",
       "  'with Loach - NMI = 0.3291',\n",
       "  'with Mouse - NMI = 0.5284',\n",
       "  'with Rat - NMI = 0.5336',\n",
       "  'with Seal - NMI = 0.5579',\n",
       "  'with Frog - NMI = 0.3946'],\n",
       " ['Comparaison of Frog : ',\n",
       "  'with Cow - NMI = 0.3695',\n",
       "  'with Carp - NMI = 0.4243',\n",
       "  'with Chicken - NMI = 0.3574',\n",
       "  'with Human - NMI = 0.2907',\n",
       "  'with Loach - NMI = 0.4027',\n",
       "  'with Mouse - NMI = 0.3878',\n",
       "  'with Rat - NMI = 0.3698',\n",
       "  'with Seal - NMI = 0.3658',\n",
       "  'with Whale - NMI = 0.3946']]"
      ]
     },
     "execution_count": 19,
     "metadata": {},
     "output_type": "execute_result"
    }
   ],
   "source": [
    "# On redéfinit l'alphabet\n",
    "alphabetVect = {\"A\": 0, \"T\": 1, \"C\": 2, \"G\": 3, \"-\": 4}\n",
    "\n",
    "# On dresse toutes les comparaisons\n",
    "comparaison()"
   ]
  },
  {
   "cell_type": "code",
   "execution_count": 20,
   "metadata": {},
   "outputs": [
    {
     "data": {
      "text/plain": [
       "'Whale shares the highest NMI with the Human (NMI : 0.35930)'"
      ]
     },
     "execution_count": 20,
     "metadata": {},
     "output_type": "execute_result"
    }
   ],
   "source": [
    "# On cherche l'espèce la plus proche de l'être humain\n",
    "plusProcheVoisin(\"Human\")"
   ]
  }
 ],
 "metadata": {
  "interpreter": {
   "hash": "2c5af67b1d2fe4160132f6656f32baf7ccbf14a35ffa3cd1a680a6b747815161"
  },
  "kernelspec": {
   "display_name": "Python 3.8.8 64-bit ('base': conda)",
   "language": "python",
   "name": "python3"
  },
  "language_info": {
   "codemirror_mode": {
    "name": "ipython",
    "version": 3
   },
   "file_extension": ".py",
   "mimetype": "text/x-python",
   "name": "python",
   "nbconvert_exporter": "python",
   "pygments_lexer": "ipython3",
   "version": "3.8.8"
  },
  "orig_nbformat": 4
 },
 "nbformat": 4,
 "nbformat_minor": 2
}
