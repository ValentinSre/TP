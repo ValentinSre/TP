{
 "cells": [
  {
   "cell_type": "markdown",
   "id": "b609fd70",
   "metadata": {},
   "source": [
    "### TP1 : Source coding\n",
    "\n",
    "On crée nous même un alphabet A avec les probas associés, on génère un vecteur aléatoire avec les symboles de l'alphabet. On calcule l'entropie, puis l'entropie réelle à partir de l'apparition des symboles dans le vecteur. "
   ]
  },
  {
   "cell_type": "code",
   "execution_count": 1,
   "id": "40f1b9b0",
   "metadata": {},
   "outputs": [],
   "source": [
    "Alphabet = {'A': 0.36, 'B': 0.12,'C': 0.35,'D': 0.04,'E': 0.09,'F': 0.01,'G': 0.03}"
   ]
  },
  {
   "cell_type": "code",
   "execution_count": 2,
   "id": "72b8e29f",
   "metadata": {},
   "outputs": [],
   "source": [
    "import random\n",
    "\n",
    "def genVecteur(n, Alpha):\n",
    "    tab = []\n",
    "    for i in range(n) :\n",
    "        r = random.randint(0,999999999)\n",
    "        r = r%100\n",
    "        val = 0.0\n",
    "        for cle,valeur in Alpha.items():\n",
    "            val += valeur*100\n",
    "            if (r <= val) :\n",
    "                tab.append (cle)\n",
    "                break\n",
    "    return tab \n"
   ]
  },
  {
   "cell_type": "code",
   "execution_count": 3,
   "id": "4892cdf0",
   "metadata": {},
   "outputs": [],
   "source": [
    "import math as m\n",
    "\n",
    "def entropieReelle(X, Alpha):\n",
    "    # print(X)\n",
    "    dico = {}\n",
    "    ent = 0\n",
    "    for key in Alpha:\n",
    "        dico[key] = 0\n",
    "    for i in range (len(X)):\n",
    "        dico[X[i]]=dico[X[i]]+1\n",
    "    for cle, valeur in dico.items():\n",
    "        pReelle = valeur/len(X)\n",
    "        if pReelle != 0:\n",
    "            ent = ent + pReelle*m.log(pReelle, 2)\n",
    "    return -ent"
   ]
  },
  {
   "cell_type": "code",
   "execution_count": 4,
   "id": "08ac95b0",
   "metadata": {},
   "outputs": [
    {
     "data": {
      "text/plain": [
       "2.0674914043628876"
      ]
     },
     "execution_count": 4,
     "metadata": {},
     "output_type": "execute_result"
    }
   ],
   "source": [
    "entropieReelle(genVecteur(100, Alphabet), Alphabet)"
   ]
  },
  {
   "cell_type": "code",
   "execution_count": 5,
   "id": "47b079ca",
   "metadata": {},
   "outputs": [
    {
     "data": {
      "text/plain": [
       "0.9998586112670831"
      ]
     },
     "execution_count": 5,
     "metadata": {},
     "output_type": "execute_result"
    }
   ],
   "source": [
    "Alphabet2 = {'A': 0.5, 'B': 0.5 }\n",
    "\n",
    "entropieReelle(genVecteur(1000, Alphabet2), Alphabet2)"
   ]
  },
  {
   "cell_type": "code",
   "execution_count": 6,
   "id": "235ba701",
   "metadata": {},
   "outputs": [
    {
     "data": {
      "image/png": "[encoded data removed]",
      "text/plain": [
       "<Figure size 432x288 with 1 Axes>"
      ]
     },
     "metadata": {
      "needs_background": "light"
     },
     "output_type": "display_data"
    }
   ],
   "source": [
    "import matplotlib.pyplot as plt\n",
    "import numpy as np\n",
    "\n",
    "def affichage(n):\n",
    "    Lx = np.linspace(0.001,0.999,n)\n",
    "    LyR=[]\n",
    "    LyT=[]\n",
    "    for a in Lx:\n",
    "        Alphabet3 = {'0': a, '1': 1-a}\n",
    "        LyT.append(-(a*m.log(a,2) + (1-a)*m.log(1-a,2)))\n",
    "        LyR.append(entropieReelle(genVecteur(100, Alphabet3), Alphabet3))\n",
    "    plt.plot(Lx, LyR)\n",
    "    plt.plot(Lx, LyT)\n",
    "    plt.show()\n",
    "    \n",
    "affichage(1000)"
   ]
  },
  {
   "cell_type": "markdown",
   "metadata": {},
   "source": [
    "Question 4\n",
    "\n",
    "            (p00               p10)\n",
    "            (p01               p11)\n",
    "\n",
    "(p0     p1) (p0*p00+p1*p01     p0*p10+p1*p11)\n",
    "\n",
    "On a donc p0 = p0*p00+p1*p01 en régime stationnaire\n",
    "\n",
    "or p1 = 1-p0\n",
    "\n",
    "On obtient donc p0*p00 + (1-p0)*p01 = p0\n",
    "\n",
    "p0*(p00-1-p01)=-p01\n",
    "\n",
    "p0=p01/(1+p01-p00)\n",
    "p1=(1-p00)/(1+p01-p00)\n",
    "\n",
    "H(xk)   = Σ (xk|x(k-1)).p(x(k-1))\n",
    "        = H(xk|x(k-1)=0).p(x(k-1)=0) + H(xk|x(k-1)=1).p(x(k-1)=1)\n",
    "        = H(xk|x(k-1)=0).p0 + H(xk|x(k-1)=1).p1\n",
    "        = -[ p(xk=0|x(k-1)=0).log2(p(xk=0|x(k-1)=0)) + p(xk=1|x(k-1)=0).log2(p(xk=1|x(k-1)=0)) ].p0\n",
    "          -[ p(xk=0|x(k-1)=1).log2(p(xk=0|x(k-1)=1)) + p(xk=1|x(k-1)=1).log2(p(xk=1|x(k-1)=1)) ].p1\n",
    "        = -[ p00.log2(p00) + p01.log2(p01) ].p0 - [ p10.log2(p10) + p11.log2(p11) ].p1\n",
    "          "
   ]
  },
  {
   "cell_type": "code",
   "execution_count": 7,
   "metadata": {},
   "outputs": [],
   "source": [
    "from PIL import Image as Img\n",
    "import numpy as np\n",
    "\n",
    "def matriceTransition(picture):\n",
    "    im = Img.open(picture)\n",
    "    imgData = np.asarray(im)\n",
    "    nN = 0\n",
    "    bN = 0\n",
    "    for i in range(len(imgData)):\n",
    "        for j in range(len(imgData[0])):\n",
    "            if imgData[i][j] == 0 and imgData[(i+1)%len(imgData)][j] == 0: # si on a un pixel noir et que le pixel \"proche\" associé est noir\n",
    "                nN += 1 # on augmente le compteur de pixel noir associé à un pixel noir\n",
    "            if imgData[i][j] == 1 and imgData[(i+1)%len(imgData)][j] == 0: # si on a un pixel blanc et que le pixel \"proche\" associé est noir\n",
    "                bN += 1 # on augmente le compteur de pixel blanc associé à un pixel noir\n",
    "    nbPixel = len(imgData)*len(imgData[0]) # on calcule le nombre de pixels total\n",
    "    P = [[nN/nbPixel, 1-(nN/nbPixel)], [bN/nbPixel, 1-(bN/nbPixel)]]\n",
    "    return P"
   ]
  },
  {
   "cell_type": "code",
   "execution_count": 8,
   "metadata": {},
   "outputs": [
    {
     "name": "stdout",
     "output_type": "stream",
     "text": [
      "0.07182266387508636 0.0843645648616915\n"
     ]
    }
   ],
   "source": [
    "[[p00, p10], [p01, p11]] = matriceTransition(r\"./image.png\")\n",
    "\n",
    "import math as m\n",
    "\n",
    "p0=p01/(1+p01-p00)\n",
    "p1=(1-p00)/(1+p01-p00)\n",
    "\n",
    "# Entropie H(xk)\n",
    "H1 = -(p00*m.log(p00,2)+p01*m.log(p01,2))*p0 - (p10*m.log(p10,2)+p11*m.log(p11,2))*p1\n",
    "\n",
    "# Entropie de la source sans mémoire ?\n",
    "H2 = -p0*m.log(p0,2) - p1*m.log(p1,2) \n",
    "\n",
    "# Taille moyenne : 1bit/pixel car un bit est soit noir, soit blanc, \n",
    "# il faut donc un seul bit pour coder un pixel\n",
    "\n",
    "print (H1, H2)"
   ]
  },
  {
   "cell_type": "code",
   "execution_count": 9,
   "metadata": {},
   "outputs": [],
   "source": [
    "#Question 6 ???\n"
   ]
  },
  {
   "cell_type": "code",
   "execution_count": null,
   "metadata": {},
   "outputs": [],
   "source": []
  }
 ],
 "metadata": {
  "interpreter": {
   "hash": "2c5af67b1d2fe4160132f6656f32baf7ccbf14a35ffa3cd1a680a6b747815161"
  },
  "kernelspec": {
   "display_name": "Python 3.8.8 64-bit ('base': conda)",
   "name": "python3"
  },
  "language_info": {
   "codemirror_mode": {
    "name": "ipython",
    "version": 3
   },
   "file_extension": ".py",
   "mimetype": "text/x-python",
   "name": "python",
   "nbconvert_exporter": "python",
   "pygments_lexer": "ipython3",
   "version": "3.8.8"
  }
 },
 "nbformat": 4,
 "nbformat_minor": 5
}
