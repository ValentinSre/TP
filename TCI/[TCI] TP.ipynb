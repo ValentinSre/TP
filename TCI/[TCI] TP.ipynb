{
 "cells": [
  {
   "cell_type": "markdown",
   "id": "b609fd70",
   "metadata": {},
   "source": [
    "### TP1 : Source coding\n",
    "\n",
    "On crée nous même un alphabet A avec les probas associés, on génère un vecteur aléatoire avec les symboles de l'alphabet. On calcule l'entropie, puis l'entropie réelle à partir de l'apparition des symboles dans le vecteur. "
   ]
  },
  {
   "cell_type": "code",
   "execution_count": 68,
   "id": "40f1b9b0",
   "metadata": {},
   "outputs": [],
   "source": [
    "Alphabet = {'A': 0.36, 'B': 0.12,'C': 0.35,'D': 0.04,'E': 0.09,'F': 0.01,'G': 0.03}"
   ]
  },
  {
   "cell_type": "code",
   "execution_count": 69,
   "id": "72b8e29f",
   "metadata": {},
   "outputs": [],
   "source": [
    "import random\n",
    "\n",
    "def genVecteur(n, Alpha):\n",
    "    tab = []\n",
    "    for i in range(n) :\n",
    "        r = random.randint(0,999999999)\n",
    "        r = r%100\n",
    "        val = 0.0\n",
    "        for cle,valeur in Alpha.items():\n",
    "            val += valeur*100\n",
    "            if (r <= val) :\n",
    "                tab.append (cle)\n",
    "                break\n",
    "    return tab \n"
   ]
  },
  {
   "cell_type": "code",
   "execution_count": 70,
   "id": "4892cdf0",
   "metadata": {},
   "outputs": [],
   "source": [
    "import math as m\n",
    "\n",
    "def entropieReelle(X, Alpha):\n",
    "    # print(X)\n",
    "    dico = {}\n",
    "    ent = 0\n",
    "    for key in Alpha:\n",
    "        dico[key] = 0\n",
    "    for i in range (len(X)):\n",
    "        dico[X[i]]=dico[X[i]]+1\n",
    "    for cle, valeur in dico.items():\n",
    "        pReelle = valeur/len(X)\n",
    "        if pReelle != 0:\n",
    "            ent = ent + pReelle*m.log(pReelle, 2)\n",
    "    return -ent"
   ]
  },
  {
   "cell_type": "code",
   "execution_count": 71,
   "id": "08ac95b0",
   "metadata": {},
   "outputs": [
    {
     "data": {
      "text/plain": [
       "2.050726359038756"
      ]
     },
     "execution_count": 71,
     "metadata": {},
     "output_type": "execute_result"
    }
   ],
   "source": [
    "entropieReelle(genVecteur(100, Alphabet), Alphabet)"
   ]
  },
  {
   "cell_type": "code",
   "execution_count": 72,
   "id": "47b079ca",
   "metadata": {},
   "outputs": [
    {
     "data": {
      "text/plain": [
       "0.9999884584088952"
      ]
     },
     "execution_count": 72,
     "metadata": {},
     "output_type": "execute_result"
    }
   ],
   "source": [
    "Alphabet2 = {'A': 0.5, 'B': 0.5 }\n",
    "\n",
    "entropieReelle(genVecteur(1000, Alphabet2), Alphabet2)"
   ]
  },
  {
   "cell_type": "code",
   "execution_count": 73,
   "id": "235ba701",
   "metadata": {},
   "outputs": [
    {
     "data": {
      "image/png": "[encoded data removed]",
      "text/plain": [
       "<Figure size 432x288 with 1 Axes>"
      ]
     },
     "metadata": {
      "needs_background": "light"
     },
     "output_type": "display_data"
    }
   ],
   "source": [
    "import matplotlib.pyplot as plt\n",
    "import numpy as np\n",
    "\n",
    "def affichage(n):\n",
    "    Lx = np.linspace(0.001,0.999,n)\n",
    "    LyR=[]\n",
    "    LyT=[]\n",
    "    for a in Lx:\n",
    "        Alphabet3 = {'0': a, '1': 1-a}\n",
    "        LyT.append(-(a*m.log(a,2) + (1-a)*m.log(1-a,2)))\n",
    "        LyR.append(entropieReelle(genVecteur(100, Alphabet3), Alphabet3))\n",
    "    plt.plot(Lx, LyR)\n",
    "    plt.plot(Lx, LyT)\n",
    "    plt.show()\n",
    "    \n",
    "affichage(1000)"
   ]
  },
  {
   "cell_type": "markdown",
   "metadata": {},
   "source": [
    "Question 4\n",
    "\n",
    "            (p00               p10)\n",
    "            (p01               p11)\n",
    "\n",
    "(p0     p1) (p0*p00+p1*p01     p0*p10+p1*p11)\n",
    "\n",
    "On a donc p0 = p0*p00+p1*p01 en régime stationnaire\n",
    "\n",
    "or p1 = 1-p0\n",
    "\n",
    "On obtient donc p0*p00 + (1-p0)*p01 = p0\n",
    "\n",
    "p0*(p00-1-p01)=-p01\n",
    "\n",
    "p0=p01/(1+p01-p00)\n",
    "p1=(1-p00)/(1+p01-p00)\n",
    "\n",
    "H(xk)   = Σ (xk|x(k-1)).p(x(k-1))\n",
    "        = H(xk|x(k-1)=0).p(x(k-1)=0) + H(xk|x(k-1)=1).p(x(k-1)=1)\n",
    "        = H(xk|x(k-1)=0).p0 + H(xk|x(k-1)=1).p1\n",
    "        = -[ p(xk=0|x(k-1)=0).log2(p(xk=0|x(k-1)=0)) + p(xk=1|x(k-1)=0).log2(p(xk=1|x(k-1)=0)) ].p0\n",
    "          -[ p(xk=0|x(k-1)=1).log2(p(xk=0|x(k-1)=1)) + p(xk=1|x(k-1)=1).log2(p(xk=1|x(k-1)=1)) ].p1\n",
    "        = -[ p00.log2(p00) + p01.log2(p01) ].p0 - [ p10.log2(p10) + p11.log2(p11) ].p1\n",
    "          "
   ]
  },
  {
   "cell_type": "markdown",
   "metadata": {},
   "source": []
  },
  {
   "cell_type": "code",
   "execution_count": 2,
   "metadata": {},
   "outputs": [
    {
     "name": "stdout",
     "output_type": "stream",
     "text": [
      "8000222 414779\n"
     ]
    }
   ],
   "source": [
    "from PIL.Image import *\n",
    "\n",
    "im = open(\"image.png\")\n",
    "px = im.load()\n",
    "blanc = 0\n",
    "noir = 1\n",
    "(larg, longueur) = im.size\n",
    "for i in range (larg):\n",
    "    for j in range (longueur):\n",
    "        if px[i, j]==1:\n",
    "            blanc+=1\n",
    "        else: \n",
    "            noir+=1\n",
    "print (blanc, noir)"
   ]
  },
  {
   "cell_type": "code",
   "execution_count": 8,
   "metadata": {},
   "outputs": [
    {
     "name": "stdout",
     "output_type": "stream",
     "text": [
      "[[0.03905216874628639, 0.9609478312537136], [0.010238146167557933, 0.9897618538324421]]\n"
     ]
    }
   ],
   "source": [
    "from PIL import Image as Im\n",
    "import numpy as np\n",
    "\n",
    "def transition(fichier):\n",
    "    img = Im.open(fichier)\n",
    "    img_data = np.asarray(img)\n",
    "    nbTrans = 0\n",
    "    it = 0\n",
    "    nzu = 0\n",
    "    for i in range(len(img_data)):\n",
    "        for j in range(len(img_data[0])):\n",
    "            if img_data[i][j] == 0 and img_data[(i+1)%len(img_data)][j] == 0:#si on a un pixel noir et que le pixel \"proche\" associé est noir\n",
    "                it += 1 #on augmente le compteur de pixel noir associé à un pixel noir\n",
    "            if img_data[i][j] == 1 and img_data[(i+1)%len(img_data)][j] == 0:#si on a un pixel blanc et que le pixel \"proche\" associé est noir\n",
    "                nzu += 1#on augmente le compteur de pixel blanc associé à un pixel noir\n",
    "    nbTrans = len(img_data)*len(img_data[0]) #on augmente le nombre de pixel vu\n",
    "    Pi = [[it/nbTrans, 1-(it/nbTrans)], [nzu/nbTrans, 1-(nzu/nbTrans)]]\n",
    "    return Pi\n",
    "\n",
    "path = r\"./image.png\"\n",
    "\n",
    "print(transition(path))"
   ]
  }
 ],
 "metadata": {
  "interpreter": {
   "hash": "ff7518eb4ecb319dd636c6acf470978f4c60bac38f2206980b7473d3adad10ce"
  },
  "kernelspec": {
   "display_name": "Python 3.8.10 64-bit (windows store)",
   "name": "python3"
  },
  "language_info": {
   "codemirror_mode": {
    "name": "ipython",
    "version": 3
   },
   "file_extension": ".py",
   "mimetype": "text/x-python",
   "name": "python",
   "nbconvert_exporter": "python",
   "pygments_lexer": "ipython3",
   "version": "3.8.10"
  }
 },
 "nbformat": 4,
 "nbformat_minor": 5
}
