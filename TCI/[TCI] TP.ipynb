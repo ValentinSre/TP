{
 "cells": [
  {
   "cell_type": "markdown",
   "id": "b609fd70",
   "metadata": {},
   "source": [
    "### TP1 : Source coding\n",
    "\n",
    "On crée nous même un alphabet A avec les probas associés, on génère un vecteur aléatoire avec les symboles de l'alphabet. On calcule l'entropie, puis l'entropie réelle à partir de l'apparition des symboles dans le vecteur. "
   ]
  },
  {
   "cell_type": "code",
   "execution_count": 2,
   "id": "40f1b9b0",
   "metadata": {},
   "outputs": [],
   "source": [
    "Alphabet = {'A': 0.36, 'B': 0.12,'C': 0.35,'D': 0.04,'E': 0.09,'F': 0.01,'G': 0.03}"
   ]
  },
  {
   "cell_type": "code",
   "execution_count": 3,
   "id": "72b8e29f",
   "metadata": {},
   "outputs": [],
   "source": [
    "import random\n",
    "\n",
    "def genVecteur(n, Alpha):\n",
    "    tab = []\n",
    "    for i in range(n) :\n",
    "        r = random.randint(0,999999999)\n",
    "        r = r%100\n",
    "        val = 0.0\n",
    "        for cle,valeur in Alpha.items():\n",
    "            val += valeur*100\n",
    "            if (r <= val) :\n",
    "                tab.append (cle)\n",
    "                break\n",
    "    return tab \n"
   ]
  },
  {
   "cell_type": "code",
   "execution_count": 4,
   "id": "4892cdf0",
   "metadata": {},
   "outputs": [],
   "source": [
    "import math as m\n",
    "\n",
    "def entropieReelle(X, Alpha):\n",
    "    # print(X)\n",
    "    dico = {}\n",
    "    ent = 0\n",
    "    for key in Alpha:\n",
    "        dico[key] = 0\n",
    "    for i in range (len(X)):\n",
    "        dico[X[i]]=dico[X[i]]+1\n",
    "    for cle, valeur in dico.items():\n",
    "        pReelle = valeur/len(X)\n",
    "        if pReelle != 0:\n",
    "            ent = ent + pReelle*m.log(pReelle, 2)\n",
    "    return -ent"
   ]
  },
  {
   "cell_type": "code",
   "execution_count": 5,
   "id": "08ac95b0",
   "metadata": {},
   "outputs": [
    {
     "data": {
      "text/plain": [
       "2.2139800141449726"
      ]
     },
     "execution_count": 5,
     "metadata": {},
     "output_type": "execute_result"
    }
   ],
   "source": [
    "entropieReelle(genVecteur(100, Alphabet), Alphabet)"
   ]
  },
  {
   "cell_type": "code",
   "execution_count": 6,
   "id": "47b079ca",
   "metadata": {},
   "outputs": [
    {
     "data": {
      "text/plain": [
       "0.999953833266239"
      ]
     },
     "execution_count": 6,
     "metadata": {},
     "output_type": "execute_result"
    }
   ],
   "source": [
    "Alphabet2 = {'A': 0.5, 'B': 0.5 }\n",
    "\n",
    "entropieReelle(genVecteur(1000, Alphabet2), Alphabet2)"
   ]
  },
  {
   "cell_type": "code",
   "execution_count": 7,
   "id": "235ba701",
   "metadata": {},
   "outputs": [
    {
     "data": {
      "image/png": "[encoded data removed]",
      "text/plain": [
       "<Figure size 432x288 with 1 Axes>"
      ]
     },
     "metadata": {
      "needs_background": "light"
     },
     "output_type": "display_data"
    }
   ],
   "source": [
    "import matplotlib.pyplot as plt\n",
    "import numpy as np\n",
    "\n",
    "def affichage(n):\n",
    "    Lx = np.linspace(0.001,0.999,n)\n",
    "    LyR=[]\n",
    "    LyT=[]\n",
    "    for a in Lx:\n",
    "        Alphabet3 = {'0': a, '1': 1-a}\n",
    "        LyT.append(-(a*m.log(a,2) + (1-a)*m.log(1-a,2)))\n",
    "        LyR.append(entropieReelle(genVecteur(100, Alphabet3), Alphabet3))\n",
    "    plt.plot(Lx, LyR)\n",
    "    plt.plot(Lx, LyT)\n",
    "    plt.show()\n",
    "    \n",
    "affichage(1000)"
   ]
  },
  {
   "cell_type": "markdown",
   "metadata": {},
   "source": [
    "Question 4\n",
    "\n",
    "            (p00               p10)\n",
    "            (p01               p11)\n",
    "\n",
    "(p0     p1) (p0*p00+p1*p01     p0*p10+p1*p11)\n",
    "\n",
    "On a donc p0 = p0*p00+p1*p01 en régime stationnaire\n",
    "\n",
    "or p1 = 1-p0\n",
    "\n",
    "On obtient donc p0*p00 + (1-p0)*p01 = p0\n",
    "\n",
    "p0*(p00-1-p01)=-p01\n",
    "\n",
    "p0=p01/(1+p01-p00)\n",
    "p1=(1-p00)/(1+p01-p00)\n",
    "\n",
    "H(xk)   = Σ (xk|x(k-1)).p(x(k-1))\n",
    "        = H(xk|x(k-1)=0).p(x(k-1)=0) + H(xk|x(k-1)=1).p(x(k-1)=1)\n",
    "        = H(xk|x(k-1)=0).p0 + H(xk|x(k-1)=1).p1\n",
    "        = -[ p(xk=0|x(k-1)=0).log2(p(xk=0|x(k-1)=0)) + p(xk=1|x(k-1)=0).log2(p(xk=1|x(k-1)=0)) ].p0\n",
    "          -[ p(xk=0|x(k-1)=1).log2(p(xk=0|x(k-1)=1)) + p(xk=1|x(k-1)=1).log2(p(xk=1|x(k-1)=1)) ].p1\n",
    "        = -[ p00.log2(p00) + p01.log2(p01) ].p0 - [ p10.log2(p10) + p11.log2(p11) ].p1\n",
    "          "
   ]
  },
  {
   "cell_type": "code",
   "execution_count": 8,
   "metadata": {},
   "outputs": [],
   "source": [
    "from PIL import Image as Img\n",
    "import numpy as np\n",
    "\n",
    "def matriceTransition(picture):\n",
    "    im = Img.open(picture)\n",
    "    imgData = np.asarray(im)\n",
    "    nN = 0\n",
    "    bN = 0\n",
    "    for i in range(len(imgData)):\n",
    "        for j in range(len(imgData[0])):\n",
    "            if imgData[i][j] == 0 and imgData[(i+1)%len(imgData)][j] == 0: # si on a un pixel noir et que le pixel \"proche\" associé est noir\n",
    "                nN += 1 # on augmente le compteur de pixel noir associé à un pixel noir\n",
    "            if imgData[i][j] == 1 and imgData[(i+1)%len(imgData)][j] == 0: # si on a un pixel blanc et que le pixel \"proche\" associé est noir\n",
    "                bN += 1 # on augmente le compteur de pixel blanc associé à un pixel noir\n",
    "    nbPixel = len(imgData)*len(imgData[0]) # on calcule le nombre de pixels total\n",
    "    P = [[nN/nbPixel, 1-(nN/nbPixel)], [bN/nbPixel, 1-(bN/nbPixel)]]\n",
    "    return P"
   ]
  },
  {
   "cell_type": "code",
   "execution_count": 9,
   "metadata": {},
   "outputs": [
    {
     "name": "stdout",
     "output_type": "stream",
     "text": [
      "0.07182266387508636 0.0843645648616915\n"
     ]
    }
   ],
   "source": [
    "[[p00, p10], [p01, p11]] = matriceTransition(r\"./image.png\")\n",
    "\n",
    "import math as m\n",
    "\n",
    "p0=p01/(1+p01-p00)\n",
    "p1=(1-p00)/(1+p01-p00)\n",
    "\n",
    "# Entropie H(xk)\n",
    "H1 = -(p00*m.log(p00,2)+p01*m.log(p01,2))*p0 - (p10*m.log(p10,2)+p11*m.log(p11,2))*p1\n",
    "\n",
    "# Entropie de la source sans mémoire ?\n",
    "H2 = -p0*m.log(p0,2) - p1*m.log(p1,2)\n",
    "\n",
    "# Taille moyenne ????\n",
    "\n",
    "\n",
    "print (H1, H2)"
   ]
  },
  {
   "cell_type": "code",
   "execution_count": 10,
   "metadata": {},
   "outputs": [],
   "source": [
    "from PIL import Image as Img\n",
    "import numpy as np\n",
    "\n",
    "def matriceTransition2(picture):\n",
    "    im = Img.open(picture)\n",
    "    imgData = np.asarray(im)\n",
    "    res = []\n",
    "    for i in range(len(imgData)):\n",
    "        colorActual = \"B\"\n",
    "        string_row = \"\"\n",
    "        nombrePixel = 0\n",
    "        for j in range(len(imgData[0])):\n",
    "            if imgData[i][j] == 0 :#si pixel noir\n",
    "                if colorActual == \"N\" :#si série de pixels noirs\n",
    "                    nombrePixel += 1\n",
    "                else :#si série de pixels blancs\n",
    "                    string = colorActual + str(nombrePixel)\n",
    "                    string_row += string\n",
    "                    nombrePixel = 1\n",
    "                    colorActual = \"N\"\n",
    "            else :#si pixel blanc\n",
    "                if colorActual == \"B\" :#si série de pixels blancs\n",
    "                    nombrePixel += 1\n",
    "                else :#si série de pixels noirs\n",
    "                    string = colorActual + str(nombrePixel)\n",
    "                    string_row += string\n",
    "                    nombrePixel = 1\n",
    "                    colorActual = \"B\"\n",
    "        string = colorActual + str(nombrePixel)\n",
    "        string_row += string\n",
    "        res.append(string_row)\n",
    "        nombrePixel = 0\n",
    "        colorActual = \"B\"\n",
    "    return res\n",
    "\n",
    "\n",
    "#print(matriceTransition2(r\"./image.png\"))"
   ]
  },
  {
   "cell_type": "code",
   "execution_count": 12,
   "metadata": {},
   "outputs": [
    {
     "data": {
      "text/plain": [
       "235.33966064453125"
      ]
     },
     "execution_count": 12,
     "metadata": {},
     "output_type": "execute_result"
    }
   ],
   "source": [
    "import numpy as np \n",
    "import matplotlib.pyplot as plt \n",
    "import cv2 \n",
    "  \n",
    "def kMeansAlgo(k):\n",
    "    image = cv2.imread('ex9Data/bird_small.tiff') \n",
    "    image = cv2.cvtColor(image, cv2.COLOR_BGR2RGB) \n",
    "    criteria = (cv2.TERM_CRITERIA_EPS + cv2.TERM_CRITERIA_MAX_ITER, 100, 0.85) \n",
    "    pixel_vals = image.reshape((-1,3)) \n",
    "    pixel_vals = np.float32(pixel_vals)\n",
    "    retval, labels, centers = cv2.kmeans(pixel_vals, k, None, criteria, 10, cv2.KMEANS_RANDOM_CENTERS) \n",
    "    centers = np.uint8(centers) \n",
    "    segmented_data = centers[labels.flatten()] \n",
    "    segmented_image = segmented_data.reshape((image.shape)) \n",
    "    return (image, segmented_image)\n",
    "\n",
    "def dessinerImg(img):\n",
    "    plt.imshow(img)\n",
    "\n",
    "def D(k):\n",
    "    (img, imgseg) = kMeansAlgo(k)\n",
    "    squared_diff = (img - imgseg) ** 2\n",
    "    summed = np.sum(squared_diff)\n",
    "    num_pix = img.shape[0] * img.shape[1] #img1 and 2 should have same shape\n",
    "    err = summed / num_pix\n",
    "    return err\n",
    "\n",
    "D(8)"
   ]
  },
  {
   "cell_type": "code",
   "execution_count": null,
   "metadata": {},
   "outputs": [],
   "source": [
    "def courbeDR():\n",
    "    Lx = []\n",
    "    Ly = []\n",
    "    for k in range (2, 21):\n",
    "        Lx.append(R(k))\n",
    "        Ly.append(D(k))\n",
    "    plt.plot(Lx, Ly)\n",
    "    plt.show()"
   ]
  },
  {
   "cell_type": "code",
   "execution_count": 11,
   "metadata": {},
   "outputs": [
    {
     "name": "stdout",
     "output_type": "stream",
     "text": [
      "['[202 173 131]-96/[52 47 41]-32/', '[202 173 131]-97/[52 47 41]-31/', '[202 173 131]-98/[52 47 41]-30/', '[202 173 131]-98/[52 47 41]-30/', '[202 173 131]-99/[52 47 41]-29/', '[202 173 131]-99/[52 47 41]-2/[202 173 131]-1/[52 47 41]-26/', '[202 173 131]-100/[52 47 41]-1/[202 173 131]-1/[52 47 41]-26/', '[202 173 131]-60/[52 47 41]-1/[202 173 131]-41/[52 47 41]-26/', '[202 173 131]-56/[52 47 41]-2/[202 173 131]-1/[52 47 41]-3/[202 173 131]-3/[52 47 41]-3/[202 173 131]-6/[52 47 41]-6/[202 173 131]-22/[52 47 41]-26/', '[202 173 131]-56/[52 47 41]-2/[202 173 131]-2/[52 47 41]-3/[202 173 131]-2/[52 47 41]-3/[202 173 131]-4/[52 47 41]-9/[202 173 131]-21/[52 47 41]-26/', '[202 173 131]-56/[52 47 41]-8/[202 173 131]-1/[52 47 41]-3/[202 173 131]-3/[52 47 41]-5/[202 173 131]-26/[52 47 41]-26/', '[202 173 131]-53/[52 47 41]-3/[202 173 131]-1/[52 47 41]-2/[202 173 131]-1/[52 47 41]-4/[202 173 131]-2/[52 47 41]-2/[202 173 131]-2/[52 47 41]-5/[202 173 131]-28/[52 47 41]-25/', '[202 173 131]-52/[52 47 41]-4/[202 173 131]-3/[52 47 41]-5/[202 173 131]-2/[52 47 41]-1/[202 173 131]-2/[52 47 41]-4/[202 173 131]-31/[52 47 41]-24/', '[202 173 131]-53/[52 47 41]-4/[202 173 131]-1/[52 47 41]-7/[202 173 131]-3/[52 47 41]-4/[202 173 131]-33/[52 47 41]-23/', '[202 173 131]-51/[52 47 41]-1/[202 173 131]-2/[52 47 41]-10/[202 173 131]-2/[52 47 41]-4/[202 173 131]-35/[52 47 41]-23/', '[202 173 131]-48/[52 47 41]-5/[202 173 131]-2/[52 47 41]-15/[202 173 131]-35/[52 47 41]-23/', '[202 173 131]-48/[52 47 41]-5/[202 173 131]-2/[52 47 41]-14/[202 173 131]-37/[52 47 41]-22/', '[202 173 131]-49/[52 47 41]-19/[202 173 131]-38/[52 47 41]-22/', '[202 173 131]-49/[52 47 41]-13/[202 173 131]-2/[52 47 41]-3/[202 173 131]-16/[52 47 41]-1/[202 173 131]-23/[52 47 41]-21/', '[202 173 131]-43/[52 47 41]-1/[202 173 131]-4/[52 47 41]-1/[202 173 131]-1/[52 47 41]-16/[202 173 131]-7/[52 47 41]-1/[202 173 131]-4/[52 47 41]-4/[202 173 131]-3/[52 47 41]-1/[202 173 131]-21/[52 47 41]-21/', '[202 173 131]-43/[52 47 41]-1/[202 173 131]-4/[52 47 41]-18/[202 173 131]-1/[52 47 41]-3/[202 173 131]-1/[52 47 41]-2/[202 173 131]-3/[52 47 41]-11/[202 173 131]-21/[52 47 41]-20/', '[202 173 131]-40/[52 47 41]-1/[202 173 131]-1/[52 47 41]-1/[202 173 131]-5/[52 47 41]-17/[202 173 131]-1/[52 47 41]-2/[202 173 131]-2/[52 47 41]-7/[202 173 131]-5/[52 47 41]-1/[202 173 131]-25/[52 47 41]-20/', '[202 173 131]-41/[52 47 41]-2/[202 173 131]-5/[52 47 41]-16/[202 173 131]-1/[52 47 41]-2/[202 173 131]-18/[52 47 41]-1/[202 173 131]-23/[52 47 41]-19/', '[202 173 131]-41/[52 47 41]-3/[202 173 131]-5/[52 47 41]-13/[202 173 131]-1/[52 47 41]-3/[202 173 131]-43/[52 47 41]-19/', '[202 173 131]-42/[52 47 41]-3/[202 173 131]-4/[52 47 41]-15/[202 173 131]-45/[52 47 41]-19/', '[202 173 131]-42/[52 47 41]-4/[202 173 131]-3/[52 47 41]-13/[202 173 131]-49/[52 47 41]-17/', '[202 173 131]-42/[52 47 41]-3/[202 173 131]-3/[52 47 41]-10/[202 173 131]-1/[52 47 41]-1/[202 173 131]-16/[52 47 41]-5/[202 173 131]-30/[52 47 41]-17/', '[202 173 131]-42/[52 47 41]-4/[202 173 131]-2/[52 47 41]-10/[202 173 131]-13/[52 47 41]-7/[202 173 131]-33/[52 47 41]-17/', '[202 173 131]-42/[52 47 41]-4/[202 173 131]-2/[52 47 41]-9/[202 173 131]-12/[52 47 41]-3/[202 173 131]-39/[52 47 41]-17/', '[202 173 131]-41/[52 47 41]-1/[202 173 131]-1/[52 47 41]-3/[202 173 131]-1/[52 47 41]-9/[202 173 131]-11/[52 47 41]-3/[202 173 131]-41/[52 47 41]-17/', '[202 173 131]-40/[52 47 41]-1/[202 173 131]-2/[52 47 41]-12/[202 173 131]-11/[52 47 41]-2/[202 173 131]-44/[52 47 41]-1/[202 173 131]-1/[52 47 41]-14/', '[202 173 131]-5/[52 47 41]-4/[202 173 131]-30/[52 47 41]-2/[202 173 131]-2/[52 47 41]-11/[202 173 131]-10/[52 47 41]-2/[202 173 131]-30/[52 47 41]-1/[202 173 131]-17/[52 47 41]-14/', '[202 173 131]-3/[52 47 41]-5/[202 173 131]-31/[52 47 41]-2/[202 173 131]-2/[52 47 41]-10/[202 173 131]-10/[52 47 41]-2/[202 173 131]-30/[52 47 41]-1/[202 173 131]-18/[52 47 41]-14/', '[202 173 131]-1/[52 47 41]-4/[202 173 131]-34/[52 47 41]-3/[202 173 131]-1/[52 47 41]-9/[202 173 131]-9/[52 47 41]-3/[202 173 131]-30/[52 47 41]-1/[202 173 131]-20/[52 47 41]-13/', '[52 47 41]-3/[202 173 131]-36/[52 47 41]-2/[202 173 131]-2/[52 47 41]-8/[202 173 131]-9/[52 47 41]-3/[202 173 131]-30/[52 47 41]-4/[202 173 131]-14/[52 47 41]-1/[202 173 131]-3/[52 47 41]-13/', '[52 47 41]-1/[202 173 131]-41/[52 47 41]-9/[202 173 131]-2/[52 47 41]-1/[202 173 131]-4/[52 47 41]-3/[202 173 131]-32/[52 47 41]-3/[202 173 131]-15/[52 47 41]-1/[202 173 131]-3/[52 47 41]-13/', '[202 173 131]-40/[52 47 41]-1/[202 173 131]-1/[52 47 41]-9/[202 173 131]-1/[52 47 41]-1/[202 173 131]-4/[52 47 41]-3/[202 173 131]-32/[52 47 41]-4/[202 173 131]-14/[52 47 41]-1/[202 173 131]-4/[52 47 41]-13/', '[202 173 131]-39/[52 47 41]-2/[202 173 131]-1/[52 47 41]-8/[202 173 131]-1/[52 47 41]-1/[202 173 131]-4/[52 47 41]-2/[202 173 131]-34/[52 47 41]-2/[202 173 131]-4/[52 47 41]-3/[202 173 131]-9/[52 47 41]-1/[202 173 131]-4/[52 47 41]-13/', '[202 173 131]-39/[52 47 41]-2/[202 173 131]-1/[52 47 41]-10/[202 173 131]-3/[52 47 41]-2/[202 173 131]-35/[52 47 41]-2/[202 173 131]-3/[52 47 41]-5/[202 173 131]-7/[52 47 41]-1/[202 173 131]-6/[52 47 41]-12/', '[52 47 41]-4/[202 173 131]-34/[52 47 41]-2/[202 173 131]-1/[52 47 41]-10/[202 173 131]-3/[52 47 41]-3/[202 173 131]-35/[52 47 41]-3/[202 173 131]-2/[52 47 41]-6/[202 173 131]-2/[52 47 41]-1/[202 173 131]-2/[52 47 41]-1/[202 173 131]-7/[52 47 41]-12/', '[52 47 41]-4/[202 173 131]-34/[52 47 41]-12/[202 173 131]-3/[52 47 41]-2/[202 173 131]-38/[52 47 41]-2/[202 173 131]-2/[52 47 41]-5/[202 173 131]-3/[52 47 41]-1/[202 173 131]-2/[52 47 41]-1/[202 173 131]-9/[52 47 41]-10/', '[52 47 41]-3/[202 173 131]-34/[52 47 41]-12/[202 173 131]-2/[52 47 41]-3/[202 173 131]-39/[52 47 41]-2/[202 173 131]-2/[52 47 41]-4/[202 173 131]-4/[52 47 41]-1/[202 173 131]-2/[52 47 41]-1/[202 173 131]-8/[52 47 41]-11/', '[52 47 41]-2/[202 173 131]-35/[52 47 41]-11/[202 173 131]-2/[52 47 41]-3/[202 173 131]-41/[52 47 41]-2/[202 173 131]-8/[52 47 41]-1/[202 173 131]-2/[52 47 41]-2/[202 173 131]-8/[52 47 41]-11/', '[52 47 41]-1/[202 173 131]-35/[52 47 41]-11/[202 173 131]-3/[52 47 41]-2/[202 173 131]-42/[52 47 41]-4/[202 173 131]-4/[52 47 41]-3/[202 173 131]-1/[52 47 41]-2/[202 173 131]-9/[52 47 41]-1/[202 173 131]-1/[52 47 41]-9/', '[202 173 131]-36/[52 47 41]-4/[202 173 131]-1/[52 47 41]-6/[202 173 131]-1/[52 47 41]-3/[202 173 131]-44/[52 47 41]-1/[202 173 131]-2/[52 47 41]-5/[202 173 131]-2/[52 47 41]-3/[202 173 131]-8/[52 47 41]-2/[202 173 131]-1/[52 47 41]-9/', '[52 47 41]-10/[202 173 131]-26/[52 47 41]-11/[202 173 131]-1/[52 47 41]-2/[202 173 131]-46/[52 47 41]-1/[202 173 131]-7/[52 47 41]-3/[202 173 131]-9/[52 47 41]-2/[202 173 131]-2/[52 47 41]-8/', '[52 47 41]-10/[202 173 131]-26/[52 47 41]-13/[202 173 131]-48/[52 47 41]-2/[202 173 131]-3/[52 47 41]-5/[202 173 131]-10/[52 47 41]-1/[202 173 131]-2/[52 47 41]-8/', '[52 47 41]-8/[202 173 131]-28/[52 47 41]-12/[202 173 131]-50/[52 47 41]-8/[202 173 131]-14/[52 47 41]-8/', '[52 47 41]-8/[202 173 131]-28/[52 47 41]-12/[202 173 131]-51/[52 47 41]-6/[202 173 131]-15/[52 47 41]-8/', '[52 47 41]-9/[202 173 131]-26/[52 47 41]-12/[202 173 131]-52/[52 47 41]-5/[202 173 131]-17/[52 47 41]-7/', '[52 47 41]-9/[202 173 131]-26/[52 47 41]-11/[202 173 131]-55/[52 47 41]-5/[202 173 131]-15/[52 47 41]-7/', '[52 47 41]-8/[202 173 131]-27/[52 47 41]-11/[202 173 131]-59/[52 47 41]-2/[202 173 131]-14/[52 47 41]-7/', '[52 47 41]-7/[202 173 131]-16/[52 47 41]-3/[202 173 131]-7/[52 47 41]-1/[202 173 131]-1/[52 47 41]-12/[202 173 131]-74/[52 47 41]-7/', '[52 47 41]-14/[202 173 131]-11/[52 47 41]-3/[202 173 131]-7/[52 47 41]-13/[202 173 131]-49/[52 47 41]-1/[202 173 131]-23/[52 47 41]-7/', '[52 47 41]-18/[202 173 131]-7/[52 47 41]-3/[202 173 131]-7/[52 47 41]-12/[202 173 131]-61/[52 47 41]-2/[202 173 131]-11/[52 47 41]-7/', '[52 47 41]-28/[202 173 131]-7/[52 47 41]-11/[202 173 131]-61/[52 47 41]-4/[202 173 131]-10/[52 47 41]-7/', '[52 47 41]-28/[202 173 131]-7/[52 47 41]-10/[202 173 131]-54/[52 47 41]-1/[202 173 131]-6/[52 47 41]-6/[202 173 131]-10/[52 47 41]-6/', '[52 47 41]-31/[202 173 131]-3/[52 47 41]-10/[202 173 131]-56/[52 47 41]-1/[202 173 131]-5/[52 47 41]-8/[202 173 131]-9/[52 47 41]-5/', '[52 47 41]-33/[202 173 131]-2/[52 47 41]-8/[202 173 131]-62/[52 47 41]-15/[202 173 131]-3/[52 47 41]-5/', '[52 47 41]-43/[202 173 131]-62/[52 47 41]-23/', '[52 47 41]-42/[202 173 131]-63/[52 47 41]-23/', '[52 47 41]-41/[202 173 131]-64/[52 47 41]-23/', '[52 47 41]-41/[202 173 131]-64/[52 47 41]-23/', '[52 47 41]-34/[202 173 131]-1/[52 47 41]-5/[202 173 131]-64/[52 47 41]-24/', '[52 47 41]-42/[202 173 131]-62/[52 47 41]-24/', '[52 47 41]-46/[202 173 131]-58/[52 47 41]-24/', '[52 47 41]-50/[202 173 131]-54/[52 47 41]-11/[202 173 131]-3/[52 47 41]-10/', '[52 47 41]-52/[202 173 131]-26/[52 47 41]-1/[202 173 131]-25/[52 47 41]-9/[202 173 131]-6/[52 47 41]-9/', '[52 47 41]-54/[202 173 131]-23/[52 47 41]-1/[202 173 131]-26/[52 47 41]-9/[202 173 131]-7/[52 47 41]-8/', '[52 47 41]-56/[202 173 131]-47/[52 47 41]-9/[202 173 131]-9/[52 47 41]-7/', '[52 47 41]-56/[202 173 131]-47/[52 47 41]-7/[202 173 131]-11/[52 47 41]-7/', '[52 47 41]-56/[202 173 131]-48/[52 47 41]-6/[202 173 131]-12/[52 47 41]-6/', '[52 47 41]-58/[202 173 131]-45/[52 47 41]-6/[202 173 131]-13/[52 47 41]-6/', '[52 47 41]-53/[202 173 131]-2/[52 47 41]-3/[202 173 131]-45/[52 47 41]-6/[202 173 131]-14/[52 47 41]-5/', '[52 47 41]-53/[202 173 131]-50/[52 47 41]-5/[202 173 131]-15/[52 47 41]-5/', '[52 47 41]-55/[202 173 131]-48/[52 47 41]-5/[202 173 131]-16/[52 47 41]-4/', '[52 47 41]-57/[202 173 131]-45/[52 47 41]-6/[202 173 131]-16/[52 47 41]-4/', '[52 47 41]-56/[202 173 131]-46/[52 47 41]-1/[202 173 131]-1/[52 47 41]-3/[202 173 131]-17/[52 47 41]-4/', '[52 47 41]-54/[202 173 131]-51/[52 47 41]-2/[202 173 131]-17/[52 47 41]-4/', '[52 47 41]-52/[202 173 131]-72/[52 47 41]-4/', '[52 47 41]-51/[202 173 131]-52/[52 47 41]-1/[202 173 131]-20/[52 47 41]-4/', '[52 47 41]-51/[202 173 131]-74/[52 47 41]-3/', '[52 47 41]-48/[202 173 131]-77/[52 47 41]-3/', '[52 47 41]-46/[202 173 131]-79/[52 47 41]-3/', '[52 47 41]-44/[202 173 131]-54/[52 47 41]-1/[202 173 131]-27/[52 47 41]-2/', '[52 47 41]-42/[202 173 131]-56/[52 47 41]-1/[202 173 131]-27/[52 47 41]-2/', '[52 47 41]-40/[202 173 131]-82/[52 47 41]-1/[202 173 131]-3/[52 47 41]-2/', '[52 47 41]-38/[202 173 131]-85/[52 47 41]-1/[202 173 131]-3/[52 47 41]-1/', '[52 47 41]-37/[202 173 131]-85/[52 47 41]-1/[202 173 131]-4/[52 47 41]-1/', '[52 47 41]-37/[202 173 131]-55/[52 47 41]-1/[202 173 131]-32/[52 47 41]-1/[202 173 131]-1/[52 47 41]-1/', '[52 47 41]-36/[202 173 131]-10/[52 47 41]-4/[202 173 131]-75/[52 47 41]-3/', '[52 47 41]-39/[202 173 131]-2/[52 47 41]-17/[202 173 131]-42/[52 47 41]-1/[202 173 131]-25/[52 47 41]-2/', '[52 47 41]-61/[202 173 131]-38/[52 47 41]-2/[202 173 131]-25/[52 47 41]-1/[202 173 131]-1/', '[52 47 41]-64/[202 173 131]-35/[52 47 41]-1/[202 173 131]-28/', '[52 47 41]-65/[202 173 131]-34/[52 47 41]-1/[202 173 131]-25/[52 47 41]-1/[202 173 131]-2/', '[52 47 41]-67/[202 173 131]-31/[52 47 41]-1/[202 173 131]-29/', '[52 47 41]-68/[202 173 131]-29/[52 47 41]-1/[202 173 131]-28/[52 47 41]-1/[202 173 131]-1/', '[52 47 41]-68/[202 173 131]-60/', '[52 47 41]-69/[202 173 131]-59/', '[52 47 41]-70/[202 173 131]-58/', '[52 47 41]-70/[202 173 131]-58/', '[52 47 41]-68/[202 173 131]-60/', '[52 47 41]-69/[202 173 131]-23/[52 47 41]-1/[202 173 131]-35/', '[52 47 41]-69/[202 173 131]-59/', '[52 47 41]-68/[202 173 131]-44/[52 47 41]-1/[202 173 131]-15/', '[52 47 41]-68/[202 173 131]-22/[52 47 41]-2/[202 173 131]-20/[52 47 41]-4/[202 173 131]-12/', '[52 47 41]-68/[202 173 131]-22/[52 47 41]-2/[202 173 131]-36/', '[52 47 41]-69/[202 173 131]-15/[52 47 41]-2/[202 173 131]-2/[52 47 41]-3/[202 173 131]-15/[52 47 41]-1/[202 173 131]-21/', '[52 47 41]-71/[202 173 131]-17/[52 47 41]-2/[202 173 131]-18/[52 47 41]-3/[202 173 131]-11/[52 47 41]-1/[202 173 131]-5/', '[52 47 41]-72/[202 173 131]-9/[52 47 41]-1/[202 173 131]-4/[52 47 41]-4/[202 173 131]-15/[52 47 41]-2/[202 173 131]-2/[52 47 41]-1/[202 173 131]-15/[52 47 41]-1/[202 173 131]-2/', '[52 47 41]-72/[202 173 131]-8/[52 47 41]-10/[202 173 131]-2/[52 47 41]-2/[202 173 131]-12/[52 47 41]-1/[202 173 131]-8/[52 47 41]-3/[202 173 131]-7/[52 47 41]-1/[202 173 131]-2/', '[52 47 41]-71/[202 173 131]-4/[52 47 41]-2/[202 173 131]-1/[52 47 41]-13/[202 173 131]-1/[52 47 41]-2/[202 173 131]-11/[52 47 41]-1/[202 173 131]-8/[52 47 41]-3/[202 173 131]-2/[52 47 41]-3/[202 173 131]-6/', '[52 47 41]-70/[202 173 131]-2/[52 47 41]-19/[202 173 131]-13/[52 47 41]-2/[202 173 131]-8/[52 47 41]-3/[202 173 131]-2/[52 47 41]-5/[202 173 131]-4/', '[52 47 41]-96/[202 173 131]-8/[52 47 41]-2/[202 173 131]-9/[52 47 41]-1/[202 173 131]-2/[52 47 41]-7/[202 173 131]-3/', '[52 47 41]-79/[202 173 131]-2/[52 47 41]-16/[202 173 131]-8/[52 47 41]-1/[202 173 131]-9/[52 47 41]-1/[202 173 131]-1/[52 47 41]-8/[202 173 131]-3/', '[52 47 41]-76/[202 173 131]-6/[52 47 41]-15/[202 173 131]-1/[52 47 41]-1/[202 173 131]-8/[52 47 41]-1/[202 173 131]-9/[52 47 41]-9/[202 173 131]-1/[52 47 41]-1/', '[52 47 41]-75/[202 173 131]-6/[52 47 41]-16/[202 173 131]-9/[52 47 41]-3/[202 173 131]-8/[52 47 41]-9/[202 173 131]-1/[52 47 41]-1/', '[52 47 41]-74/[202 173 131]-7/[52 47 41]-13/[202 173 131]-2/[52 47 41]-2/[202 173 131]-5/[52 47 41]-6/[202 173 131]-5/[52 47 41]-2/[202 173 131]-2/[52 47 41]-7/[202 173 131]-2/[52 47 41]-1/', '[52 47 41]-73/[202 173 131]-8/[52 47 41]-13/[202 173 131]-3/[52 47 41]-2/[202 173 131]-3/[52 47 41]-8/[202 173 131]-3/[52 47 41]-3/[202 173 131]-3/[52 47 41]-5/[202 173 131]-3/[52 47 41]-1/', '[52 47 41]-73/[202 173 131]-8/[52 47 41]-13/[202 173 131]-3/[52 47 41]-2/[202 173 131]-3/[52 47 41]-15/[202 173 131]-2/[52 47 41]-5/[202 173 131]-3/[52 47 41]-1/', '[52 47 41]-73/[202 173 131]-9/[52 47 41]-13/[202 173 131]-2/[52 47 41]-1/[202 173 131]-5/[52 47 41]-10/[202 173 131]-1/[52 47 41]-4/[202 173 131]-1/[52 47 41]-5/[202 173 131]-2/[52 47 41]-2/', '[52 47 41]-73/[202 173 131]-9/[52 47 41]-11/[202 173 131]-1/[52 47 41]-1/[202 173 131]-2/[52 47 41]-2/[202 173 131]-4/[52 47 41]-10/[202 173 131]-1/[52 47 41]-10/[202 173 131]-2/[52 47 41]-2/', '[52 47 41]-74/[202 173 131]-7/[52 47 41]-12/[202 173 131]-4/[52 47 41]-2/[202 173 131]-1/[52 47 41]-1/[202 173 131]-3/[52 47 41]-20/[202 173 131]-2/[52 47 41]-2/', '[52 47 41]-75/[202 173 131]-6/[52 47 41]-13/[202 173 131]-1/[52 47 41]-4/[202 173 131]-1/[52 47 41]-1/[202 173 131]-4/[52 47 41]-2/[202 173 131]-1/[52 47 41]-14/[202 173 131]-1/[52 47 41]-1/[202 173 131]-1/[52 47 41]-3/', '[52 47 41]-76/[202 173 131]-5/[52 47 41]-21/[202 173 131]-4/[52 47 41]-1/[202 173 131]-1/[52 47 41]-15/[202 173 131]-2/[52 47 41]-3/', '[52 47 41]-78/[202 173 131]-1/[52 47 41]-21/[202 173 131]-1/[52 47 41]-2/[202 173 131]-6/[52 47 41]-14/[202 173 131]-2/[52 47 41]-3/', '[52 47 41]-104/[202 173 131]-7/[52 47 41]-11/[202 173 131]-2/[52 47 41]-4/', '[52 47 41]-105/[202 173 131]-13/[52 47 41]-3/[202 173 131]-1/[52 47 41]-6/']\n"
     ]
    },
    {
     "data": {
      "image/png": "[encoded data removed]",
      "text/plain": [
       "<Figure size 432x288 with 1 Axes>"
      ]
     },
     "metadata": {
      "needs_background": "light"
     },
     "output_type": "display_data"
    }
   ],
   "source": [
    "def codingRateRLE(k):\n",
    "    (img, imgseg) = kMeansAlgo(k)\n",
    "    imgData = imgseg\n",
    "    res = []\n",
    "    for i in range(len(imgData)):\n",
    "        colorActual = imgData[0][0]\n",
    "        string_row = \"\"\n",
    "        nombrePixel = 0\n",
    "        for j in range(len(imgData[0])):\n",
    "            if (imgData[i][j] == colorActual).all() :\n",
    "                nombrePixel += 1\n",
    "            else :\n",
    "                if nombrePixel != 0 :\n",
    "                    string = str(colorActual) + \"-\" + str(nombrePixel) + \"/\"\n",
    "                    string_row += string\n",
    "                nombrePixel = 1\n",
    "                colorActual = imgData[i][j]\n",
    "        string = str(colorActual) + \"-\" + str(nombrePixel) + \"/\"\n",
    "        string_row += string\n",
    "        res.append(string_row)\n",
    "        nombrePixel = 0\n",
    "    return res\n",
    "\n",
    "(img, img2)=kMeansAlgo(2)\n",
    "print(codingRateRLE(2))\n",
    "dessinerImg(img2)"
   ]
  }
 ],
 "metadata": {
  "interpreter": {
   "hash": "2c5af67b1d2fe4160132f6656f32baf7ccbf14a35ffa3cd1a680a6b747815161"
  },
  "kernelspec": {
   "display_name": "Python 3.8.8 64-bit ('base': conda)",
   "name": "python3"
  },
  "language_info": {
   "codemirror_mode": {
    "name": "ipython",
    "version": 3
   },
   "file_extension": ".py",
   "mimetype": "text/x-python",
   "name": "python",
   "nbconvert_exporter": "python",
   "pygments_lexer": "ipython3",
   "version": "3.8.8"
  }
 },
 "nbformat": 4,
 "nbformat_minor": 5
}
